{
  "nbformat": 4,
  "nbformat_minor": 0,
  "metadata": {
    "colab": {
      "provenance": [],
      "collapsed_sections": [
        "baPb5KMY8IAi",
        "CLqmAkANCp1-",
        "DH_VjgPzC2cd",
        "w26LLMVihxLa",
        "_05U5kwwMHT3",
        "dsjPHGFFMRWb",
        "0swRpGrWMzeS",
        "SKlRtowgNh1m",
        "KbJ_s6ezTF8E",
        "Y6FemTHtelLO",
        "gYAaYccdvh1L"
      ]
    },
    "kernelspec": {
      "name": "python3",
      "display_name": "Python 3"
    }
  },
  "cells": [
    {
      "cell_type": "code",
      "execution_count": 43,
      "metadata": {
        "colab": {
          "base_uri": "https://localhost:8080/"
        },
        "id": "HEP14r8SgPUw",
        "outputId": "7a64121a-a54d-4015-f17b-01bb4cef3748"
      },
      "outputs": [
        {
          "output_type": "stream",
          "name": "stdout",
          "text": [
            "Drive already mounted at /content/drive; to attempt to forcibly remount, call drive.mount(\"/content/drive\", force_remount=True).\n"
          ]
        }
      ],
      "source": [
        "from google.colab import drive\n",
        "drive.mount('/content/drive')"
      ]
    },
    {
      "cell_type": "code",
      "execution_count": 44,
      "metadata": {
        "id": "_EwcmZqRIpUV"
      },
      "outputs": [],
      "source": [
        "import pandas as pd\n",
        "import matplotlib.pyplot as plt\n",
        "import seaborn as sns\n",
        "import numpy as np\n",
        "from sklearn.preprocessing import StandardScaler, OneHotEncoder\n"
      ]
    },
    {
      "cell_type": "markdown",
      "metadata": {
        "id": "L88GjXQ7I6z4"
      },
      "source": [
        "# load dataset"
      ]
    },
    {
      "cell_type": "code",
      "execution_count": 45,
      "metadata": {
        "id": "PcU6DZkrJCWR"
      },
      "outputs": [],
      "source": [
        "datapath = '/content/drive/MyDrive/ml_code/nlp/Restaurant_Reviews.tsv'\n",
        "\n",
        "df = pd.read_csv(datapath, delimiter='\\t', quoting=3)\n"
      ]
    },
    {
      "cell_type": "markdown",
      "metadata": {
        "id": "oII9BW_iNDU-"
      },
      "source": [
        "# **understanding data**"
      ]
    },
    {
      "cell_type": "code",
      "execution_count": 46,
      "metadata": {
        "colab": {
          "base_uri": "https://localhost:8080/",
          "height": 362
        },
        "id": "U8ftCFQlJokw",
        "outputId": "04abbaec-c734-4f83-efc7-f93935b67886"
      },
      "outputs": [
        {
          "output_type": "execute_result",
          "data": {
            "text/plain": [
              "                                              Review  Liked\n",
              "0                           Wow... Loved this place.      1\n",
              "1                                 Crust is not good.      0\n",
              "2          Not tasty and the texture was just nasty.      0\n",
              "3  Stopped by during the late May bank holiday of...      1\n",
              "4  The selection on the menu was great and so wer...      1\n",
              "5     Now I am getting angry and I want my damn pho.      0\n",
              "6              Honeslty it didn't taste THAT fresh.)      0\n",
              "7  The potatoes were like rubber and you could te...      0\n",
              "8                          The fries were great too.      1\n",
              "9                                     A great touch.      1"
            ],
            "text/html": [
              "\n",
              "  <div id=\"df-bee13e78-63b9-44ff-891b-bd709eb6e0cb\" class=\"colab-df-container\">\n",
              "    <div>\n",
              "<style scoped>\n",
              "    .dataframe tbody tr th:only-of-type {\n",
              "        vertical-align: middle;\n",
              "    }\n",
              "\n",
              "    .dataframe tbody tr th {\n",
              "        vertical-align: top;\n",
              "    }\n",
              "\n",
              "    .dataframe thead th {\n",
              "        text-align: right;\n",
              "    }\n",
              "</style>\n",
              "<table border=\"1\" class=\"dataframe\">\n",
              "  <thead>\n",
              "    <tr style=\"text-align: right;\">\n",
              "      <th></th>\n",
              "      <th>Review</th>\n",
              "      <th>Liked</th>\n",
              "    </tr>\n",
              "  </thead>\n",
              "  <tbody>\n",
              "    <tr>\n",
              "      <th>0</th>\n",
              "      <td>Wow... Loved this place.</td>\n",
              "      <td>1</td>\n",
              "    </tr>\n",
              "    <tr>\n",
              "      <th>1</th>\n",
              "      <td>Crust is not good.</td>\n",
              "      <td>0</td>\n",
              "    </tr>\n",
              "    <tr>\n",
              "      <th>2</th>\n",
              "      <td>Not tasty and the texture was just nasty.</td>\n",
              "      <td>0</td>\n",
              "    </tr>\n",
              "    <tr>\n",
              "      <th>3</th>\n",
              "      <td>Stopped by during the late May bank holiday of...</td>\n",
              "      <td>1</td>\n",
              "    </tr>\n",
              "    <tr>\n",
              "      <th>4</th>\n",
              "      <td>The selection on the menu was great and so wer...</td>\n",
              "      <td>1</td>\n",
              "    </tr>\n",
              "    <tr>\n",
              "      <th>5</th>\n",
              "      <td>Now I am getting angry and I want my damn pho.</td>\n",
              "      <td>0</td>\n",
              "    </tr>\n",
              "    <tr>\n",
              "      <th>6</th>\n",
              "      <td>Honeslty it didn't taste THAT fresh.)</td>\n",
              "      <td>0</td>\n",
              "    </tr>\n",
              "    <tr>\n",
              "      <th>7</th>\n",
              "      <td>The potatoes were like rubber and you could te...</td>\n",
              "      <td>0</td>\n",
              "    </tr>\n",
              "    <tr>\n",
              "      <th>8</th>\n",
              "      <td>The fries were great too.</td>\n",
              "      <td>1</td>\n",
              "    </tr>\n",
              "    <tr>\n",
              "      <th>9</th>\n",
              "      <td>A great touch.</td>\n",
              "      <td>1</td>\n",
              "    </tr>\n",
              "  </tbody>\n",
              "</table>\n",
              "</div>\n",
              "    <div class=\"colab-df-buttons\">\n",
              "\n",
              "  <div class=\"colab-df-container\">\n",
              "    <button class=\"colab-df-convert\" onclick=\"convertToInteractive('df-bee13e78-63b9-44ff-891b-bd709eb6e0cb')\"\n",
              "            title=\"Convert this dataframe to an interactive table.\"\n",
              "            style=\"display:none;\">\n",
              "\n",
              "  <svg xmlns=\"http://www.w3.org/2000/svg\" height=\"24px\" viewBox=\"0 -960 960 960\">\n",
              "    <path d=\"M120-120v-720h720v720H120Zm60-500h600v-160H180v160Zm220 220h160v-160H400v160Zm0 220h160v-160H400v160ZM180-400h160v-160H180v160Zm440 0h160v-160H620v160ZM180-180h160v-160H180v160Zm440 0h160v-160H620v160Z\"/>\n",
              "  </svg>\n",
              "    </button>\n",
              "\n",
              "  <style>\n",
              "    .colab-df-container {\n",
              "      display:flex;\n",
              "      gap: 12px;\n",
              "    }\n",
              "\n",
              "    .colab-df-convert {\n",
              "      background-color: #E8F0FE;\n",
              "      border: none;\n",
              "      border-radius: 50%;\n",
              "      cursor: pointer;\n",
              "      display: none;\n",
              "      fill: #1967D2;\n",
              "      height: 32px;\n",
              "      padding: 0 0 0 0;\n",
              "      width: 32px;\n",
              "    }\n",
              "\n",
              "    .colab-df-convert:hover {\n",
              "      background-color: #E2EBFA;\n",
              "      box-shadow: 0px 1px 2px rgba(60, 64, 67, 0.3), 0px 1px 3px 1px rgba(60, 64, 67, 0.15);\n",
              "      fill: #174EA6;\n",
              "    }\n",
              "\n",
              "    .colab-df-buttons div {\n",
              "      margin-bottom: 4px;\n",
              "    }\n",
              "\n",
              "    [theme=dark] .colab-df-convert {\n",
              "      background-color: #3B4455;\n",
              "      fill: #D2E3FC;\n",
              "    }\n",
              "\n",
              "    [theme=dark] .colab-df-convert:hover {\n",
              "      background-color: #434B5C;\n",
              "      box-shadow: 0px 1px 3px 1px rgba(0, 0, 0, 0.15);\n",
              "      filter: drop-shadow(0px 1px 2px rgba(0, 0, 0, 0.3));\n",
              "      fill: #FFFFFF;\n",
              "    }\n",
              "  </style>\n",
              "\n",
              "    <script>\n",
              "      const buttonEl =\n",
              "        document.querySelector('#df-bee13e78-63b9-44ff-891b-bd709eb6e0cb button.colab-df-convert');\n",
              "      buttonEl.style.display =\n",
              "        google.colab.kernel.accessAllowed ? 'block' : 'none';\n",
              "\n",
              "      async function convertToInteractive(key) {\n",
              "        const element = document.querySelector('#df-bee13e78-63b9-44ff-891b-bd709eb6e0cb');\n",
              "        const dataTable =\n",
              "          await google.colab.kernel.invokeFunction('convertToInteractive',\n",
              "                                                    [key], {});\n",
              "        if (!dataTable) return;\n",
              "\n",
              "        const docLinkHtml = 'Like what you see? Visit the ' +\n",
              "          '<a target=\"_blank\" href=https://colab.research.google.com/notebooks/data_table.ipynb>data table notebook</a>'\n",
              "          + ' to learn more about interactive tables.';\n",
              "        element.innerHTML = '';\n",
              "        dataTable['output_type'] = 'display_data';\n",
              "        await google.colab.output.renderOutput(dataTable, element);\n",
              "        const docLink = document.createElement('div');\n",
              "        docLink.innerHTML = docLinkHtml;\n",
              "        element.appendChild(docLink);\n",
              "      }\n",
              "    </script>\n",
              "  </div>\n",
              "\n",
              "\n",
              "<div id=\"df-6c5230e0-8937-427b-923a-28b0627f26f4\">\n",
              "  <button class=\"colab-df-quickchart\" onclick=\"quickchart('df-6c5230e0-8937-427b-923a-28b0627f26f4')\"\n",
              "            title=\"Suggest charts\"\n",
              "            style=\"display:none;\">\n",
              "\n",
              "<svg xmlns=\"http://www.w3.org/2000/svg\" height=\"24px\"viewBox=\"0 0 24 24\"\n",
              "     width=\"24px\">\n",
              "    <g>\n",
              "        <path d=\"M19 3H5c-1.1 0-2 .9-2 2v14c0 1.1.9 2 2 2h14c1.1 0 2-.9 2-2V5c0-1.1-.9-2-2-2zM9 17H7v-7h2v7zm4 0h-2V7h2v10zm4 0h-2v-4h2v4z\"/>\n",
              "    </g>\n",
              "</svg>\n",
              "  </button>\n",
              "\n",
              "<style>\n",
              "  .colab-df-quickchart {\n",
              "      --bg-color: #E8F0FE;\n",
              "      --fill-color: #1967D2;\n",
              "      --hover-bg-color: #E2EBFA;\n",
              "      --hover-fill-color: #174EA6;\n",
              "      --disabled-fill-color: #AAA;\n",
              "      --disabled-bg-color: #DDD;\n",
              "  }\n",
              "\n",
              "  [theme=dark] .colab-df-quickchart {\n",
              "      --bg-color: #3B4455;\n",
              "      --fill-color: #D2E3FC;\n",
              "      --hover-bg-color: #434B5C;\n",
              "      --hover-fill-color: #FFFFFF;\n",
              "      --disabled-bg-color: #3B4455;\n",
              "      --disabled-fill-color: #666;\n",
              "  }\n",
              "\n",
              "  .colab-df-quickchart {\n",
              "    background-color: var(--bg-color);\n",
              "    border: none;\n",
              "    border-radius: 50%;\n",
              "    cursor: pointer;\n",
              "    display: none;\n",
              "    fill: var(--fill-color);\n",
              "    height: 32px;\n",
              "    padding: 0;\n",
              "    width: 32px;\n",
              "  }\n",
              "\n",
              "  .colab-df-quickchart:hover {\n",
              "    background-color: var(--hover-bg-color);\n",
              "    box-shadow: 0 1px 2px rgba(60, 64, 67, 0.3), 0 1px 3px 1px rgba(60, 64, 67, 0.15);\n",
              "    fill: var(--button-hover-fill-color);\n",
              "  }\n",
              "\n",
              "  .colab-df-quickchart-complete:disabled,\n",
              "  .colab-df-quickchart-complete:disabled:hover {\n",
              "    background-color: var(--disabled-bg-color);\n",
              "    fill: var(--disabled-fill-color);\n",
              "    box-shadow: none;\n",
              "  }\n",
              "\n",
              "  .colab-df-spinner {\n",
              "    border: 2px solid var(--fill-color);\n",
              "    border-color: transparent;\n",
              "    border-bottom-color: var(--fill-color);\n",
              "    animation:\n",
              "      spin 1s steps(1) infinite;\n",
              "  }\n",
              "\n",
              "  @keyframes spin {\n",
              "    0% {\n",
              "      border-color: transparent;\n",
              "      border-bottom-color: var(--fill-color);\n",
              "      border-left-color: var(--fill-color);\n",
              "    }\n",
              "    20% {\n",
              "      border-color: transparent;\n",
              "      border-left-color: var(--fill-color);\n",
              "      border-top-color: var(--fill-color);\n",
              "    }\n",
              "    30% {\n",
              "      border-color: transparent;\n",
              "      border-left-color: var(--fill-color);\n",
              "      border-top-color: var(--fill-color);\n",
              "      border-right-color: var(--fill-color);\n",
              "    }\n",
              "    40% {\n",
              "      border-color: transparent;\n",
              "      border-right-color: var(--fill-color);\n",
              "      border-top-color: var(--fill-color);\n",
              "    }\n",
              "    60% {\n",
              "      border-color: transparent;\n",
              "      border-right-color: var(--fill-color);\n",
              "    }\n",
              "    80% {\n",
              "      border-color: transparent;\n",
              "      border-right-color: var(--fill-color);\n",
              "      border-bottom-color: var(--fill-color);\n",
              "    }\n",
              "    90% {\n",
              "      border-color: transparent;\n",
              "      border-bottom-color: var(--fill-color);\n",
              "    }\n",
              "  }\n",
              "</style>\n",
              "\n",
              "  <script>\n",
              "    async function quickchart(key) {\n",
              "      const quickchartButtonEl =\n",
              "        document.querySelector('#' + key + ' button');\n",
              "      quickchartButtonEl.disabled = true;  // To prevent multiple clicks.\n",
              "      quickchartButtonEl.classList.add('colab-df-spinner');\n",
              "      try {\n",
              "        const charts = await google.colab.kernel.invokeFunction(\n",
              "            'suggestCharts', [key], {});\n",
              "      } catch (error) {\n",
              "        console.error('Error during call to suggestCharts:', error);\n",
              "      }\n",
              "      quickchartButtonEl.classList.remove('colab-df-spinner');\n",
              "      quickchartButtonEl.classList.add('colab-df-quickchart-complete');\n",
              "    }\n",
              "    (() => {\n",
              "      let quickchartButtonEl =\n",
              "        document.querySelector('#df-6c5230e0-8937-427b-923a-28b0627f26f4 button');\n",
              "      quickchartButtonEl.style.display =\n",
              "        google.colab.kernel.accessAllowed ? 'block' : 'none';\n",
              "    })();\n",
              "  </script>\n",
              "</div>\n",
              "\n",
              "    </div>\n",
              "  </div>\n"
            ],
            "application/vnd.google.colaboratory.intrinsic+json": {
              "type": "dataframe",
              "variable_name": "df",
              "summary": "{\n  \"name\": \"df\",\n  \"rows\": 1000,\n  \"fields\": [\n    {\n      \"column\": \"Review\",\n      \"properties\": {\n        \"dtype\": \"string\",\n        \"num_unique_values\": 996,\n        \"samples\": [\n          \"They were excellent.\",\n          \"Your servers suck, wait, correction, our server Heimer sucked.\",\n          \"Will be back again!\"\n        ],\n        \"semantic_type\": \"\",\n        \"description\": \"\"\n      }\n    },\n    {\n      \"column\": \"Liked\",\n      \"properties\": {\n        \"dtype\": \"number\",\n        \"std\": 0,\n        \"min\": 0,\n        \"max\": 1,\n        \"num_unique_values\": 2,\n        \"samples\": [\n          0,\n          1\n        ],\n        \"semantic_type\": \"\",\n        \"description\": \"\"\n      }\n    }\n  ]\n}"
            }
          },
          "metadata": {},
          "execution_count": 46
        }
      ],
      "source": [
        "df.head(10)"
      ]
    },
    {
      "cell_type": "code",
      "execution_count": 47,
      "metadata": {
        "colab": {
          "base_uri": "https://localhost:8080/"
        },
        "id": "R2D3Qe8qJutN",
        "outputId": "d9de15fa-4c87-432f-b4d9-4ebd5e441b47"
      },
      "outputs": [
        {
          "output_type": "stream",
          "name": "stdout",
          "text": [
            "<class 'pandas.core.frame.DataFrame'>\n",
            "RangeIndex: 1000 entries, 0 to 999\n",
            "Data columns (total 2 columns):\n",
            " #   Column  Non-Null Count  Dtype \n",
            "---  ------  --------------  ----- \n",
            " 0   Review  1000 non-null   object\n",
            " 1   Liked   1000 non-null   int64 \n",
            "dtypes: int64(1), object(1)\n",
            "memory usage: 15.8+ KB\n",
            "None\n"
          ]
        }
      ],
      "source": [
        "print(df.info())"
      ]
    },
    {
      "cell_type": "markdown",
      "metadata": {
        "id": "DtiOwP_gJ75E"
      },
      "source": [
        "# handeling missing data"
      ]
    },
    {
      "cell_type": "code",
      "source": [
        "max_non_null_val = df[\"Liked\"].count()\n",
        "print(\"Percentage of missing values in each column:\\n\")\n",
        "missing_percent = []\n",
        "for col in df.columns:\n",
        "  missing_percent.append(df[col].isnull().sum()/max_non_null_val*100)\n",
        "  print(f\"{col} : {df[col].isnull().sum()/max_non_null_val*100:.2f}%\")"
      ],
      "metadata": {
        "colab": {
          "base_uri": "https://localhost:8080/"
        },
        "id": "SKBSO5Th9YGa",
        "outputId": "863b978c-1c71-43ad-9467-be0acf0b9dca"
      },
      "execution_count": 48,
      "outputs": [
        {
          "output_type": "stream",
          "name": "stdout",
          "text": [
            "Percentage of missing values in each column:\n",
            "\n",
            "Review : 0.00%\n",
            "Liked : 0.00%\n"
          ]
        }
      ]
    },
    {
      "cell_type": "markdown",
      "source": [
        "# Creating a VADER model\n"
      ],
      "metadata": {
        "id": "IBg_EQtdc0f6"
      }
    },
    {
      "cell_type": "code",
      "source": [
        "import nltk\n",
        "from nltk.sentiment import SentimentIntensityAnalyzer\n",
        "nltk.download('vader_lexicon')\n",
        "sia = SentimentIntensityAnalyzer()"
      ],
      "metadata": {
        "colab": {
          "base_uri": "https://localhost:8080/"
        },
        "id": "DF5CmJXNc0LW",
        "outputId": "8bf90bf4-7a08-486f-da4b-b17fa92dd461"
      },
      "execution_count": 49,
      "outputs": [
        {
          "output_type": "stream",
          "name": "stderr",
          "text": [
            "[nltk_data] Downloading package vader_lexicon to /root/nltk_data...\n",
            "[nltk_data]   Package vader_lexicon is already up-to-date!\n"
          ]
        }
      ]
    },
    {
      "cell_type": "code",
      "source": [
        "sia.polarity_scores(\"this is good stuff.\")"
      ],
      "metadata": {
        "colab": {
          "base_uri": "https://localhost:8080/"
        },
        "id": "uFysSSeGf3bC",
        "outputId": "17cabb19-a255-4f5c-e109-a8d469eda8ed"
      },
      "execution_count": 50,
      "outputs": [
        {
          "output_type": "execute_result",
          "data": {
            "text/plain": [
              "{'neg': 0.0, 'neu': 0.508, 'pos': 0.492, 'compound': 0.4404}"
            ]
          },
          "metadata": {},
          "execution_count": 50
        }
      ]
    },
    {
      "cell_type": "code",
      "source": [
        "scores_list =[]\n",
        "for i in range(df[\"Review\"].count()):\n",
        "  score = sia.polarity_scores(df[\"Review\"].values[i])\n",
        "  scores_list.append(score)\n",
        "print(scores_list[1])\n"
      ],
      "metadata": {
        "colab": {
          "base_uri": "https://localhost:8080/"
        },
        "id": "RHoiFEXVg44S",
        "outputId": "677553c8-8275-4f2b-f6f0-7700374bcb78"
      },
      "execution_count": 51,
      "outputs": [
        {
          "output_type": "stream",
          "name": "stdout",
          "text": [
            "{'neg': 0.445, 'neu': 0.555, 'pos': 0.0, 'compound': -0.3412}\n"
          ]
        }
      ]
    },
    {
      "cell_type": "code",
      "source": [
        "scores_pd = pd.DataFrame(scores_list)"
      ],
      "metadata": {
        "id": "BEgFFvzijXcq"
      },
      "execution_count": 52,
      "outputs": []
    },
    {
      "cell_type": "code",
      "source": [
        "scores_pd"
      ],
      "metadata": {
        "colab": {
          "base_uri": "https://localhost:8080/",
          "height": 423
        },
        "id": "S0BUCTsAjiIw",
        "outputId": "be97c546-84fc-4139-8a41-37598e7d0a1a"
      },
      "execution_count": 53,
      "outputs": [
        {
          "output_type": "execute_result",
          "data": {
            "text/plain": [
              "       neg    neu    pos  compound\n",
              "0    0.000  0.435  0.565    0.5994\n",
              "1    0.445  0.555  0.000   -0.3412\n",
              "2    0.340  0.660  0.000   -0.5574\n",
              "3    0.093  0.585  0.322    0.6908\n",
              "4    0.000  0.728  0.272    0.6249\n",
              "..     ...    ...    ...       ...\n",
              "995  0.000  1.000  0.000    0.0000\n",
              "996  0.000  1.000  0.000    0.0000\n",
              "997  0.242  0.758  0.000   -0.3724\n",
              "998  0.000  1.000  0.000    0.0000\n",
              "999  0.000  0.908  0.092    0.3875\n",
              "\n",
              "[1000 rows x 4 columns]"
            ],
            "text/html": [
              "\n",
              "  <div id=\"df-446f4065-a9df-494a-a2dd-81184ada39c0\" class=\"colab-df-container\">\n",
              "    <div>\n",
              "<style scoped>\n",
              "    .dataframe tbody tr th:only-of-type {\n",
              "        vertical-align: middle;\n",
              "    }\n",
              "\n",
              "    .dataframe tbody tr th {\n",
              "        vertical-align: top;\n",
              "    }\n",
              "\n",
              "    .dataframe thead th {\n",
              "        text-align: right;\n",
              "    }\n",
              "</style>\n",
              "<table border=\"1\" class=\"dataframe\">\n",
              "  <thead>\n",
              "    <tr style=\"text-align: right;\">\n",
              "      <th></th>\n",
              "      <th>neg</th>\n",
              "      <th>neu</th>\n",
              "      <th>pos</th>\n",
              "      <th>compound</th>\n",
              "    </tr>\n",
              "  </thead>\n",
              "  <tbody>\n",
              "    <tr>\n",
              "      <th>0</th>\n",
              "      <td>0.000</td>\n",
              "      <td>0.435</td>\n",
              "      <td>0.565</td>\n",
              "      <td>0.5994</td>\n",
              "    </tr>\n",
              "    <tr>\n",
              "      <th>1</th>\n",
              "      <td>0.445</td>\n",
              "      <td>0.555</td>\n",
              "      <td>0.000</td>\n",
              "      <td>-0.3412</td>\n",
              "    </tr>\n",
              "    <tr>\n",
              "      <th>2</th>\n",
              "      <td>0.340</td>\n",
              "      <td>0.660</td>\n",
              "      <td>0.000</td>\n",
              "      <td>-0.5574</td>\n",
              "    </tr>\n",
              "    <tr>\n",
              "      <th>3</th>\n",
              "      <td>0.093</td>\n",
              "      <td>0.585</td>\n",
              "      <td>0.322</td>\n",
              "      <td>0.6908</td>\n",
              "    </tr>\n",
              "    <tr>\n",
              "      <th>4</th>\n",
              "      <td>0.000</td>\n",
              "      <td>0.728</td>\n",
              "      <td>0.272</td>\n",
              "      <td>0.6249</td>\n",
              "    </tr>\n",
              "    <tr>\n",
              "      <th>...</th>\n",
              "      <td>...</td>\n",
              "      <td>...</td>\n",
              "      <td>...</td>\n",
              "      <td>...</td>\n",
              "    </tr>\n",
              "    <tr>\n",
              "      <th>995</th>\n",
              "      <td>0.000</td>\n",
              "      <td>1.000</td>\n",
              "      <td>0.000</td>\n",
              "      <td>0.0000</td>\n",
              "    </tr>\n",
              "    <tr>\n",
              "      <th>996</th>\n",
              "      <td>0.000</td>\n",
              "      <td>1.000</td>\n",
              "      <td>0.000</td>\n",
              "      <td>0.0000</td>\n",
              "    </tr>\n",
              "    <tr>\n",
              "      <th>997</th>\n",
              "      <td>0.242</td>\n",
              "      <td>0.758</td>\n",
              "      <td>0.000</td>\n",
              "      <td>-0.3724</td>\n",
              "    </tr>\n",
              "    <tr>\n",
              "      <th>998</th>\n",
              "      <td>0.000</td>\n",
              "      <td>1.000</td>\n",
              "      <td>0.000</td>\n",
              "      <td>0.0000</td>\n",
              "    </tr>\n",
              "    <tr>\n",
              "      <th>999</th>\n",
              "      <td>0.000</td>\n",
              "      <td>0.908</td>\n",
              "      <td>0.092</td>\n",
              "      <td>0.3875</td>\n",
              "    </tr>\n",
              "  </tbody>\n",
              "</table>\n",
              "<p>1000 rows × 4 columns</p>\n",
              "</div>\n",
              "    <div class=\"colab-df-buttons\">\n",
              "\n",
              "  <div class=\"colab-df-container\">\n",
              "    <button class=\"colab-df-convert\" onclick=\"convertToInteractive('df-446f4065-a9df-494a-a2dd-81184ada39c0')\"\n",
              "            title=\"Convert this dataframe to an interactive table.\"\n",
              "            style=\"display:none;\">\n",
              "\n",
              "  <svg xmlns=\"http://www.w3.org/2000/svg\" height=\"24px\" viewBox=\"0 -960 960 960\">\n",
              "    <path d=\"M120-120v-720h720v720H120Zm60-500h600v-160H180v160Zm220 220h160v-160H400v160Zm0 220h160v-160H400v160ZM180-400h160v-160H180v160Zm440 0h160v-160H620v160ZM180-180h160v-160H180v160Zm440 0h160v-160H620v160Z\"/>\n",
              "  </svg>\n",
              "    </button>\n",
              "\n",
              "  <style>\n",
              "    .colab-df-container {\n",
              "      display:flex;\n",
              "      gap: 12px;\n",
              "    }\n",
              "\n",
              "    .colab-df-convert {\n",
              "      background-color: #E8F0FE;\n",
              "      border: none;\n",
              "      border-radius: 50%;\n",
              "      cursor: pointer;\n",
              "      display: none;\n",
              "      fill: #1967D2;\n",
              "      height: 32px;\n",
              "      padding: 0 0 0 0;\n",
              "      width: 32px;\n",
              "    }\n",
              "\n",
              "    .colab-df-convert:hover {\n",
              "      background-color: #E2EBFA;\n",
              "      box-shadow: 0px 1px 2px rgba(60, 64, 67, 0.3), 0px 1px 3px 1px rgba(60, 64, 67, 0.15);\n",
              "      fill: #174EA6;\n",
              "    }\n",
              "\n",
              "    .colab-df-buttons div {\n",
              "      margin-bottom: 4px;\n",
              "    }\n",
              "\n",
              "    [theme=dark] .colab-df-convert {\n",
              "      background-color: #3B4455;\n",
              "      fill: #D2E3FC;\n",
              "    }\n",
              "\n",
              "    [theme=dark] .colab-df-convert:hover {\n",
              "      background-color: #434B5C;\n",
              "      box-shadow: 0px 1px 3px 1px rgba(0, 0, 0, 0.15);\n",
              "      filter: drop-shadow(0px 1px 2px rgba(0, 0, 0, 0.3));\n",
              "      fill: #FFFFFF;\n",
              "    }\n",
              "  </style>\n",
              "\n",
              "    <script>\n",
              "      const buttonEl =\n",
              "        document.querySelector('#df-446f4065-a9df-494a-a2dd-81184ada39c0 button.colab-df-convert');\n",
              "      buttonEl.style.display =\n",
              "        google.colab.kernel.accessAllowed ? 'block' : 'none';\n",
              "\n",
              "      async function convertToInteractive(key) {\n",
              "        const element = document.querySelector('#df-446f4065-a9df-494a-a2dd-81184ada39c0');\n",
              "        const dataTable =\n",
              "          await google.colab.kernel.invokeFunction('convertToInteractive',\n",
              "                                                    [key], {});\n",
              "        if (!dataTable) return;\n",
              "\n",
              "        const docLinkHtml = 'Like what you see? Visit the ' +\n",
              "          '<a target=\"_blank\" href=https://colab.research.google.com/notebooks/data_table.ipynb>data table notebook</a>'\n",
              "          + ' to learn more about interactive tables.';\n",
              "        element.innerHTML = '';\n",
              "        dataTable['output_type'] = 'display_data';\n",
              "        await google.colab.output.renderOutput(dataTable, element);\n",
              "        const docLink = document.createElement('div');\n",
              "        docLink.innerHTML = docLinkHtml;\n",
              "        element.appendChild(docLink);\n",
              "      }\n",
              "    </script>\n",
              "  </div>\n",
              "\n",
              "\n",
              "<div id=\"df-f2610652-5ce2-47b8-a614-38245a5a5bb7\">\n",
              "  <button class=\"colab-df-quickchart\" onclick=\"quickchart('df-f2610652-5ce2-47b8-a614-38245a5a5bb7')\"\n",
              "            title=\"Suggest charts\"\n",
              "            style=\"display:none;\">\n",
              "\n",
              "<svg xmlns=\"http://www.w3.org/2000/svg\" height=\"24px\"viewBox=\"0 0 24 24\"\n",
              "     width=\"24px\">\n",
              "    <g>\n",
              "        <path d=\"M19 3H5c-1.1 0-2 .9-2 2v14c0 1.1.9 2 2 2h14c1.1 0 2-.9 2-2V5c0-1.1-.9-2-2-2zM9 17H7v-7h2v7zm4 0h-2V7h2v10zm4 0h-2v-4h2v4z\"/>\n",
              "    </g>\n",
              "</svg>\n",
              "  </button>\n",
              "\n",
              "<style>\n",
              "  .colab-df-quickchart {\n",
              "      --bg-color: #E8F0FE;\n",
              "      --fill-color: #1967D2;\n",
              "      --hover-bg-color: #E2EBFA;\n",
              "      --hover-fill-color: #174EA6;\n",
              "      --disabled-fill-color: #AAA;\n",
              "      --disabled-bg-color: #DDD;\n",
              "  }\n",
              "\n",
              "  [theme=dark] .colab-df-quickchart {\n",
              "      --bg-color: #3B4455;\n",
              "      --fill-color: #D2E3FC;\n",
              "      --hover-bg-color: #434B5C;\n",
              "      --hover-fill-color: #FFFFFF;\n",
              "      --disabled-bg-color: #3B4455;\n",
              "      --disabled-fill-color: #666;\n",
              "  }\n",
              "\n",
              "  .colab-df-quickchart {\n",
              "    background-color: var(--bg-color);\n",
              "    border: none;\n",
              "    border-radius: 50%;\n",
              "    cursor: pointer;\n",
              "    display: none;\n",
              "    fill: var(--fill-color);\n",
              "    height: 32px;\n",
              "    padding: 0;\n",
              "    width: 32px;\n",
              "  }\n",
              "\n",
              "  .colab-df-quickchart:hover {\n",
              "    background-color: var(--hover-bg-color);\n",
              "    box-shadow: 0 1px 2px rgba(60, 64, 67, 0.3), 0 1px 3px 1px rgba(60, 64, 67, 0.15);\n",
              "    fill: var(--button-hover-fill-color);\n",
              "  }\n",
              "\n",
              "  .colab-df-quickchart-complete:disabled,\n",
              "  .colab-df-quickchart-complete:disabled:hover {\n",
              "    background-color: var(--disabled-bg-color);\n",
              "    fill: var(--disabled-fill-color);\n",
              "    box-shadow: none;\n",
              "  }\n",
              "\n",
              "  .colab-df-spinner {\n",
              "    border: 2px solid var(--fill-color);\n",
              "    border-color: transparent;\n",
              "    border-bottom-color: var(--fill-color);\n",
              "    animation:\n",
              "      spin 1s steps(1) infinite;\n",
              "  }\n",
              "\n",
              "  @keyframes spin {\n",
              "    0% {\n",
              "      border-color: transparent;\n",
              "      border-bottom-color: var(--fill-color);\n",
              "      border-left-color: var(--fill-color);\n",
              "    }\n",
              "    20% {\n",
              "      border-color: transparent;\n",
              "      border-left-color: var(--fill-color);\n",
              "      border-top-color: var(--fill-color);\n",
              "    }\n",
              "    30% {\n",
              "      border-color: transparent;\n",
              "      border-left-color: var(--fill-color);\n",
              "      border-top-color: var(--fill-color);\n",
              "      border-right-color: var(--fill-color);\n",
              "    }\n",
              "    40% {\n",
              "      border-color: transparent;\n",
              "      border-right-color: var(--fill-color);\n",
              "      border-top-color: var(--fill-color);\n",
              "    }\n",
              "    60% {\n",
              "      border-color: transparent;\n",
              "      border-right-color: var(--fill-color);\n",
              "    }\n",
              "    80% {\n",
              "      border-color: transparent;\n",
              "      border-right-color: var(--fill-color);\n",
              "      border-bottom-color: var(--fill-color);\n",
              "    }\n",
              "    90% {\n",
              "      border-color: transparent;\n",
              "      border-bottom-color: var(--fill-color);\n",
              "    }\n",
              "  }\n",
              "</style>\n",
              "\n",
              "  <script>\n",
              "    async function quickchart(key) {\n",
              "      const quickchartButtonEl =\n",
              "        document.querySelector('#' + key + ' button');\n",
              "      quickchartButtonEl.disabled = true;  // To prevent multiple clicks.\n",
              "      quickchartButtonEl.classList.add('colab-df-spinner');\n",
              "      try {\n",
              "        const charts = await google.colab.kernel.invokeFunction(\n",
              "            'suggestCharts', [key], {});\n",
              "      } catch (error) {\n",
              "        console.error('Error during call to suggestCharts:', error);\n",
              "      }\n",
              "      quickchartButtonEl.classList.remove('colab-df-spinner');\n",
              "      quickchartButtonEl.classList.add('colab-df-quickchart-complete');\n",
              "    }\n",
              "    (() => {\n",
              "      let quickchartButtonEl =\n",
              "        document.querySelector('#df-f2610652-5ce2-47b8-a614-38245a5a5bb7 button');\n",
              "      quickchartButtonEl.style.display =\n",
              "        google.colab.kernel.accessAllowed ? 'block' : 'none';\n",
              "    })();\n",
              "  </script>\n",
              "</div>\n",
              "\n",
              "  <div id=\"id_5483915d-960b-482f-9dd5-3079b0b2c8a5\">\n",
              "    <style>\n",
              "      .colab-df-generate {\n",
              "        background-color: #E8F0FE;\n",
              "        border: none;\n",
              "        border-radius: 50%;\n",
              "        cursor: pointer;\n",
              "        display: none;\n",
              "        fill: #1967D2;\n",
              "        height: 32px;\n",
              "        padding: 0 0 0 0;\n",
              "        width: 32px;\n",
              "      }\n",
              "\n",
              "      .colab-df-generate:hover {\n",
              "        background-color: #E2EBFA;\n",
              "        box-shadow: 0px 1px 2px rgba(60, 64, 67, 0.3), 0px 1px 3px 1px rgba(60, 64, 67, 0.15);\n",
              "        fill: #174EA6;\n",
              "      }\n",
              "\n",
              "      [theme=dark] .colab-df-generate {\n",
              "        background-color: #3B4455;\n",
              "        fill: #D2E3FC;\n",
              "      }\n",
              "\n",
              "      [theme=dark] .colab-df-generate:hover {\n",
              "        background-color: #434B5C;\n",
              "        box-shadow: 0px 1px 3px 1px rgba(0, 0, 0, 0.15);\n",
              "        filter: drop-shadow(0px 1px 2px rgba(0, 0, 0, 0.3));\n",
              "        fill: #FFFFFF;\n",
              "      }\n",
              "    </style>\n",
              "    <button class=\"colab-df-generate\" onclick=\"generateWithVariable('scores_pd')\"\n",
              "            title=\"Generate code using this dataframe.\"\n",
              "            style=\"display:none;\">\n",
              "\n",
              "  <svg xmlns=\"http://www.w3.org/2000/svg\" height=\"24px\"viewBox=\"0 0 24 24\"\n",
              "       width=\"24px\">\n",
              "    <path d=\"M7,19H8.4L18.45,9,17,7.55,7,17.6ZM5,21V16.75L18.45,3.32a2,2,0,0,1,2.83,0l1.4,1.43a1.91,1.91,0,0,1,.58,1.4,1.91,1.91,0,0,1-.58,1.4L9.25,21ZM18.45,9,17,7.55Zm-12,3A5.31,5.31,0,0,0,4.9,8.1,5.31,5.31,0,0,0,1,6.5,5.31,5.31,0,0,0,4.9,4.9,5.31,5.31,0,0,0,6.5,1,5.31,5.31,0,0,0,8.1,4.9,5.31,5.31,0,0,0,12,6.5,5.46,5.46,0,0,0,6.5,12Z\"/>\n",
              "  </svg>\n",
              "    </button>\n",
              "    <script>\n",
              "      (() => {\n",
              "      const buttonEl =\n",
              "        document.querySelector('#id_5483915d-960b-482f-9dd5-3079b0b2c8a5 button.colab-df-generate');\n",
              "      buttonEl.style.display =\n",
              "        google.colab.kernel.accessAllowed ? 'block' : 'none';\n",
              "\n",
              "      buttonEl.onclick = () => {\n",
              "        google.colab.notebook.generateWithVariable('scores_pd');\n",
              "      }\n",
              "      })();\n",
              "    </script>\n",
              "  </div>\n",
              "\n",
              "    </div>\n",
              "  </div>\n"
            ],
            "application/vnd.google.colaboratory.intrinsic+json": {
              "type": "dataframe",
              "variable_name": "scores_pd",
              "summary": "{\n  \"name\": \"scores_pd\",\n  \"rows\": 1000,\n  \"fields\": [\n    {\n      \"column\": \"neg\",\n      \"properties\": {\n        \"dtype\": \"number\",\n        \"std\": 0.1712263464912241,\n        \"min\": 0.0,\n        \"max\": 1.0,\n        \"num_unique_values\": 224,\n        \"samples\": [\n          0.345,\n          0.22,\n          0.506\n        ],\n        \"semantic_type\": \"\",\n        \"description\": \"\"\n      }\n    },\n    {\n      \"column\": \"neu\",\n      \"properties\": {\n        \"dtype\": \"number\",\n        \"std\": 0.22218892572474155,\n        \"min\": 0.0,\n        \"max\": 1.0,\n        \"num_unique_values\": 407,\n        \"samples\": [\n          0.631,\n          0.597,\n          0.524\n        ],\n        \"semantic_type\": \"\",\n        \"description\": \"\"\n      }\n    },\n    {\n      \"column\": \"pos\",\n      \"properties\": {\n        \"dtype\": \"number\",\n        \"std\": 0.220646570977852,\n        \"min\": 0.0,\n        \"max\": 1.0,\n        \"num_unique_values\": 318,\n        \"samples\": [\n          0.089,\n          0.291,\n          0.435\n        ],\n        \"semantic_type\": \"\",\n        \"description\": \"\"\n      }\n    },\n    {\n      \"column\": \"compound\",\n      \"properties\": {\n        \"dtype\": \"number\",\n        \"std\": 0.457893649313945,\n        \"min\": -0.8637,\n        \"max\": 0.9524,\n        \"num_unique_values\": 362,\n        \"samples\": [\n          -0.3802,\n          -0.8402,\n          0.5859\n        ],\n        \"semantic_type\": \"\",\n        \"description\": \"\"\n      }\n    }\n  ]\n}"
            }
          },
          "metadata": {},
          "execution_count": 53
        }
      ]
    },
    {
      "cell_type": "code",
      "source": [
        "review_pred = []\n",
        "for i in range(scores_pd[\"compound\"].count()):\n",
        "  if(scores_pd[\"compound\"][i] > 0):\n",
        "    review_pred.append(1);\n",
        "  else:\n",
        "    review_pred.append(0)\n",
        "review_pred = np.array(review_pred)\n",
        "print(review_pred[2])"
      ],
      "metadata": {
        "colab": {
          "base_uri": "https://localhost:8080/"
        },
        "id": "9deO-YNbj88L",
        "outputId": "0fca8b64-14c4-4ca8-859b-ae1c6bb86e4f"
      },
      "execution_count": 54,
      "outputs": [
        {
          "output_type": "stream",
          "name": "stdout",
          "text": [
            "0\n"
          ]
        }
      ]
    },
    {
      "cell_type": "code",
      "source": [
        "y = np.array(df[\"Liked\"])"
      ],
      "metadata": {
        "id": "SKzUXpwbk0pY"
      },
      "execution_count": 55,
      "outputs": []
    },
    {
      "cell_type": "code",
      "source": [
        "from sklearn.metrics import accuracy_score, confusion_matrix\n",
        "cm = confusion_matrix(y, review_pred)\n",
        "print(\"Confusion Matrix:\")\n",
        "print(cm)\n",
        "print(\"Accuracy Score:\")\n",
        "print(accuracy_score(y, review_pred))"
      ],
      "metadata": {
        "colab": {
          "base_uri": "https://localhost:8080/"
        },
        "id": "BNOAlsailgjX",
        "outputId": "b5b96145-2cf6-4194-cca7-51351f53ae82"
      },
      "execution_count": 56,
      "outputs": [
        {
          "output_type": "stream",
          "name": "stdout",
          "text": [
            "Confusion Matrix:\n",
            "[[406  94]\n",
            " [ 94 406]]\n",
            "Accuracy Score:\n",
            "0.812\n"
          ]
        }
      ]
    },
    {
      "cell_type": "markdown",
      "source": [
        "#Loading the Spacy model\n"
      ],
      "metadata": {
        "id": "baPb5KMY8IAi"
      }
    },
    {
      "cell_type": "code",
      "source": [
        "!pip install spacy\n",
        "!python -m spacy download en_core_web_lg\n"
      ],
      "metadata": {
        "colab": {
          "base_uri": "https://localhost:8080/"
        },
        "id": "CMgBgVn8gcOV",
        "outputId": "22e742bf-4498-46d7-e9c6-95bc7adbdd07"
      },
      "execution_count": 57,
      "outputs": [
        {
          "output_type": "stream",
          "name": "stdout",
          "text": [
            "Requirement already satisfied: spacy in /usr/local/lib/python3.10/dist-packages (3.7.5)\n",
            "Requirement already satisfied: spacy-legacy<3.1.0,>=3.0.11 in /usr/local/lib/python3.10/dist-packages (from spacy) (3.0.12)\n",
            "Requirement already satisfied: spacy-loggers<2.0.0,>=1.0.0 in /usr/local/lib/python3.10/dist-packages (from spacy) (1.0.5)\n",
            "Requirement already satisfied: murmurhash<1.1.0,>=0.28.0 in /usr/local/lib/python3.10/dist-packages (from spacy) (1.0.10)\n",
            "Requirement already satisfied: cymem<2.1.0,>=2.0.2 in /usr/local/lib/python3.10/dist-packages (from spacy) (2.0.8)\n",
            "Requirement already satisfied: preshed<3.1.0,>=3.0.2 in /usr/local/lib/python3.10/dist-packages (from spacy) (3.0.9)\n",
            "Requirement already satisfied: thinc<8.3.0,>=8.2.2 in /usr/local/lib/python3.10/dist-packages (from spacy) (8.2.5)\n",
            "Requirement already satisfied: wasabi<1.2.0,>=0.9.1 in /usr/local/lib/python3.10/dist-packages (from spacy) (1.1.3)\n",
            "Requirement already satisfied: srsly<3.0.0,>=2.4.3 in /usr/local/lib/python3.10/dist-packages (from spacy) (2.4.8)\n",
            "Requirement already satisfied: catalogue<2.1.0,>=2.0.6 in /usr/local/lib/python3.10/dist-packages (from spacy) (2.0.10)\n",
            "Requirement already satisfied: weasel<0.5.0,>=0.1.0 in /usr/local/lib/python3.10/dist-packages (from spacy) (0.4.1)\n",
            "Requirement already satisfied: typer<1.0.0,>=0.3.0 in /usr/local/lib/python3.10/dist-packages (from spacy) (0.12.3)\n",
            "Requirement already satisfied: tqdm<5.0.0,>=4.38.0 in /usr/local/lib/python3.10/dist-packages (from spacy) (4.66.4)\n",
            "Requirement already satisfied: requests<3.0.0,>=2.13.0 in /usr/local/lib/python3.10/dist-packages (from spacy) (2.31.0)\n",
            "Requirement already satisfied: pydantic!=1.8,!=1.8.1,<3.0.0,>=1.7.4 in /usr/local/lib/python3.10/dist-packages (from spacy) (2.8.2)\n",
            "Requirement already satisfied: jinja2 in /usr/local/lib/python3.10/dist-packages (from spacy) (3.1.4)\n",
            "Requirement already satisfied: setuptools in /usr/local/lib/python3.10/dist-packages (from spacy) (71.0.4)\n",
            "Requirement already satisfied: packaging>=20.0 in /usr/local/lib/python3.10/dist-packages (from spacy) (24.1)\n",
            "Requirement already satisfied: langcodes<4.0.0,>=3.2.0 in /usr/local/lib/python3.10/dist-packages (from spacy) (3.4.0)\n",
            "Requirement already satisfied: numpy>=1.19.0 in /usr/local/lib/python3.10/dist-packages (from spacy) (1.26.4)\n",
            "Requirement already satisfied: language-data>=1.2 in /usr/local/lib/python3.10/dist-packages (from langcodes<4.0.0,>=3.2.0->spacy) (1.2.0)\n",
            "Requirement already satisfied: annotated-types>=0.4.0 in /usr/local/lib/python3.10/dist-packages (from pydantic!=1.8,!=1.8.1,<3.0.0,>=1.7.4->spacy) (0.7.0)\n",
            "Requirement already satisfied: pydantic-core==2.20.1 in /usr/local/lib/python3.10/dist-packages (from pydantic!=1.8,!=1.8.1,<3.0.0,>=1.7.4->spacy) (2.20.1)\n",
            "Requirement already satisfied: typing-extensions>=4.6.1 in /usr/local/lib/python3.10/dist-packages (from pydantic!=1.8,!=1.8.1,<3.0.0,>=1.7.4->spacy) (4.12.2)\n",
            "Requirement already satisfied: charset-normalizer<4,>=2 in /usr/local/lib/python3.10/dist-packages (from requests<3.0.0,>=2.13.0->spacy) (3.3.2)\n",
            "Requirement already satisfied: idna<4,>=2.5 in /usr/local/lib/python3.10/dist-packages (from requests<3.0.0,>=2.13.0->spacy) (3.7)\n",
            "Requirement already satisfied: urllib3<3,>=1.21.1 in /usr/local/lib/python3.10/dist-packages (from requests<3.0.0,>=2.13.0->spacy) (2.0.7)\n",
            "Requirement already satisfied: certifi>=2017.4.17 in /usr/local/lib/python3.10/dist-packages (from requests<3.0.0,>=2.13.0->spacy) (2024.7.4)\n",
            "Requirement already satisfied: blis<0.8.0,>=0.7.8 in /usr/local/lib/python3.10/dist-packages (from thinc<8.3.0,>=8.2.2->spacy) (0.7.11)\n",
            "Requirement already satisfied: confection<1.0.0,>=0.0.1 in /usr/local/lib/python3.10/dist-packages (from thinc<8.3.0,>=8.2.2->spacy) (0.1.5)\n",
            "Requirement already satisfied: click>=8.0.0 in /usr/local/lib/python3.10/dist-packages (from typer<1.0.0,>=0.3.0->spacy) (8.1.7)\n",
            "Requirement already satisfied: shellingham>=1.3.0 in /usr/local/lib/python3.10/dist-packages (from typer<1.0.0,>=0.3.0->spacy) (1.5.4)\n",
            "Requirement already satisfied: rich>=10.11.0 in /usr/local/lib/python3.10/dist-packages (from typer<1.0.0,>=0.3.0->spacy) (13.7.1)\n",
            "Requirement already satisfied: cloudpathlib<1.0.0,>=0.7.0 in /usr/local/lib/python3.10/dist-packages (from weasel<0.5.0,>=0.1.0->spacy) (0.18.1)\n",
            "Requirement already satisfied: smart-open<8.0.0,>=5.2.1 in /usr/local/lib/python3.10/dist-packages (from weasel<0.5.0,>=0.1.0->spacy) (7.0.4)\n",
            "Requirement already satisfied: MarkupSafe>=2.0 in /usr/local/lib/python3.10/dist-packages (from jinja2->spacy) (2.1.5)\n",
            "Requirement already satisfied: marisa-trie>=0.7.7 in /usr/local/lib/python3.10/dist-packages (from language-data>=1.2->langcodes<4.0.0,>=3.2.0->spacy) (1.2.0)\n",
            "Requirement already satisfied: markdown-it-py>=2.2.0 in /usr/local/lib/python3.10/dist-packages (from rich>=10.11.0->typer<1.0.0,>=0.3.0->spacy) (3.0.0)\n",
            "Requirement already satisfied: pygments<3.0.0,>=2.13.0 in /usr/local/lib/python3.10/dist-packages (from rich>=10.11.0->typer<1.0.0,>=0.3.0->spacy) (2.16.1)\n",
            "Requirement already satisfied: wrapt in /usr/local/lib/python3.10/dist-packages (from smart-open<8.0.0,>=5.2.1->weasel<0.5.0,>=0.1.0->spacy) (1.16.0)\n",
            "Requirement already satisfied: mdurl~=0.1 in /usr/local/lib/python3.10/dist-packages (from markdown-it-py>=2.2.0->rich>=10.11.0->typer<1.0.0,>=0.3.0->spacy) (0.1.2)\n",
            "Collecting en-core-web-lg==3.7.1\n",
            "  Downloading https://github.com/explosion/spacy-models/releases/download/en_core_web_lg-3.7.1/en_core_web_lg-3.7.1-py3-none-any.whl (587.7 MB)\n",
            "\u001b[2K     \u001b[90m━━━━━━━━━━━━━━━━━━━━━━━━━━━━━━━━━━━━━━━━\u001b[0m \u001b[32m587.7/587.7 MB\u001b[0m \u001b[31m3.1 MB/s\u001b[0m eta \u001b[36m0:00:00\u001b[0m\n",
            "\u001b[?25hRequirement already satisfied: spacy<3.8.0,>=3.7.2 in /usr/local/lib/python3.10/dist-packages (from en-core-web-lg==3.7.1) (3.7.5)\n",
            "Requirement already satisfied: spacy-legacy<3.1.0,>=3.0.11 in /usr/local/lib/python3.10/dist-packages (from spacy<3.8.0,>=3.7.2->en-core-web-lg==3.7.1) (3.0.12)\n",
            "Requirement already satisfied: spacy-loggers<2.0.0,>=1.0.0 in /usr/local/lib/python3.10/dist-packages (from spacy<3.8.0,>=3.7.2->en-core-web-lg==3.7.1) (1.0.5)\n",
            "Requirement already satisfied: murmurhash<1.1.0,>=0.28.0 in /usr/local/lib/python3.10/dist-packages (from spacy<3.8.0,>=3.7.2->en-core-web-lg==3.7.1) (1.0.10)\n",
            "Requirement already satisfied: cymem<2.1.0,>=2.0.2 in /usr/local/lib/python3.10/dist-packages (from spacy<3.8.0,>=3.7.2->en-core-web-lg==3.7.1) (2.0.8)\n",
            "Requirement already satisfied: preshed<3.1.0,>=3.0.2 in /usr/local/lib/python3.10/dist-packages (from spacy<3.8.0,>=3.7.2->en-core-web-lg==3.7.1) (3.0.9)\n",
            "Requirement already satisfied: thinc<8.3.0,>=8.2.2 in /usr/local/lib/python3.10/dist-packages (from spacy<3.8.0,>=3.7.2->en-core-web-lg==3.7.1) (8.2.5)\n",
            "Requirement already satisfied: wasabi<1.2.0,>=0.9.1 in /usr/local/lib/python3.10/dist-packages (from spacy<3.8.0,>=3.7.2->en-core-web-lg==3.7.1) (1.1.3)\n",
            "Requirement already satisfied: srsly<3.0.0,>=2.4.3 in /usr/local/lib/python3.10/dist-packages (from spacy<3.8.0,>=3.7.2->en-core-web-lg==3.7.1) (2.4.8)\n",
            "Requirement already satisfied: catalogue<2.1.0,>=2.0.6 in /usr/local/lib/python3.10/dist-packages (from spacy<3.8.0,>=3.7.2->en-core-web-lg==3.7.1) (2.0.10)\n",
            "Requirement already satisfied: weasel<0.5.0,>=0.1.0 in /usr/local/lib/python3.10/dist-packages (from spacy<3.8.0,>=3.7.2->en-core-web-lg==3.7.1) (0.4.1)\n",
            "Requirement already satisfied: typer<1.0.0,>=0.3.0 in /usr/local/lib/python3.10/dist-packages (from spacy<3.8.0,>=3.7.2->en-core-web-lg==3.7.1) (0.12.3)\n",
            "Requirement already satisfied: tqdm<5.0.0,>=4.38.0 in /usr/local/lib/python3.10/dist-packages (from spacy<3.8.0,>=3.7.2->en-core-web-lg==3.7.1) (4.66.4)\n",
            "Requirement already satisfied: requests<3.0.0,>=2.13.0 in /usr/local/lib/python3.10/dist-packages (from spacy<3.8.0,>=3.7.2->en-core-web-lg==3.7.1) (2.31.0)\n",
            "Requirement already satisfied: pydantic!=1.8,!=1.8.1,<3.0.0,>=1.7.4 in /usr/local/lib/python3.10/dist-packages (from spacy<3.8.0,>=3.7.2->en-core-web-lg==3.7.1) (2.8.2)\n",
            "Requirement already satisfied: jinja2 in /usr/local/lib/python3.10/dist-packages (from spacy<3.8.0,>=3.7.2->en-core-web-lg==3.7.1) (3.1.4)\n",
            "Requirement already satisfied: setuptools in /usr/local/lib/python3.10/dist-packages (from spacy<3.8.0,>=3.7.2->en-core-web-lg==3.7.1) (71.0.4)\n",
            "Requirement already satisfied: packaging>=20.0 in /usr/local/lib/python3.10/dist-packages (from spacy<3.8.0,>=3.7.2->en-core-web-lg==3.7.1) (24.1)\n",
            "Requirement already satisfied: langcodes<4.0.0,>=3.2.0 in /usr/local/lib/python3.10/dist-packages (from spacy<3.8.0,>=3.7.2->en-core-web-lg==3.7.1) (3.4.0)\n",
            "Requirement already satisfied: numpy>=1.19.0 in /usr/local/lib/python3.10/dist-packages (from spacy<3.8.0,>=3.7.2->en-core-web-lg==3.7.1) (1.26.4)\n",
            "Requirement already satisfied: language-data>=1.2 in /usr/local/lib/python3.10/dist-packages (from langcodes<4.0.0,>=3.2.0->spacy<3.8.0,>=3.7.2->en-core-web-lg==3.7.1) (1.2.0)\n",
            "Requirement already satisfied: annotated-types>=0.4.0 in /usr/local/lib/python3.10/dist-packages (from pydantic!=1.8,!=1.8.1,<3.0.0,>=1.7.4->spacy<3.8.0,>=3.7.2->en-core-web-lg==3.7.1) (0.7.0)\n",
            "Requirement already satisfied: pydantic-core==2.20.1 in /usr/local/lib/python3.10/dist-packages (from pydantic!=1.8,!=1.8.1,<3.0.0,>=1.7.4->spacy<3.8.0,>=3.7.2->en-core-web-lg==3.7.1) (2.20.1)\n",
            "Requirement already satisfied: typing-extensions>=4.6.1 in /usr/local/lib/python3.10/dist-packages (from pydantic!=1.8,!=1.8.1,<3.0.0,>=1.7.4->spacy<3.8.0,>=3.7.2->en-core-web-lg==3.7.1) (4.12.2)\n",
            "Requirement already satisfied: charset-normalizer<4,>=2 in /usr/local/lib/python3.10/dist-packages (from requests<3.0.0,>=2.13.0->spacy<3.8.0,>=3.7.2->en-core-web-lg==3.7.1) (3.3.2)\n",
            "Requirement already satisfied: idna<4,>=2.5 in /usr/local/lib/python3.10/dist-packages (from requests<3.0.0,>=2.13.0->spacy<3.8.0,>=3.7.2->en-core-web-lg==3.7.1) (3.7)\n",
            "Requirement already satisfied: urllib3<3,>=1.21.1 in /usr/local/lib/python3.10/dist-packages (from requests<3.0.0,>=2.13.0->spacy<3.8.0,>=3.7.2->en-core-web-lg==3.7.1) (2.0.7)\n",
            "Requirement already satisfied: certifi>=2017.4.17 in /usr/local/lib/python3.10/dist-packages (from requests<3.0.0,>=2.13.0->spacy<3.8.0,>=3.7.2->en-core-web-lg==3.7.1) (2024.7.4)\n",
            "Requirement already satisfied: blis<0.8.0,>=0.7.8 in /usr/local/lib/python3.10/dist-packages (from thinc<8.3.0,>=8.2.2->spacy<3.8.0,>=3.7.2->en-core-web-lg==3.7.1) (0.7.11)\n",
            "Requirement already satisfied: confection<1.0.0,>=0.0.1 in /usr/local/lib/python3.10/dist-packages (from thinc<8.3.0,>=8.2.2->spacy<3.8.0,>=3.7.2->en-core-web-lg==3.7.1) (0.1.5)\n",
            "Requirement already satisfied: click>=8.0.0 in /usr/local/lib/python3.10/dist-packages (from typer<1.0.0,>=0.3.0->spacy<3.8.0,>=3.7.2->en-core-web-lg==3.7.1) (8.1.7)\n",
            "Requirement already satisfied: shellingham>=1.3.0 in /usr/local/lib/python3.10/dist-packages (from typer<1.0.0,>=0.3.0->spacy<3.8.0,>=3.7.2->en-core-web-lg==3.7.1) (1.5.4)\n",
            "Requirement already satisfied: rich>=10.11.0 in /usr/local/lib/python3.10/dist-packages (from typer<1.0.0,>=0.3.0->spacy<3.8.0,>=3.7.2->en-core-web-lg==3.7.1) (13.7.1)\n",
            "Requirement already satisfied: cloudpathlib<1.0.0,>=0.7.0 in /usr/local/lib/python3.10/dist-packages (from weasel<0.5.0,>=0.1.0->spacy<3.8.0,>=3.7.2->en-core-web-lg==3.7.1) (0.18.1)\n",
            "Requirement already satisfied: smart-open<8.0.0,>=5.2.1 in /usr/local/lib/python3.10/dist-packages (from weasel<0.5.0,>=0.1.0->spacy<3.8.0,>=3.7.2->en-core-web-lg==3.7.1) (7.0.4)\n",
            "Requirement already satisfied: MarkupSafe>=2.0 in /usr/local/lib/python3.10/dist-packages (from jinja2->spacy<3.8.0,>=3.7.2->en-core-web-lg==3.7.1) (2.1.5)\n",
            "Requirement already satisfied: marisa-trie>=0.7.7 in /usr/local/lib/python3.10/dist-packages (from language-data>=1.2->langcodes<4.0.0,>=3.2.0->spacy<3.8.0,>=3.7.2->en-core-web-lg==3.7.1) (1.2.0)\n",
            "Requirement already satisfied: markdown-it-py>=2.2.0 in /usr/local/lib/python3.10/dist-packages (from rich>=10.11.0->typer<1.0.0,>=0.3.0->spacy<3.8.0,>=3.7.2->en-core-web-lg==3.7.1) (3.0.0)\n",
            "Requirement already satisfied: pygments<3.0.0,>=2.13.0 in /usr/local/lib/python3.10/dist-packages (from rich>=10.11.0->typer<1.0.0,>=0.3.0->spacy<3.8.0,>=3.7.2->en-core-web-lg==3.7.1) (2.16.1)\n",
            "Requirement already satisfied: wrapt in /usr/local/lib/python3.10/dist-packages (from smart-open<8.0.0,>=5.2.1->weasel<0.5.0,>=0.1.0->spacy<3.8.0,>=3.7.2->en-core-web-lg==3.7.1) (1.16.0)\n",
            "Requirement already satisfied: mdurl~=0.1 in /usr/local/lib/python3.10/dist-packages (from markdown-it-py>=2.2.0->rich>=10.11.0->typer<1.0.0,>=0.3.0->spacy<3.8.0,>=3.7.2->en-core-web-lg==3.7.1) (0.1.2)\n",
            "\u001b[38;5;2m✔ Download and installation successful\u001b[0m\n",
            "You can now load the package via spacy.load('en_core_web_lg')\n",
            "\u001b[38;5;3m⚠ Restart to reload dependencies\u001b[0m\n",
            "If you are in a Jupyter or Colab notebook, you may need to restart Python in\n",
            "order to load all the package's dependencies. You can do this by selecting the\n",
            "'Restart kernel' or 'Restart runtime' option.\n"
          ]
        }
      ]
    },
    {
      "cell_type": "code",
      "source": [
        "import spacy\n",
        "nlp = spacy.load(\"en_core_web_lg\")"
      ],
      "metadata": {
        "id": "pYSg86f98LNx"
      },
      "execution_count": 58,
      "outputs": []
    },
    {
      "cell_type": "markdown",
      "metadata": {
        "id": "Qekztq71CixT"
      },
      "source": [
        "## cleaning the data"
      ]
    },
    {
      "cell_type": "code",
      "metadata": {
        "id": "8u_yXh9dCmEE",
        "outputId": "3157c993-2c44-4403-8029-1bce110b0766",
        "colab": {
          "base_uri": "https://localhost:8080/"
        }
      },
      "source": [
        "corpus = []\n",
        "for i in range(0, 1000):\n",
        "    review = df['Review'][i]\n",
        "    doc = nlp(review)\n",
        "    tokens = [token.lemma_.lower() for token in doc if not token.is_stop and token.is_alpha]\n",
        "    review = ' '.join(tokens)\n",
        "    corpus.append(review)\n",
        "\n",
        "print(corpus)"
      ],
      "execution_count": 59,
      "outputs": [
        {
          "output_type": "stream",
          "name": "stdout",
          "text": [
            "['wow love place', 'crust good', 'tasty texture nasty', 'stop late bank holiday rick steve recommendation love', 'selection menu great price', 'get angry want damn pho', 'honeslty taste fresh', 'potato like rubber tell ahead time keep warm', 'fry great', 'great touch', 'service prompt', '', 'cashier care end wayyy overpriced', 'try cape cod ravoli chicken cranberry mmmm', 'disgusted pretty sure human hair', 'shocked sign indicate cash', 'highly recommend', 'waitress little slow service', 'place worth time let vegas', 'like', 'burrittos blah', 'food amazing', 'service cute', 'care interior beautiful', 'perform', 'right red velvet cake ohhh stuff good', 'bring salad ask', 'hole wall great mexican street taco friendly staff', 'took hour food table restaurant food luke warm sever run like totally overwhelmed', 'bad salmon sashimi', 'combo like burger fry beer decent deal', 'like final blow', 'find place accident happy', 'like good quick place grab bite familiar pub food favor look', 'overall like place lot', 'redeeming quality restaurant inexpensive', 'ample portion good price', 'poor service waiter feel like stupid time come table', 'visit hiro delight', 'service suck', 'shrimp tender moist', 'deal good drag establishment', 'hard judge side good gross melt styrofoam want eat fear get sick', 'positive note server attentive provide great service', 'frozen puck disgust bad people register', 'thing like prime rib dessert section', 'bad food damn generic', 'burger good beef cook right', 'want sandwich firehouse', 'greek salad greek dressing tasty pita hummus refreshing', 'order duck rare pink tender inside nice char outside', 'come run realize husband leave sunglass table', 'chow mein good', 'horrible attitude customer talk customer enjoy food', 'portion huge', 'love friendly server great food wonderful imaginative menu', 'heart attack grill downtown vegas absolutely flat line excuse restaurant', 'seafood like string pasta', 'salad right sauce power scallop perfectly cook', 'rip banana rip petrified tasteless', 'think refill water struggle wave minute', 'place receive star appetizer', 'cocktail handmade delicious', 'definitely', 'glad find place', 'great food service huge portion military discount', 'great time dos gringos', 'update go second time amazing', 'get food apparently hear salt batter fish chewy', 'great way finish great', 'deal include tasting drink jeff go expect', 'good rice time', 'service meh', 'take min milkshake chocolate milk', 'guess know place suck inside excalibur use common sense', 'scallop dish appalling value', 'time bad customer service', 'sweet potato fry good seasoned', 'today second time lunch buffet pretty good', 'good food vegas feel cheat waste eat opportunity go rice company', 'come like experience underwhelming relationship party wait person ask break', 'walk place smell like old grease trap eat', 'turkey roast beef bland', 'place', 'pan cake rave taste like sugary disaster tailor palate year old', 'love pho spring roll oh yummy try', 'poor batter meat ratio chicken tender unsatisfying', 'food amazing', 'omelet die', 'fresh delicious', 'summary largely disappointing dining experience', 'like sexy party mouth outrageously flirt hot person party', 'hard rock casino step forward', 'good breakfast buffet', 'bye bye tip lady', '', '', 'food arrive quickly', 'good', 'cafe serve good food', 'server fantastic find wife love roasted garlic bone marrow add extra meal marrow', 'good thing waiter helpful keep bloddy mary come', 'best buffet town price beat', 'love mussel cook wine reduction duck tender potato dish delicious', 'well buffet', 'go tigerlilly fantastic afternoon', 'food delicious bartender attentive personable get great deal', 'ambience wonderful music playing', 'trip', 'sooooo good', 'real sushi lover let honest yama good', 'pass order food arrive busy', 'fantastic thai restaurant definitely worth visit', 'nice spicy tender', 'good price', 'check', 'pretty gross', 'well atmosphere', 'kind hard mess steak', 'like look sound place actual experience bit disappointing', 'know place manage serve bland food eat prepare indian cuisine', 'bad service boot worry', 'service fine waitress friendly', 'guy steak steak love son steak good bad place say good steak eat', 'think venture away good sushi place hit spot night', 'host staff lack well word bitches', 'bland like place number reason want waste time bad reviewing leave', 'phenomenal food service ambiance', 'return', 'definitely worth venture strip pork belly return time vegas', 'place way overpriced mediocre food', 'penne vodka excellent', 'good selection food include massive meatloaf sandwich crispy chicken wrap delish tuna melt tasty burger', 'management rude', 'delicious nyc bagel good selection cream cheese real lox caper', 'great subway fact good come subway meet expectation', 'seriously solid breakfast', 'good bar food vegas', 'extremely rude restaurant love dine weekend vegas', 'drink great menu suggestion', '', 'waiter helpful friendly rarely check', 'husband eat lunch disappointed food service', 'red curry bamboo shoot tasty', 'nice blanket moz feel like cover subpar food', 'bathroom clean place decorate', 'menu change food quality go service extremely slow', 'service little slow consider serve people server food come slow pace', 'thumb', 'watch waiter pay lot attention table ignore', 'fiancé come middle day greet seat right away', 'great restaurant mandalay bay', 'wait minute vain', 'crostini come salad stale', 'highlight great quality nigiri', 'staff friendly joint clean', 'different cut piece day wonderful tender s flavored', 'order voodoo pasta time excellent pasta go gluten free year ago', 'place good', 'unfortunately hit bakery leftover day order stale', 'come today relocate impressed', 'seat immediately', 'menu diverse reasonably price', 'avoid cost', 'restaurant wait', 'delicious', 'place hand good place eat phoenix metro area', 'look good food', 'treat bad', 'bacon hella salty', 'order spinach avocado salad ingredient sad dressing literally zero taste', 'vegas fine dining right menu hand lady price list', 'waitress friendly', 'lordy khao soi dish miss curry lover', 'menu terrific thrilled amazing accommodation vegetarian daughter', 'catch night judge review inspire', 'service leave lot desire', 'atmosphere modern hip maintain touch coziness', 'weekly haunt definitely place come', 'literally sit minute ask order', 'burger absolutely flavor meat totally bland burger overcooked charcoal flavor', 'decide send waitress look like verge have heart attack', 'dress treat rudely', 'probably dirt', 'love place hit spot want healthy lack quantity flavor', 'order lemon raspberry ice cocktail incredible', 'food suck expect suck imagine', 'interesting decor', 'like crepe station', 'serve hot bread butter home potato chip bacon bit original good', 'watch prepare delicious food', 'egg roll fantastic', 'order arrive gyro miss', 'salad wing ice cream dessert leave feel satisfied', 'sure joey vote well hot dog valley reader phoenix magazine', 'good place tasty bowl pho', 'live music fridays totally blow', 'insult felt disrespect', 'friendly staff', 'worth drive', 'hear good thing place exceed hope dream', 'food great serivce', 'warm beer help', 'great brunch spot', 'service friendly inviting', 'good lunch spot', 'live time step foot place', 'bad experience', 'night place', 'side delish mixed mushroom yukon gold puree white corn beateous', 'bug show give sure wall bug climb kitchen', 'minute wait salad realize come time soon', 'friend love salmon tartar', 'will', 'extremely tasty', 'waitress good', 'soggy good', 'jamaican mojito delicious', 'small worth price', 'food rich order accordingly', 'shower area outside rinse shower mind nude', 'service bit lacking', 'lobster bisque bussell sprouts risotto filet need salt pepper course table', 'hopefully bode go business cook come', 'cold flavor bad', 'love bacon wrap date', 'unbelievable bargain', 'folk otto feel welcome special', 'main uninspired', 'place pho amazing', 'wonderful experience place stop town', 'food bad enjoy deal world bad annoying drunk people', 'fun chef', 'order double cheeseburger get single patty fall apart picture upload yeah suck', 'great place couple drink watch sport event wall cover tv', 'possible zero star', 'description say yum yum sauce say eel sauce say spicy roll sauce', 'hard decision honestly m dish taste suppose taste amazing', 'roll eye stay sure try', 'attentive provide excellent customer service', 'horrible waste time money', 'dish flavourful', 'time restaurant excuse', 'busy building freezing cold', 'like reviewer say pay eat place', 'take close minute come point', 'seriously flavorful delight folk', 'well ayce sushi place go vegas', 'lighting dark set mood', 'base sub par service receive effort gratitude business will go', 'owner great people', 'privileged work eat', 'greek dressing creamy flavorful', 'overall think parent place similar complaint silently feel', 'pizza good peanut sauce tasty', 'table service pretty fast', 'fantastic service', 'give godfather zero star possible', 'know', 'tough short flavor', 'hope place stick', 'bar vegas recall charge tap water', 'restaurant atmosphere exquisite', 'good service clean inexpensive boot', 'seafood fresh generous portion', 'plus buck', 'service par', 'far visit twice food absolutely delicious time', 'good year ago', 'self proclaim coffee cafe wildly disappointed', 'veggitarian platter world', 'not wrong food', 'beat', 'stop place madison ironman friendly kind staff', 'chef friendly good job', 'well dedicated boba tea spot jenni pho', 'like patio service outstanding', 'goat taco skimp meat wow flavor', 'think', 'mac salad pretty bland get', 'go bachi burger friend recommendation disappointed', 'service stink', 'wait wait', 'place quality sushi quality restaurant', 'definitely recommend wing pizza', 'great pizza salad', 'thing go wrong burn saganaki', 'wait hour breakfast time well home', 'place amazing', 'hate disagree fellow yelpers husband disappointed place', 'wait hour get pizza come later', 'know slow', 'staff great food delish incredible beer selection', 'live neighborhood disappointed will convenient location', 'know pull pork soooo delicious', 'incredibly fresh fish prepare care', 'give star rating know time eat bachi burger write review', 'love fact menu worth', 'dine place', 'food excellent service good', 'good beer drink selection good food selection', 'stay away shrimp stir fried noodle', 'potato chip order sad probably count chip box probably', 'food boring', 'good service check', 'greedy corporation dime', '', 'like pass atrocious service return', 'summer dine charming outdoor patio delightful', 'expect good', 'fantastic food', 'order toast english muffin come untoasted', 'food good', 'go', 'great food price high quality house', 'bus boy hand rude', 'point friend basically figure place joke mind make publicly loudly know', 'good bbq light fare reasonable pricing tell public old way', 'consider leave happy wrong', 'bread house', 'downside service', 'fry doubt bad fry', 'service exceptional food good review', 'couple month later return amazing meal', 'favorite place town shawarrrrrrma', 'black eyed pea sweet potato unreal', 'will disappoint', 'serve vinaigrette well overall dish good', 'far place see restaurant serve egg breakfast especially', 'mom get home immediately get sick bite salad', 'server pleasant deal honor pizza hut coupon', 'truly unbelievably good glad go', 'fantastic service pleased atmosphere', 'gross', 'love place', 'great service food', 'bathroom location seat cover replenish plain yucky', 'burger get gold standard burger kind disappointed', 'omg food delicioso', 'authentic place', 'spaghetti special whatsoever', 'dish salmon good great', 'vegetable fresh sauce feel like authentic thai', 'worth drive tucson', 'selection probably bad see vegas', 'pretty good beer selection', 'place like chipotle better', 'classy warm atmosphere fun fresh appetizer succulent steak baseball steak', 'star brick oven bread app', 'eat multiple time time food delicious', 'sit minute finally give leave', 'terrible', 'treat equally special', 'min pancake egg', 'delicious', 'good staff genuinely pleasant enthusiastic real treat', 'sadly gordon ramsey steak place shall sharply avoid trip vegas', 'evening wonderful food delicious', 'good fish life', 'bathroom door nice', 'buffet small food offer bland', 'outstanding little restaurant best food taste', 'pretty cool', 'definitely turn doubt buy', 'server great job handle large rowdy table', 'find waste food despicable food', 'wife lobster bisque soup lukewarm', 'come sushi craving vegas', 'staff great ambiance great', 'deserve star', 'leave stomach ache feel sick rest day', 'drop ball', 'dining space tiny elegantly decorate comfortable', 'customize order way like usual eggplant green bean stir fry love', 'bean rice mediocre good', 'good taco town far', 'take money get outta', 'interesting town place amazing', 'rude inconsiderate management', 'staff friendly wait time serve horrible say hi minute', 'will', 'great dinner', 'service outshine definitely recommend halibut', 'food terrible', 'told people happened', 'recommend car break starve', 'come time vegas', 'place deserve star food', 'disgrace', 'def come bowl time', 'want healthy authentic ethic food try place', 'continue come lady night andddd date night highly recommend place area', 'time past experience great', 'walk away stuff happy vegas buffet experience', 'service excellent price pretty reasonable consider vegas locate inside crystals shopping mall aria', 'summarize food incredible nay transcendant bring joy like memory pneumatic condiment dispenser', 'probably people ians like', 'kid pizza hit lot great dish option kiddo', 'service perfect family atmosphere nice', 'cook perfection service impeccable', 'simply disappointment', 'overall disappointed quality food bouchon', 'accountant know getting screw', 'great place eat remind little mom pop shop san francisco bay area', 'today taste buldogis gourmet hot dog tell think possible', 'leave frustrated', 'definitely soon', 'food good get petty fast', 'service fantastic', 'total waste time', 'know kind well iced tea', 'come hungry leave happy stuff', 'service star', 'assure will disappoint', 'little bad service food suck', 'give try eat crust tooth sore', 'completely gross', 'enjoy eat', 'time go think quickly regular', 'server nice look little overwhelmed need stay professional friendly end', 'dinner companion tell fresh nice texture taste', 'ground right table large smear step track pile green bird poop', 'furthermore find hour operation website', 'try like place time think', 'mistake', 'complaint', 'seriously good pizza expert connisseur topic', 'waiter jerk', 'strike want rush', 'nice restaurant owner come', 'come', 'love biscuit', 'service quick friendly', 'order appetizer take minute pizza minute', 'absolutley fantastic', 'huge awkward lb piece cow gristle fat', 'definitely come', 'like steiner dark feel like bar', 'wow spicy delicious', 'familiar check', 'business dinner dollar', 'love', 'fs restaurant wonderful breakfast lunch', 'special', 'day week different deal delicious', 'mention combination pear almond bacon big winner', '', 'sauce tasteless', 'food delicious spicy sure ask spicy prefer way', 'ribeye steak cook perfectly great mesquite flavor', 'think go anytime soon', 'food gooodd', 'far sushi connoisseur definitely tell difference good food bad food certainly bad food', 'insulted', 'time lunch bad', 'chicken wing contain dry chicken meat eat', 'food good enjoy mouthful enjoyable relaxed venue couple small family group etc', 'nargile think great', 'good tater tot southwest', 'love place', 'definitely worth pay', 'vanilla ice cream creamy smooth profiterole choux pastry fresh', 'm az time new spot', 'manager bad', 'inside nice clean', 'food outstanding price reasonable', 'think run carly anytime soon food', 'fact take minute acknowledge minute food keep forget thing', 'love margarita', 'vegas buffet disappoint', 'good', 'note ventilation use upgrading', 'great pork sandwich', 'waste time', 'total letdown camelback flower shop cartel coffee', 'cheese friend burger cold', 'enjoy pizza brunch', 'steak trim perfectly cook', 'group claim handle beautifully', 'love', 'ask bill leave eat bring', 'place jewel las vegas exactly hope find nearly year live', 'seafood limit boil shrimp crab leg crab leg definitely taste fresh', 'selection food good', 'delicious absolutely', 'small family restaurant fine dining establishment', 'toro tartare cavier extraordinary like thinly slice wagyu white truffle', 'not think long time', 'attach gas station rarely good sign', 'awesome', 'time soon', 'menu good stuff decide', 'bad humiliate worker right bunch horrible calling', 'conclusion fill meal', 'daily special hit group', 'tragedy strike', 'pancake good pretty large', 'crawfish experience delicious', 'monster chicken fry steak egg time favorite', 'waitress sweet funny', 'taste mom multi grain pumpkin pancake pecan butter amazing fluffy delicious', 'eat airline food seriously', 'not good thing place', 'ambiance incredible', 'waitress manager friendly', 'recommend place', 'overall impressed noca', 'gyro basically lettuce', 'terrible service', 'thoroughly disappointed', 'pasta love homemade pasta thin pizza', 'try happy', 'far best cheesecurd', 'reasonably price', 'perfect night', 'food good typical bar food', 'drive', 'glance lovely bakery cafe nice ambiance clean friendly staff', 'think', 'point finger item menu order will disappoint', 'oh thing beauty restaurant', 'go', 'greasy unhealthy meal', 'time', 'burger amazing', 'similarly delivery man word apology food minute late', 'way expensive', 'sure order dessert need pack tiramisu cannoli die', 'time wait', 'bartender nice', 'good tasty', 'place thumb way', 'good place vegas breakfast check sat sun', 'love authentic mexican food want bunch interesting delicious meat choose need try place', 'terrible management', 'excellent new restaurant experienced frenchman', 'zero star zero star', 'great steak great side great wine amazing dessert', 'bad martini', 'steak shrimp opinion good entree gc', 'opportunity today sample amazing pizza', 'wait thirty minute seat vacant table folk wait', 'yellowtail carpaccio melt mouth fresh', 'will try go', 'go eat potato find stranger hair', 'spicy perfect actually', 'night second time dining happy decide', 'hello right', 'dessert bit strange', 'boyfriend come time recent trip vegas pleased quality food service', 'recommend place wrong donut place', 'nice ambiance', 'recommend saving room', 'guess maybe go night disgraceful', 'recent experience particular location good', 'know like restaurant', 'avoid establishment', 'think restaurant suffer try hard', 'tapas dish delicious', 'heart place', 'salad bland vinegrette baby green heart palm', 'feel disgusting', 'good time', 'believe place great stop huge belly hanker sushi', 'generous portion great taste', 'place recommend place', 'server go forth time help', 'food delicious', 'hour seriously', 'consider theft', 'eew location need complete overhaul', 'recently witness poor quality management guest', 'wait wait wait', 'come check regularly excellent service', 'server super nice check time', 'pizza taste old super chewy good way', 'swing try deeply disappointed', 'service good company well', 'staff friendly efficient', 'service fan quick serve nice folk', 'boy sucker dry', 'rate', 'look authentic thai food', 'steak recommend', 'pull car wait minute acknowledge', 'great food great service clean friendly setting', 'assure', 'hate thing cheap quality black olive', 'breakfast perpare great beautiful presentation giant slice toast lightly dust powdered sugar', 'kid play area nasty', 'great place fo eat', 'waitress friendly happy accomodate vegan veggie option', 'omg feel like eat thai food dish', 'extremely crumby pretty tasteless', 'pale color instead nice char flavor', 'crouton taste homemade extra plus', 'get home dry damn wing', 'regular stop trip phoenix', 'enjoy crema café expand tell friend best breakfast', 'good money', 'miss wish philadelphia', 'get sit fairly fast end wait minute place order minute food arrive', 'good cheese crisp town', 'good value great food great service', 'ask satisfying meal', 'food good', 'awesome', 'want leave', 'drive way north scottsdale bit disappointed', 'eat', 'owner need quit soooooo cheap let wrap freak sandwich paper', 'check place couple year ago impressed', 'chicken get definitely reheat ok wedge cold soggy', 'sorry get food anytime soon', 'absolute visit', 'cow tongue cheek taco amazing', 'friend like bloody mary', 'despite hard rate business actually rare star', 'want experience good', 'return', 'chicken pho taste bland', 'disappointing', 'grill chicken tender yellow saffron seasoning', 'drive mean want wait half hour food end go wait wait', 'pretty awesome place', 'ambience perfect', 'good luck rude non customer service focus new management', 'grandmother roasted chicken well', 'ask multiple time wine list time ignore go hostess get', 'staff super friendly helpful especially cool bring small boy baby', 'star food guy blue shirt great vibe let eat', 'roast beef sandwich taste good', 'evening drastically sick', 'high quality chicken chicken caesar salad', 'order burger rare come', 'promptly greet seat', 'try lunch madhouse', 'prove dead wrong sushi bar quality great service fast food impeccable', 'wait hour seat great mood', 'good joint', 'macarons insanely good', 'eat', 'waiter attentive friendly informative', 'maybe cold somewhat edible', 'place lot promise fail deliver', 'bad experience', 'mistake', 'food average good', 'great food', 'will go anytime soon', 'disappointed order big bay plater', 'great place relax awesome burger beer', 'perfect sit family meal friend', 'flavor poorly construct', 'patio seating comfortable', 'fried rice dry', 'hand favorite italian restaurant', 'screams legit book somethat pretty rare vegas', 'fun experience', 'atmosphere great lovely duo violinist play song request', 'personally love hummus pita baklava falafel baba ganoush amazing eggplant', 'convenient stay mgm', 'owner super friendly staff courteous', 'great', 'eclectic selection', 'sweet potato tot good onion ring perfection close', 'staff attentive', 'chef generous time come twice picture', 'owner work nobu place similar half price', 'google mediocre imagine smashburger pop', 'not', 'promise will disappoint', 'sushi lover avoid place mean', 'great double cheeseburger', 'awesome service food', 'fantastic neighborhood gem', 'wait', 'plantain bad taste', 'great place highly recommend', 'service slow attentive', 'give star give star', 'staff spend time talk', 'dessert panna cotta amazing', 'good food great', 'damn good steak', 'total brunch fail', 'price reasonable flavor spot sauce home slaw drench mayo', 'decor nice piano music soundtrack pleasant', 'steak amazing rge fillet relleno good seafood plate', 'good food good service', 'absolutely amazing', 'probably will honest', 'definitely', 'sergeant pepper beef sandwich auju sauce excellent sandwich', 'hawaiian breeze mango magic pineapple delight smoothie try far good', 'go lunch service slow', 'place walk expect amazing quickly disappointed', 'mortify', 'needless', 'anyways food definitely fill price pay expect', 'chip come drip grease edible', 'impressed strip steak', 'go meal awesome', 'server nice attentive serve staff', 'cashier friendly bring food', 'work hospitality industry paradise valley refrain recommend cibo long', 'atmosphere fun', 'recommend', 'service quick order like like', 'mean famous fish chip terrible', 'say mouth belly pleased', 'thing', 'thumb', 'read', 'love grill pizza remind legit italian pizza', 'pros large seating nice bar great simple drink best brick oven pizza homemade dough', 'nice atmosphere', 'tonight elk filet special suck', 'bite hook', 'order old classic new dish go time sorely disappointed', 'cute quaint simple honest', 'chicken deliciously seasoned perfect fry outside moist chicken inside', 'food great compliment chef', 'special thank dylan recommendation order yummy tummy', 'awesome selection beer', 'great food awesome service', 'nice thing add gratuity bill party large expect tip', 'fly apple juice fly', 'han nan chicken tasty', 'service think good', 'food barely lukewarm sit wait server bring', 'ryan bar definitely edinburgh establishment will revisit', 'nice chinese restaurant', 'overall like food service', 'serve indian naan bread hummus spicy pine nut sauce world', 'probably come recommend', 'friend pasta bad barely touch', 'try airport experience tasty food speedy friendly service', 'love decor chinese calligraphy wall paper', 'complain', 'restaurant clean family restaurant feel', 'way fried', 'sure long stand long begin feel awkwardly place', 'open sandwich impressed good way', '', 'warm feeling service feel like guest special treat', 'extensive menu provide lot option breakfast', 'order vegetarian menu dinner wide array option choose', 'watch price inflate portion small management attitude grow rapidly', 'wonderful lil tapas ambience feel warm fuzzy inside', 'get enjoy seafood salad fabulous vinegrette', 'wonton thin thick chewy melt mouth', 'level spicy perfect spice whelm soup', 'sit right time server fantastic', 'main thing enjoy crowd old crowd mid', 'town definitely spot hit', 'wait minute drink long arepas', 'great place eat', 'jalapeno bacon soooo good', 'service poor s nice', 'food good service good price good', 'place clean food oh stale', 'chicken dish ok beef like shoe leather', 'service bad', 'happy', 'taste like dirt', 'place phoenix definately', 'block amazing', 'close house low key non fancy affordable price good food', 'hot sour egg flower soups absolutely star', 'sashimi poor quality soggy tasteless', 'great time family dinner sunday night', 'food tasty real traditional hunan style', 'bother slow service', 'flair bartender absolutely amazing', 'frozen margarita way sugary taste', 'good order twice', 'nutshell restaraunt smell like combination dirty fish market sewer', 'girlfriend veal bad', 'unfortunately good', 'pretty satifying experience', 'join club awesome offer email', 'perfect like beer ice cold case cold', 'bland flavorless good way describe barely tepid meat', 'chain fan beat place easily', 'nacho', 'come', 'word place pretty', 'staff super nice quick crazy crowd downtown jury lawyer court staff', 'great atmosphere friendly fast service', 'receive pita huge lot meat thumb', 'food arrive meh', 'pay hot dog fry look like come kid meal wienerschnitzel idea good meal', 'classic maine lobster roll fantastic', 'brother law work mall eat day guess sick night', 'good go review place twice herea tribute place tribute event hold night', 'chip salsa good salsa fresh', 'place great', 'mediocre food', 'inside impress place', 'super pissd', 'service super friendly', 'sad little vegetable overcooked', 'place nice surprise', 'golden crispy delicious', 'high hope place burger cook charcoal grill unfortunately taste fall flat way flat', 'eat bruschetta day devine', 'single employee come ok need water refill finally serve food', 'lastly mozzarella stick good thing order', 'time come amazing experience tell people awesome duck', 'server negligent need feel unwelcome suggest place', 'service terrible', 'place overprice consistent boba overpriced', 'pack', 'love place', 'dessert yummy', 'food terrible', 'seasonal fruit fresh white peach puree', 'keep get bad bad officially', 'place honestly blow', 'definitely eat', 'waste money', 'love food nice plastic container oppose cram little paper takeout box', 'crêpe delicate thin moist', 'awful service', 'will', 'food quality horrible', 'price think place go', 'service fair well', 'love sushi find kabuki price hip service', 'favor stay away dish', 'poor service', 'table think food average worth wait', 'good service food maria server good friendly day', 'excellent', 'pay bill tip feel server terrible job', 'lunch great experience', 'bland food surprise consider article read focus spice flavor', 'food way overpriced portion fuck small', 'recently try caballero week', 'buck head expect well food', 'food come good pace', 'eat twice visit especially enjoy salmon salad', 'will', 'believe dirty oyster', 'place deserve star', 'recommend place', 'fact go round star awesome', 'disbelief dish qualified bad version food taste', 'bad day low tolerance rude customer service people job nice polite wash dish', 'potato great biscuit', 'probably', 'flavorful perfect heat', 'price reasonable service great', 'wife hate meal coconut shrimp friend enjoy meal', 'fella get huevos rancheros look appealing', 'go happy hour great list wine', 'buffet pricey think pay place get lot', 'probably will come', 'bad food service', 'place pretty good nice little vibe restaurant', 'talk great customer service course', 'hot dish hot cold dish close room temp watch staff prepare food bare hand glove deep fry oil', 'love fry bean', 'pleasure deal', 'plethora salad sandwich try get seal approval', 'place awesome want light healthy summer', 'sushi strip place', 'service great manager come help table', 'feel dining room college cooking course high class dining service slow well', 'start review star edit', 'bad sushi eat costco', 'excellent restaurant highlight great service unique menu beautiful setting', 'boyfriend sit bar completely delightful experience', 'weird vibe owner', 'hardly meat', 'well bagel grocery store', 'place gyros', 'love owner chef authentic japanese cool dude', 'burger good pizza amazing doughy flavorless', 'find inch long piece wire salsa', 'service terrible food mediocre', 'definately enjoy', 'order albondigas soup warm taste like tomato soup frozen meatball', 'different occasion ask medium time get bloody piece meat plate', 'bite refuse eat anymore', 'service extremely slow', 'minute wait get table', 'seriously killer hot chai latte', 'allergy warning menu waitress absolutely clue meal contain peanut', 'boyfriend try mediterranean chicken salad fall love', 'rotate beer tap highlight place', 'pricing bit concern mellow mushroom', 'bad thai', 'stay vegas breakfast', 'want server great perfect service', 'pizza selection good', 'strawberry tea good', 'highly unprofessional rude loyal patron', 'overall great experience', 'spend money', 'regular toasted bread equally satisfying occasional pat butter mmmm', 'buffet bellagio far anticipate', 'drink weak people', 'order correct', 'feel like chip buy house', 'disappointing dinner go dessert', 'chip sal amazing', 'will return', 'new fav vegas buffet spot', 'seriously believe owner unexperienced employee run like chicken head cut', 'sad', 'feel insult disrespect talk judge human like', 'steakhouse properly cook steak understand', 'impressed concept food', 'thing crazy guacamole like puréed', 'postinos hope experience well', 'get food poisoning buffet', 'bring fresh batch fry think yay warm', 'hilarious yummy christmas eve dinner remember big fail entire trip', 'needless will go anytime soon', 'place disgusting', 'time eat care teamwork professional degree', 'ri style calamari joke', 'garlic fondue barely edible', 'barely stomach meal complain business lunch', 'bad lose heart finish', 'take forever bring check ask', 'one scene restaurant definitely lose love', 'disappointing experience', 'food par denny good', 'want wait mediocre food downright terrible service place', 'waaaaaayyyyyyyyyy rate say', 'will go', 'place fairly clean food simply worth', 'place lack style', 'sangria half glass wine ridiculous', 'bother come', 'meat pretty dry slice brisket pull pork', 'building pretty neat bathroom pretty trippy eat', 'equally awful', 'probably hurry', 'slow seating reservation', 'good stretch imagination', 'cashew cream sauce bland vegetable undercooke', 'chipolte ranch dip sause tasteless thin water heat', 'bit sweet spicy lack flavor', 'disappointed', 'place horrible way overpriced', 'maybe vegetarian fare twice think average good', 'busy know', 'table outside dirty lot time worker friendly helpful menu', 'ambiance feel like buffet setting douchey indoor garden tea biscuit', 'con spotty service', 'fry hot burger', 'come cold', 'food come disappointment ensue', 'real disappointment waiter', 'husband say rude apologize bad food', 'reason eat fill night binge drink carb stomach', 'insult profound deuchebaggery outside smoke break serve solidify', 'order taco think customer service ask combo ala cart', 'disappointed blame need place door', 'rave review wait eat disappointment', 'del taco pretty nasty avoid possible', 'hard decent hamburger', 'like', 'hell', 'get well service pizza place door service receive restaurant', 'know big deal place will', 'immediately say want talk manager want talk guy shot fireball bar', 'ambiance well', 'unfortunately set disapppointment entree', 'food good', 'server suck wait correction server heimer suck', 'happen pretty putting', 'bad cause know family own want like place', 'overprice get', 'vomit bathroom mid lunch', 'keep look time soon minute food', 'place eat circumstance return top list', 'start tuna sashimi brownish color obviously fresh', 'food average', 'sure beat nacho movie expect little bit come restaurant', 'ha long bay bit flop', 'problem charge sandwich big subway sub offer well vegetable', 'unwrap live mile brushfire literally ice cold', 'lack flavor undercooked dry', 'impressive place close', 'avoid place stay mirage', 'refrie bean come meal dry crusty food bland', 'spend money time place', 'lady table find live green caterpillar salad', 'presentation food awful', 'tell disappointed', 'think food flavor texture lack', 'appetite instantly go', 'overall impressed', 'experience underwhelming think ninja sushi time', 'waste life pour salt wound draw time take bring check']\n"
          ]
        }
      ]
    },
    {
      "cell_type": "markdown",
      "metadata": {
        "id": "CLqmAkANCp1-"
      },
      "source": [
        "# creating bag of words model"
      ]
    },
    {
      "cell_type": "code",
      "metadata": {
        "id": "qroF7XcSCvY3"
      },
      "source": [
        "from sklearn.feature_extraction.text import CountVectorizer\n",
        "cv = CountVectorizer(max_features=1500)\n",
        "X = cv.fit_transform(corpus).toarray()\n",
        "y = df[\"Liked\"].values"
      ],
      "execution_count": 60,
      "outputs": []
    },
    {
      "cell_type": "code",
      "source": [
        "X"
      ],
      "metadata": {
        "colab": {
          "base_uri": "https://localhost:8080/"
        },
        "id": "vv_uEV7d-H16",
        "outputId": "5fb2e400-9890-4572-cb89-27a302f29c6a"
      },
      "execution_count": 61,
      "outputs": [
        {
          "output_type": "execute_result",
          "data": {
            "text/plain": [
              "array([[0, 0, 0, ..., 0, 0, 0],\n",
              "       [0, 0, 0, ..., 0, 0, 0],\n",
              "       [0, 0, 0, ..., 0, 0, 0],\n",
              "       ...,\n",
              "       [0, 0, 0, ..., 0, 0, 0],\n",
              "       [0, 0, 0, ..., 0, 0, 0],\n",
              "       [0, 0, 0, ..., 0, 0, 0]])"
            ]
          },
          "metadata": {},
          "execution_count": 61
        }
      ]
    },
    {
      "cell_type": "code",
      "source": [
        "y"
      ],
      "metadata": {
        "colab": {
          "base_uri": "https://localhost:8080/"
        },
        "id": "ebG7qDNl-JkU",
        "outputId": "485a134f-3eb2-4220-e03a-f46fa4959413"
      },
      "execution_count": 62,
      "outputs": [
        {
          "output_type": "execute_result",
          "data": {
            "text/plain": [
              "array([1, 0, 0, 1, 1, 0, 0, 0, 1, 1, 1, 0, 0, 1, 0, 0, 1, 0, 0, 0, 0, 1,\n",
              "       1, 1, 1, 1, 0, 1, 0, 0, 1, 0, 1, 0, 1, 1, 1, 0, 1, 0, 1, 0, 0, 1,\n",
              "       0, 1, 0, 1, 1, 1, 1, 1, 1, 0, 1, 1, 0, 0, 1, 0, 0, 1, 1, 1, 1, 1,\n",
              "       1, 1, 0, 1, 1, 1, 0, 0, 0, 0, 0, 1, 1, 0, 0, 0, 0, 1, 0, 1, 0, 1,\n",
              "       1, 1, 0, 1, 0, 1, 0, 0, 1, 1, 0, 1, 1, 1, 1, 1, 1, 1, 1, 1, 1, 1,\n",
              "       0, 0, 1, 1, 1, 1, 0, 0, 0, 0, 0, 0, 1, 1, 1, 0, 0, 1, 0, 1, 0, 1,\n",
              "       1, 0, 1, 1, 1, 1, 0, 1, 0, 0, 0, 0, 1, 1, 0, 0, 0, 0, 1, 1, 0, 0,\n",
              "       1, 1, 1, 1, 1, 0, 0, 1, 1, 0, 1, 1, 1, 0, 0, 1, 0, 1, 1, 1, 1, 0,\n",
              "       0, 1, 1, 0, 0, 0, 0, 0, 1, 1, 0, 1, 1, 1, 1, 1, 0, 1, 0, 1, 0, 0,\n",
              "       1, 1, 1, 1, 0, 1, 1, 1, 0, 0, 0, 1, 0, 0, 1, 0, 1, 1, 0, 1, 0, 1,\n",
              "       0, 0, 0, 0, 0, 1, 1, 1, 0, 1, 1, 0, 1, 0, 1, 0, 0, 1, 0, 1, 0, 1,\n",
              "       0, 0, 0, 0, 1, 1, 1, 0, 1, 0, 1, 0, 1, 1, 1, 0, 1, 0, 1, 0, 1, 1,\n",
              "       1, 1, 0, 1, 1, 0, 1, 1, 1, 1, 1, 0, 1, 1, 0, 0, 1, 0, 0, 0, 1, 1,\n",
              "       0, 0, 1, 0, 0, 0, 1, 0, 1, 1, 0, 1, 0, 1, 1, 0, 0, 0, 1, 0, 0, 0,\n",
              "       1, 1, 1, 0, 1, 0, 1, 0, 0, 1, 1, 1, 0, 0, 1, 1, 1, 1, 1, 1, 0, 0,\n",
              "       0, 1, 1, 0, 1, 1, 0, 0, 1, 0, 0, 1, 1, 1, 0, 1, 1, 1, 1, 1, 0, 0,\n",
              "       1, 0, 1, 1, 0, 1, 1, 1, 0, 1, 1, 0, 1, 0, 0, 1, 1, 1, 0, 0, 1, 1,\n",
              "       0, 1, 0, 1, 0, 0, 0, 1, 1, 0, 0, 0, 1, 0, 0, 1, 1, 1, 1, 1, 1, 1,\n",
              "       0, 1, 1, 1, 0, 0, 0, 1, 1, 0, 1, 1, 1, 0, 1, 1, 0, 1, 0, 0, 0, 1,\n",
              "       1, 1, 1, 0, 0, 0, 0, 1, 1, 0, 0, 1, 0, 1, 1, 0, 1, 0, 1, 1, 1, 1,\n",
              "       0, 1, 1, 0, 1, 1, 0, 0, 1, 1, 0, 1, 0, 0, 0, 0, 1, 1, 1, 1, 0, 1,\n",
              "       1, 0, 1, 1, 0, 0, 1, 1, 1, 0, 1, 0, 0, 0, 1, 1, 1, 1, 0, 1, 0, 0,\n",
              "       1, 1, 1, 0, 0, 1, 1, 1, 0, 1, 1, 0, 1, 1, 1, 1, 1, 0, 1, 1, 1, 0,\n",
              "       0, 0, 0, 0, 1, 1, 1, 1, 1, 1, 0, 1, 0, 1, 1, 1, 0, 0, 1, 0, 0, 1,\n",
              "       1, 1, 1, 1, 1, 1, 0, 1, 0, 1, 0, 1, 1, 0, 1, 0, 0, 1, 1, 0, 0, 1,\n",
              "       1, 1, 1, 0, 0, 0, 0, 0, 1, 1, 0, 0, 1, 1, 1, 0, 0, 1, 0, 0, 0, 0,\n",
              "       0, 1, 1, 0, 0, 1, 1, 1, 0, 0, 0, 1, 0, 1, 1, 0, 1, 0, 1, 1, 1, 0,\n",
              "       0, 1, 0, 1, 1, 0, 1, 0, 1, 1, 1, 1, 1, 0, 1, 0, 0, 0, 0, 0, 1, 1,\n",
              "       0, 0, 1, 0, 0, 0, 1, 0, 1, 1, 0, 0, 0, 1, 1, 1, 0, 1, 0, 1, 0, 1,\n",
              "       0, 1, 1, 0, 1, 0, 0, 0, 0, 0, 1, 0, 0, 1, 1, 0, 1, 0, 1, 1, 1, 1,\n",
              "       1, 1, 1, 1, 1, 1, 1, 1, 1, 0, 0, 1, 0, 1, 1, 1, 1, 0, 1, 0, 1, 0,\n",
              "       1, 1, 1, 0, 1, 1, 1, 1, 1, 0, 1, 1, 1, 0, 0, 0, 0, 0, 0, 0, 1, 1,\n",
              "       1, 0, 1, 0, 1, 0, 1, 0, 1, 0, 1, 1, 1, 0, 1, 0, 1, 1, 1, 1, 1, 1,\n",
              "       1, 0, 1, 1, 0, 0, 1, 1, 1, 0, 0, 1, 1, 1, 1, 0, 0, 0, 0, 1, 1, 1,\n",
              "       0, 1, 1, 1, 1, 1, 0, 1, 0, 1, 1, 0, 1, 0, 0, 0, 1, 0, 1, 1, 1, 1,\n",
              "       0, 1, 0, 0, 1, 0, 1, 0, 0, 0, 1, 1, 1, 0, 0, 1, 0, 1, 1, 1, 1, 0,\n",
              "       0, 1, 0, 1, 1, 1, 0, 1, 0, 1, 0, 1, 1, 0, 1, 0, 1, 1, 0, 0, 0, 0,\n",
              "       1, 1, 0, 1, 0, 0, 0, 0, 1, 1, 0, 0, 0, 0, 0, 0, 0, 0, 0, 1, 1, 0,\n",
              "       1, 0, 0, 1, 0, 1, 1, 0, 0, 0, 0, 1, 0, 0, 1, 0, 1, 1, 0, 0, 1, 1,\n",
              "       0, 0, 1, 1, 0, 1, 1, 1, 1, 1, 1, 0, 0, 0, 1, 1, 0, 0, 0, 1, 1, 0,\n",
              "       0, 0, 1, 0, 0, 0, 0, 0, 1, 0, 1, 1, 0, 0, 1, 1, 1, 1, 0, 1, 0, 1,\n",
              "       0, 0, 0, 0, 0, 1, 0, 1, 0, 0, 0, 0, 0, 0, 0, 0, 0, 0, 0, 0, 1, 0,\n",
              "       0, 0, 0, 0, 0, 0, 0, 0, 0, 0, 0, 0, 0, 0, 0, 0, 0, 0, 0, 0, 0, 0,\n",
              "       0, 0, 0, 0, 0, 0, 0, 0, 0, 0, 0, 0, 0, 0, 0, 0, 0, 0, 0, 0, 0, 0,\n",
              "       0, 0, 0, 0, 0, 0, 0, 0, 0, 0, 0, 0, 0, 0, 0, 0, 0, 0, 0, 0, 0, 0,\n",
              "       0, 0, 0, 0, 0, 0, 0, 0, 0, 0])"
            ]
          },
          "metadata": {},
          "execution_count": 62
        }
      ]
    },
    {
      "cell_type": "markdown",
      "metadata": {
        "id": "DH_VjgPzC2cd"
      },
      "source": [
        "# Splitting data into training and testing datasets"
      ]
    },
    {
      "cell_type": "code",
      "metadata": {
        "id": "qQXYM5VzDDDI"
      },
      "source": [
        "from sklearn.model_selection import train_test_split\n",
        "X_train, X_test, y_train, y_test = train_test_split(X, y, test_size = 0.20, random_state = 0)"
      ],
      "execution_count": 63,
      "outputs": []
    },
    {
      "cell_type": "markdown",
      "metadata": {
        "id": "gw15OuFWsKTF"
      },
      "source": [
        "#Trainnig Logistic regression model\n",
        "\n"
      ]
    },
    {
      "cell_type": "code",
      "execution_count": 64,
      "metadata": {
        "colab": {
          "base_uri": "https://localhost:8080/",
          "height": 74
        },
        "id": "MHw608VpsJux",
        "outputId": "c897cad9-5353-4fbd-93dd-32c3b06fdf1a"
      },
      "outputs": [
        {
          "output_type": "execute_result",
          "data": {
            "text/plain": [
              "LogisticRegression(random_state=0, solver='liblinear')"
            ],
            "text/html": [
              "<style>#sk-container-id-2 {color: black;}#sk-container-id-2 pre{padding: 0;}#sk-container-id-2 div.sk-toggleable {background-color: white;}#sk-container-id-2 label.sk-toggleable__label {cursor: pointer;display: block;width: 100%;margin-bottom: 0;padding: 0.3em;box-sizing: border-box;text-align: center;}#sk-container-id-2 label.sk-toggleable__label-arrow:before {content: \"▸\";float: left;margin-right: 0.25em;color: #696969;}#sk-container-id-2 label.sk-toggleable__label-arrow:hover:before {color: black;}#sk-container-id-2 div.sk-estimator:hover label.sk-toggleable__label-arrow:before {color: black;}#sk-container-id-2 div.sk-toggleable__content {max-height: 0;max-width: 0;overflow: hidden;text-align: left;background-color: #f0f8ff;}#sk-container-id-2 div.sk-toggleable__content pre {margin: 0.2em;color: black;border-radius: 0.25em;background-color: #f0f8ff;}#sk-container-id-2 input.sk-toggleable__control:checked~div.sk-toggleable__content {max-height: 200px;max-width: 100%;overflow: auto;}#sk-container-id-2 input.sk-toggleable__control:checked~label.sk-toggleable__label-arrow:before {content: \"▾\";}#sk-container-id-2 div.sk-estimator input.sk-toggleable__control:checked~label.sk-toggleable__label {background-color: #d4ebff;}#sk-container-id-2 div.sk-label input.sk-toggleable__control:checked~label.sk-toggleable__label {background-color: #d4ebff;}#sk-container-id-2 input.sk-hidden--visually {border: 0;clip: rect(1px 1px 1px 1px);clip: rect(1px, 1px, 1px, 1px);height: 1px;margin: -1px;overflow: hidden;padding: 0;position: absolute;width: 1px;}#sk-container-id-2 div.sk-estimator {font-family: monospace;background-color: #f0f8ff;border: 1px dotted black;border-radius: 0.25em;box-sizing: border-box;margin-bottom: 0.5em;}#sk-container-id-2 div.sk-estimator:hover {background-color: #d4ebff;}#sk-container-id-2 div.sk-parallel-item::after {content: \"\";width: 100%;border-bottom: 1px solid gray;flex-grow: 1;}#sk-container-id-2 div.sk-label:hover label.sk-toggleable__label {background-color: #d4ebff;}#sk-container-id-2 div.sk-serial::before {content: \"\";position: absolute;border-left: 1px solid gray;box-sizing: border-box;top: 0;bottom: 0;left: 50%;z-index: 0;}#sk-container-id-2 div.sk-serial {display: flex;flex-direction: column;align-items: center;background-color: white;padding-right: 0.2em;padding-left: 0.2em;position: relative;}#sk-container-id-2 div.sk-item {position: relative;z-index: 1;}#sk-container-id-2 div.sk-parallel {display: flex;align-items: stretch;justify-content: center;background-color: white;position: relative;}#sk-container-id-2 div.sk-item::before, #sk-container-id-2 div.sk-parallel-item::before {content: \"\";position: absolute;border-left: 1px solid gray;box-sizing: border-box;top: 0;bottom: 0;left: 50%;z-index: -1;}#sk-container-id-2 div.sk-parallel-item {display: flex;flex-direction: column;z-index: 1;position: relative;background-color: white;}#sk-container-id-2 div.sk-parallel-item:first-child::after {align-self: flex-end;width: 50%;}#sk-container-id-2 div.sk-parallel-item:last-child::after {align-self: flex-start;width: 50%;}#sk-container-id-2 div.sk-parallel-item:only-child::after {width: 0;}#sk-container-id-2 div.sk-dashed-wrapped {border: 1px dashed gray;margin: 0 0.4em 0.5em 0.4em;box-sizing: border-box;padding-bottom: 0.4em;background-color: white;}#sk-container-id-2 div.sk-label label {font-family: monospace;font-weight: bold;display: inline-block;line-height: 1.2em;}#sk-container-id-2 div.sk-label-container {text-align: center;}#sk-container-id-2 div.sk-container {/* jupyter's `normalize.less` sets `[hidden] { display: none; }` but bootstrap.min.css set `[hidden] { display: none !important; }` so we also need the `!important` here to be able to override the default hidden behavior on the sphinx rendered scikit-learn.org. See: https://github.com/scikit-learn/scikit-learn/issues/21755 */display: inline-block !important;position: relative;}#sk-container-id-2 div.sk-text-repr-fallback {display: none;}</style><div id=\"sk-container-id-2\" class=\"sk-top-container\"><div class=\"sk-text-repr-fallback\"><pre>LogisticRegression(random_state=0, solver=&#x27;liblinear&#x27;)</pre><b>In a Jupyter environment, please rerun this cell to show the HTML representation or trust the notebook. <br />On GitHub, the HTML representation is unable to render, please try loading this page with nbviewer.org.</b></div><div class=\"sk-container\" hidden><div class=\"sk-item\"><div class=\"sk-estimator sk-toggleable\"><input class=\"sk-toggleable__control sk-hidden--visually\" id=\"sk-estimator-id-2\" type=\"checkbox\" checked><label for=\"sk-estimator-id-2\" class=\"sk-toggleable__label sk-toggleable__label-arrow\">LogisticRegression</label><div class=\"sk-toggleable__content\"><pre>LogisticRegression(random_state=0, solver=&#x27;liblinear&#x27;)</pre></div></div></div></div></div>"
            ]
          },
          "metadata": {},
          "execution_count": 64
        }
      ],
      "source": [
        "from sklearn.linear_model import LogisticRegression\n",
        "classifier = LogisticRegression(solver='liblinear',random_state = 0)\n",
        "classifier.fit(X_train, y_train)"
      ]
    },
    {
      "cell_type": "code",
      "execution_count": 65,
      "metadata": {
        "colab": {
          "base_uri": "https://localhost:8080/"
        },
        "id": "RR5xcxPAv0QN",
        "outputId": "a111bba7-2f47-4e81-aee2-eeac7bcf9831"
      },
      "outputs": [
        {
          "output_type": "stream",
          "name": "stdout",
          "text": [
            "[[85 12]\n",
            " [38 65]]\n"
          ]
        },
        {
          "output_type": "execute_result",
          "data": {
            "text/plain": [
              "0.75"
            ]
          },
          "metadata": {},
          "execution_count": 65
        }
      ],
      "source": [
        "from sklearn.metrics import confusion_matrix, accuracy_score\n",
        "y_pred = classifier.predict(X_test)\n",
        "cm = confusion_matrix(y_test, y_pred)\n",
        "print(cm)\n",
        "accuracy_score(y_test, y_pred)"
      ]
    },
    {
      "cell_type": "markdown",
      "source": [
        "###Testing model for overfitting"
      ],
      "metadata": {
        "id": "hJFTSHyWR9Gb"
      }
    },
    {
      "cell_type": "code",
      "source": [
        "y_train_pred = classifier.predict(X_train)\n",
        "cm = confusion_matrix(y_train, y_train_pred)\n",
        "print(cm)\n",
        "accuracy_score(y_train, y_train_pred)\n"
      ],
      "metadata": {
        "colab": {
          "base_uri": "https://localhost:8080/"
        },
        "id": "_GPthbxtRLoW",
        "outputId": "973f7254-0fc1-4ed9-d085-230acc95e537"
      },
      "execution_count": 66,
      "outputs": [
        {
          "output_type": "stream",
          "name": "stdout",
          "text": [
            "[[388  15]\n",
            " [ 26 371]]\n"
          ]
        },
        {
          "output_type": "execute_result",
          "data": {
            "text/plain": [
              "0.94875"
            ]
          },
          "metadata": {},
          "execution_count": 66
        }
      ]
    },
    {
      "cell_type": "markdown",
      "source": [
        "###Hyperparameter tuning with optuna"
      ],
      "metadata": {
        "id": "cvAK_wWQmmTV"
      }
    },
    {
      "cell_type": "code",
      "source": [
        "!pip install optuna\n"
      ],
      "metadata": {
        "colab": {
          "base_uri": "https://localhost:8080/"
        },
        "outputId": "c65a2438-62c4-4d8b-a396-ecb3e0a3bff0",
        "id": "cDcZOK_7mav2"
      },
      "execution_count": 67,
      "outputs": [
        {
          "output_type": "stream",
          "name": "stdout",
          "text": [
            "Requirement already satisfied: optuna in /usr/local/lib/python3.10/dist-packages (3.6.1)\n",
            "Requirement already satisfied: alembic>=1.5.0 in /usr/local/lib/python3.10/dist-packages (from optuna) (1.13.2)\n",
            "Requirement already satisfied: colorlog in /usr/local/lib/python3.10/dist-packages (from optuna) (6.8.2)\n",
            "Requirement already satisfied: numpy in /usr/local/lib/python3.10/dist-packages (from optuna) (1.26.4)\n",
            "Requirement already satisfied: packaging>=20.0 in /usr/local/lib/python3.10/dist-packages (from optuna) (24.1)\n",
            "Requirement already satisfied: sqlalchemy>=1.3.0 in /usr/local/lib/python3.10/dist-packages (from optuna) (2.0.31)\n",
            "Requirement already satisfied: tqdm in /usr/local/lib/python3.10/dist-packages (from optuna) (4.66.4)\n",
            "Requirement already satisfied: PyYAML in /usr/local/lib/python3.10/dist-packages (from optuna) (6.0.1)\n",
            "Requirement already satisfied: Mako in /usr/local/lib/python3.10/dist-packages (from alembic>=1.5.0->optuna) (1.3.5)\n",
            "Requirement already satisfied: typing-extensions>=4 in /usr/local/lib/python3.10/dist-packages (from alembic>=1.5.0->optuna) (4.12.2)\n",
            "Requirement already satisfied: greenlet!=0.4.17 in /usr/local/lib/python3.10/dist-packages (from sqlalchemy>=1.3.0->optuna) (3.0.3)\n",
            "Requirement already satisfied: MarkupSafe>=0.9.2 in /usr/local/lib/python3.10/dist-packages (from Mako->alembic>=1.5.0->optuna) (2.1.5)\n"
          ]
        }
      ]
    },
    {
      "cell_type": "code",
      "source": [
        "import optuna\n",
        "from sklearn.metrics import accuracy_score\n",
        "\n",
        "\n",
        "def objective(trial):\n",
        "\n",
        "    params = {\n",
        "    'C': trial.suggest_float('C', 0.01, 10.0),\n",
        "    'solver': trial.suggest_categorical('solver', ['liblinear', 'lbfgs', 'saga']),\n",
        "    'penalty': trial.suggest_categorical('penalty', ['l2']),\n",
        "    'max_iter': trial.suggest_int('max_iter', 100, 1000)\n",
        "}\n",
        "\n",
        "\n",
        "    log_class = LogisticRegression(**params)\n",
        "    log_class.fit(\n",
        "        X_train, y_train,\n",
        "\n",
        "    )\n",
        "    y_pred = log_class.predict(X_test)\n",
        "    return 1 - accuracy_score(y_test, y_pred)\n",
        "\n",
        "study = optuna.create_study(direction='minimize')\n",
        "study.optimize(objective, n_trials=50)\n",
        "print(\"Best hyperparameters: \", study.best_params)\n"
      ],
      "metadata": {
        "colab": {
          "base_uri": "https://localhost:8080/"
        },
        "outputId": "89f9f63d-c89e-414b-94b5-110e0b73b011",
        "id": "5qNSG5zVmav4"
      },
      "execution_count": 68,
      "outputs": [
        {
          "output_type": "stream",
          "name": "stderr",
          "text": [
            "[I 2024-08-03 07:45:26,118] A new study created in memory with name: no-name-aeb7c444-5903-4a02-a225-505d2e12a584\n",
            "[I 2024-08-03 07:45:26,324] Trial 0 finished with value: 0.235 and parameters: {'C': 4.994923203009074, 'solver': 'lbfgs', 'penalty': 'l2', 'max_iter': 829}. Best is trial 0 with value: 0.235.\n",
            "[I 2024-08-03 07:45:29,683] Trial 1 finished with value: 0.245 and parameters: {'C': 2.4617291524510465, 'solver': 'saga', 'penalty': 'l2', 'max_iter': 198}. Best is trial 0 with value: 0.235.\n",
            "[I 2024-08-03 07:45:29,913] Trial 2 finished with value: 0.235 and parameters: {'C': 3.654128490106907, 'solver': 'lbfgs', 'penalty': 'l2', 'max_iter': 760}. Best is trial 0 with value: 0.235.\n",
            "/usr/local/lib/python3.10/dist-packages/sklearn/linear_model/_sag.py:350: ConvergenceWarning: The max_iter was reached which means the coef_ did not converge\n",
            "  warnings.warn(\n",
            "[I 2024-08-03 07:45:36,250] Trial 3 finished with value: 0.235 and parameters: {'C': 4.467615471756433, 'solver': 'saga', 'penalty': 'l2', 'max_iter': 149}. Best is trial 0 with value: 0.235.\n",
            "[I 2024-08-03 07:45:36,308] Trial 4 finished with value: 0.235 and parameters: {'C': 4.811798711287491, 'solver': 'liblinear', 'penalty': 'l2', 'max_iter': 394}. Best is trial 0 with value: 0.235.\n",
            "[I 2024-08-03 07:45:36,707] Trial 5 finished with value: 0.24 and parameters: {'C': 7.939622974618974, 'solver': 'lbfgs', 'penalty': 'l2', 'max_iter': 688}. Best is trial 0 with value: 0.235.\n",
            "[I 2024-08-03 07:45:41,436] Trial 6 finished with value: 0.25 and parameters: {'C': 2.022259402107436, 'solver': 'saga', 'penalty': 'l2', 'max_iter': 435}. Best is trial 0 with value: 0.235.\n",
            "[I 2024-08-03 07:45:47,656] Trial 7 finished with value: 0.235 and parameters: {'C': 4.381651529809932, 'solver': 'saga', 'penalty': 'l2', 'max_iter': 880}. Best is trial 0 with value: 0.235.\n",
            "[I 2024-08-03 07:45:47,900] Trial 8 finished with value: 0.235 and parameters: {'C': 6.077410399333369, 'solver': 'lbfgs', 'penalty': 'l2', 'max_iter': 865}. Best is trial 0 with value: 0.235.\n",
            "[I 2024-08-03 07:45:48,059] Trial 9 finished with value: 0.235 and parameters: {'C': 5.537508570045264, 'solver': 'lbfgs', 'penalty': 'l2', 'max_iter': 442}. Best is trial 0 with value: 0.235.\n",
            "[I 2024-08-03 07:45:48,169] Trial 10 finished with value: 0.245 and parameters: {'C': 9.755446001758283, 'solver': 'liblinear', 'penalty': 'l2', 'max_iter': 987}. Best is trial 0 with value: 0.235.\n",
            "[I 2024-08-03 07:45:48,409] Trial 11 finished with value: 0.235 and parameters: {'C': 3.2104929798814617, 'solver': 'lbfgs', 'penalty': 'l2', 'max_iter': 729}. Best is trial 0 with value: 0.235.\n",
            "[I 2024-08-03 07:45:48,602] Trial 12 finished with value: 0.245 and parameters: {'C': 0.510125234112075, 'solver': 'lbfgs', 'penalty': 'l2', 'max_iter': 668}. Best is trial 0 with value: 0.235.\n",
            "[I 2024-08-03 07:45:49,009] Trial 13 finished with value: 0.235 and parameters: {'C': 6.971289549676867, 'solver': 'lbfgs', 'penalty': 'l2', 'max_iter': 817}. Best is trial 0 with value: 0.235.\n",
            "[I 2024-08-03 07:45:49,259] Trial 14 finished with value: 0.235 and parameters: {'C': 3.4037738976719942, 'solver': 'lbfgs', 'penalty': 'l2', 'max_iter': 588}. Best is trial 0 with value: 0.235.\n",
            "[I 2024-08-03 07:45:49,494] Trial 15 finished with value: 0.245 and parameters: {'C': 0.5579849066560412, 'solver': 'lbfgs', 'penalty': 'l2', 'max_iter': 971}. Best is trial 0 with value: 0.235.\n",
            "[I 2024-08-03 07:45:49,592] Trial 16 finished with value: 0.235 and parameters: {'C': 7.496438823357498, 'solver': 'liblinear', 'penalty': 'l2', 'max_iter': 798}. Best is trial 0 with value: 0.235.\n",
            "[I 2024-08-03 07:45:49,922] Trial 17 finished with value: 0.255 and parameters: {'C': 1.59216444150616, 'solver': 'lbfgs', 'penalty': 'l2', 'max_iter': 572}. Best is trial 0 with value: 0.235.\n",
            "[I 2024-08-03 07:45:50,464] Trial 18 finished with value: 0.24 and parameters: {'C': 8.671354037800679, 'solver': 'lbfgs', 'penalty': 'l2', 'max_iter': 749}. Best is trial 0 with value: 0.235.\n",
            "[I 2024-08-03 07:45:50,650] Trial 19 finished with value: 0.235 and parameters: {'C': 6.279910895927564, 'solver': 'liblinear', 'penalty': 'l2', 'max_iter': 902}. Best is trial 0 with value: 0.235.\n",
            "[I 2024-08-03 07:45:51,145] Trial 20 finished with value: 0.235 and parameters: {'C': 3.352290120153188, 'solver': 'lbfgs', 'penalty': 'l2', 'max_iter': 303}. Best is trial 0 with value: 0.235.\n",
            "/usr/local/lib/python3.10/dist-packages/sklearn/linear_model/_sag.py:350: ConvergenceWarning: The max_iter was reached which means the coef_ did not converge\n",
            "  warnings.warn(\n",
            "[I 2024-08-03 07:45:59,116] Trial 21 finished with value: 0.235 and parameters: {'C': 4.364823737991682, 'solver': 'saga', 'penalty': 'l2', 'max_iter': 152}. Best is trial 0 with value: 0.235.\n",
            "[I 2024-08-03 07:46:04,502] Trial 22 finished with value: 0.235 and parameters: {'C': 4.017732820265411, 'solver': 'saga', 'penalty': 'l2', 'max_iter': 639}. Best is trial 0 with value: 0.235.\n",
            "/usr/local/lib/python3.10/dist-packages/sklearn/linear_model/_sag.py:350: ConvergenceWarning: The max_iter was reached which means the coef_ did not converge\n",
            "  warnings.warn(\n",
            "[I 2024-08-03 07:46:06,091] Trial 23 finished with value: 0.24 and parameters: {'C': 5.299041671995966, 'solver': 'saga', 'penalty': 'l2', 'max_iter': 100}. Best is trial 0 with value: 0.235.\n",
            "[I 2024-08-03 07:46:09,315] Trial 24 finished with value: 0.245 and parameters: {'C': 2.662927881826256, 'solver': 'saga', 'penalty': 'l2', 'max_iter': 511}. Best is trial 0 with value: 0.235.\n",
            "[I 2024-08-03 07:46:13,656] Trial 25 finished with value: 0.235 and parameters: {'C': 5.995465320306641, 'solver': 'saga', 'penalty': 'l2', 'max_iter': 260}. Best is trial 0 with value: 0.235.\n",
            "[I 2024-08-03 07:46:13,774] Trial 26 finished with value: 0.235 and parameters: {'C': 3.8928845442841085, 'solver': 'lbfgs', 'penalty': 'l2', 'max_iter': 775}. Best is trial 0 with value: 0.235.\n",
            "[I 2024-08-03 07:46:15,312] Trial 27 finished with value: 0.255 and parameters: {'C': 1.6036352142012276, 'solver': 'saga', 'penalty': 'l2', 'max_iter': 347}. Best is trial 0 with value: 0.235.\n",
            "[I 2024-08-03 07:46:15,362] Trial 28 finished with value: 0.235 and parameters: {'C': 5.045288639671993, 'solver': 'liblinear', 'penalty': 'l2', 'max_iter': 509}. Best is trial 0 with value: 0.235.\n",
            "[I 2024-08-03 07:46:15,480] Trial 29 finished with value: 0.245 and parameters: {'C': 2.661724579241194, 'solver': 'lbfgs', 'penalty': 'l2', 'max_iter': 838}. Best is trial 0 with value: 0.235.\n",
            "[I 2024-08-03 07:46:19,294] Trial 30 finished with value: 0.235 and parameters: {'C': 6.615771897019472, 'solver': 'saga', 'penalty': 'l2', 'max_iter': 932}. Best is trial 0 with value: 0.235.\n",
            "[I 2024-08-03 07:46:19,345] Trial 31 finished with value: 0.235 and parameters: {'C': 4.6811417678448475, 'solver': 'liblinear', 'penalty': 'l2', 'max_iter': 199}. Best is trial 0 with value: 0.235.\n",
            "[I 2024-08-03 07:46:19,390] Trial 32 finished with value: 0.235 and parameters: {'C': 5.5472168596053155, 'solver': 'liblinear', 'penalty': 'l2', 'max_iter': 389}. Best is trial 0 with value: 0.235.\n",
            "[I 2024-08-03 07:46:19,452] Trial 33 finished with value: 0.235 and parameters: {'C': 4.769394384335879, 'solver': 'liblinear', 'penalty': 'l2', 'max_iter': 233}. Best is trial 0 with value: 0.235.\n",
            "[I 2024-08-03 07:46:19,497] Trial 34 finished with value: 0.235 and parameters: {'C': 3.6851319571545638, 'solver': 'liblinear', 'penalty': 'l2', 'max_iter': 711}. Best is trial 0 with value: 0.235.\n",
            "[I 2024-08-03 07:46:19,543] Trial 35 finished with value: 0.235 and parameters: {'C': 4.177742629443047, 'solver': 'liblinear', 'penalty': 'l2', 'max_iter': 453}. Best is trial 0 with value: 0.235.\n",
            "[I 2024-08-03 07:46:19,641] Trial 36 finished with value: 0.245 and parameters: {'C': 2.3604828920048577, 'solver': 'lbfgs', 'penalty': 'l2', 'max_iter': 619}. Best is trial 0 with value: 0.235.\n",
            "[I 2024-08-03 07:46:24,032] Trial 37 finished with value: 0.235 and parameters: {'C': 5.872371634832619, 'solver': 'saga', 'penalty': 'l2', 'max_iter': 369}. Best is trial 0 with value: 0.235.\n",
            "[I 2024-08-03 07:46:24,265] Trial 38 finished with value: 0.235 and parameters: {'C': 4.981563203405175, 'solver': 'lbfgs', 'penalty': 'l2', 'max_iter': 303}. Best is trial 0 with value: 0.235.\n",
            "/usr/local/lib/python3.10/dist-packages/sklearn/linear_model/_sag.py:350: ConvergenceWarning: The max_iter was reached which means the coef_ did not converge\n",
            "  warnings.warn(\n",
            "[I 2024-08-03 07:46:27,398] Trial 39 finished with value: 0.22999999999999998 and parameters: {'C': 3.05945647040965, 'solver': 'saga', 'penalty': 'l2', 'max_iter': 133}. Best is trial 39 with value: 0.22999999999999998.\n",
            "[I 2024-08-03 07:46:28,852] Trial 40 finished with value: 0.255 and parameters: {'C': 1.510617916382587, 'solver': 'saga', 'penalty': 'l2', 'max_iter': 100}. Best is trial 39 with value: 0.22999999999999998.\n",
            "[I 2024-08-03 07:46:31,086] Trial 41 finished with value: 0.235 and parameters: {'C': 3.0017159229261368, 'solver': 'saga', 'penalty': 'l2', 'max_iter': 162}. Best is trial 39 with value: 0.22999999999999998.\n",
            "/usr/local/lib/python3.10/dist-packages/sklearn/linear_model/_sag.py:350: ConvergenceWarning: The max_iter was reached which means the coef_ did not converge\n",
            "  warnings.warn(\n",
            "[I 2024-08-03 07:46:33,633] Trial 42 finished with value: 0.235 and parameters: {'C': 4.687700342887627, 'solver': 'saga', 'penalty': 'l2', 'max_iter': 159}. Best is trial 39 with value: 0.22999999999999998.\n",
            "[I 2024-08-03 07:46:36,220] Trial 43 finished with value: 0.235 and parameters: {'C': 3.6835586339718507, 'solver': 'saga', 'penalty': 'l2', 'max_iter': 235}. Best is trial 39 with value: 0.22999999999999998.\n",
            "[I 2024-08-03 07:46:36,338] Trial 44 finished with value: 0.245 and parameters: {'C': 2.1232179776282822, 'solver': 'lbfgs', 'penalty': 'l2', 'max_iter': 690}. Best is trial 39 with value: 0.22999999999999998.\n",
            "[I 2024-08-03 07:46:36,447] Trial 45 finished with value: 0.235 and parameters: {'C': 3.01359883213445, 'solver': 'lbfgs', 'penalty': 'l2', 'max_iter': 865}. Best is trial 39 with value: 0.22999999999999998.\n",
            "[I 2024-08-03 07:46:36,502] Trial 46 finished with value: 0.235 and parameters: {'C': 4.357787577207034, 'solver': 'liblinear', 'penalty': 'l2', 'max_iter': 297}. Best is trial 39 with value: 0.22999999999999998.\n",
            "[I 2024-08-03 07:46:36,630] Trial 47 finished with value: 0.235 and parameters: {'C': 5.384944743045856, 'solver': 'lbfgs', 'penalty': 'l2', 'max_iter': 510}. Best is trial 39 with value: 0.22999999999999998.\n",
            "[I 2024-08-03 07:46:42,664] Trial 48 finished with value: 0.235 and parameters: {'C': 7.399100434714457, 'solver': 'saga', 'penalty': 'l2', 'max_iter': 931}. Best is trial 39 with value: 0.22999999999999998.\n",
            "[I 2024-08-03 07:46:42,785] Trial 49 finished with value: 0.235 and parameters: {'C': 3.6051450533020057, 'solver': 'lbfgs', 'penalty': 'l2', 'max_iter': 426}. Best is trial 39 with value: 0.22999999999999998.\n"
          ]
        },
        {
          "output_type": "stream",
          "name": "stdout",
          "text": [
            "Best hyperparameters:  {'C': 3.05945647040965, 'solver': 'saga', 'penalty': 'l2', 'max_iter': 133}\n"
          ]
        }
      ]
    },
    {
      "cell_type": "markdown",
      "source": [
        "###building model with best parameters"
      ],
      "metadata": {
        "id": "w26LLMVihxLa"
      }
    },
    {
      "cell_type": "code",
      "source": [
        "best_classifier = LogisticRegression(**study.best_params)\n",
        "best_classifier.fit(X_train, y_train)\n",
        "from sklearn.metrics import confusion_matrix, accuracy_score\n",
        "y_pred = best_classifier.predict(X_test)\n",
        "cm = confusion_matrix(y_test, y_pred)\n",
        "print(cm)\n",
        "accuracy_score(y_test, y_pred)"
      ],
      "metadata": {
        "colab": {
          "base_uri": "https://localhost:8080/"
        },
        "outputId": "ecabda24-0c6b-43ab-8200-a33b51ca7486",
        "id": "f5OWmVyRhxLa"
      },
      "execution_count": 69,
      "outputs": [
        {
          "output_type": "stream",
          "name": "stdout",
          "text": [
            "[[83 14]\n",
            " [33 70]]\n"
          ]
        },
        {
          "output_type": "stream",
          "name": "stderr",
          "text": [
            "/usr/local/lib/python3.10/dist-packages/sklearn/linear_model/_sag.py:350: ConvergenceWarning: The max_iter was reached which means the coef_ did not converge\n",
            "  warnings.warn(\n"
          ]
        },
        {
          "output_type": "execute_result",
          "data": {
            "text/plain": [
              "0.765"
            ]
          },
          "metadata": {},
          "execution_count": 69
        }
      ]
    },
    {
      "cell_type": "markdown",
      "metadata": {
        "id": "_05U5kwwMHT3"
      },
      "source": [
        "#Training a knn model\n",
        "\n",
        "\n"
      ]
    },
    {
      "cell_type": "code",
      "execution_count": 70,
      "metadata": {
        "colab": {
          "base_uri": "https://localhost:8080/",
          "height": 74
        },
        "id": "26Y8029AL4OC",
        "outputId": "84b6f50a-153b-4049-e59e-fba2f63c5ad0"
      },
      "outputs": [
        {
          "output_type": "execute_result",
          "data": {
            "text/plain": [
              "KNeighborsClassifier()"
            ],
            "text/html": [
              "<style>#sk-container-id-3 {color: black;}#sk-container-id-3 pre{padding: 0;}#sk-container-id-3 div.sk-toggleable {background-color: white;}#sk-container-id-3 label.sk-toggleable__label {cursor: pointer;display: block;width: 100%;margin-bottom: 0;padding: 0.3em;box-sizing: border-box;text-align: center;}#sk-container-id-3 label.sk-toggleable__label-arrow:before {content: \"▸\";float: left;margin-right: 0.25em;color: #696969;}#sk-container-id-3 label.sk-toggleable__label-arrow:hover:before {color: black;}#sk-container-id-3 div.sk-estimator:hover label.sk-toggleable__label-arrow:before {color: black;}#sk-container-id-3 div.sk-toggleable__content {max-height: 0;max-width: 0;overflow: hidden;text-align: left;background-color: #f0f8ff;}#sk-container-id-3 div.sk-toggleable__content pre {margin: 0.2em;color: black;border-radius: 0.25em;background-color: #f0f8ff;}#sk-container-id-3 input.sk-toggleable__control:checked~div.sk-toggleable__content {max-height: 200px;max-width: 100%;overflow: auto;}#sk-container-id-3 input.sk-toggleable__control:checked~label.sk-toggleable__label-arrow:before {content: \"▾\";}#sk-container-id-3 div.sk-estimator input.sk-toggleable__control:checked~label.sk-toggleable__label {background-color: #d4ebff;}#sk-container-id-3 div.sk-label input.sk-toggleable__control:checked~label.sk-toggleable__label {background-color: #d4ebff;}#sk-container-id-3 input.sk-hidden--visually {border: 0;clip: rect(1px 1px 1px 1px);clip: rect(1px, 1px, 1px, 1px);height: 1px;margin: -1px;overflow: hidden;padding: 0;position: absolute;width: 1px;}#sk-container-id-3 div.sk-estimator {font-family: monospace;background-color: #f0f8ff;border: 1px dotted black;border-radius: 0.25em;box-sizing: border-box;margin-bottom: 0.5em;}#sk-container-id-3 div.sk-estimator:hover {background-color: #d4ebff;}#sk-container-id-3 div.sk-parallel-item::after {content: \"\";width: 100%;border-bottom: 1px solid gray;flex-grow: 1;}#sk-container-id-3 div.sk-label:hover label.sk-toggleable__label {background-color: #d4ebff;}#sk-container-id-3 div.sk-serial::before {content: \"\";position: absolute;border-left: 1px solid gray;box-sizing: border-box;top: 0;bottom: 0;left: 50%;z-index: 0;}#sk-container-id-3 div.sk-serial {display: flex;flex-direction: column;align-items: center;background-color: white;padding-right: 0.2em;padding-left: 0.2em;position: relative;}#sk-container-id-3 div.sk-item {position: relative;z-index: 1;}#sk-container-id-3 div.sk-parallel {display: flex;align-items: stretch;justify-content: center;background-color: white;position: relative;}#sk-container-id-3 div.sk-item::before, #sk-container-id-3 div.sk-parallel-item::before {content: \"\";position: absolute;border-left: 1px solid gray;box-sizing: border-box;top: 0;bottom: 0;left: 50%;z-index: -1;}#sk-container-id-3 div.sk-parallel-item {display: flex;flex-direction: column;z-index: 1;position: relative;background-color: white;}#sk-container-id-3 div.sk-parallel-item:first-child::after {align-self: flex-end;width: 50%;}#sk-container-id-3 div.sk-parallel-item:last-child::after {align-self: flex-start;width: 50%;}#sk-container-id-3 div.sk-parallel-item:only-child::after {width: 0;}#sk-container-id-3 div.sk-dashed-wrapped {border: 1px dashed gray;margin: 0 0.4em 0.5em 0.4em;box-sizing: border-box;padding-bottom: 0.4em;background-color: white;}#sk-container-id-3 div.sk-label label {font-family: monospace;font-weight: bold;display: inline-block;line-height: 1.2em;}#sk-container-id-3 div.sk-label-container {text-align: center;}#sk-container-id-3 div.sk-container {/* jupyter's `normalize.less` sets `[hidden] { display: none; }` but bootstrap.min.css set `[hidden] { display: none !important; }` so we also need the `!important` here to be able to override the default hidden behavior on the sphinx rendered scikit-learn.org. See: https://github.com/scikit-learn/scikit-learn/issues/21755 */display: inline-block !important;position: relative;}#sk-container-id-3 div.sk-text-repr-fallback {display: none;}</style><div id=\"sk-container-id-3\" class=\"sk-top-container\"><div class=\"sk-text-repr-fallback\"><pre>KNeighborsClassifier()</pre><b>In a Jupyter environment, please rerun this cell to show the HTML representation or trust the notebook. <br />On GitHub, the HTML representation is unable to render, please try loading this page with nbviewer.org.</b></div><div class=\"sk-container\" hidden><div class=\"sk-item\"><div class=\"sk-estimator sk-toggleable\"><input class=\"sk-toggleable__control sk-hidden--visually\" id=\"sk-estimator-id-3\" type=\"checkbox\" checked><label for=\"sk-estimator-id-3\" class=\"sk-toggleable__label sk-toggleable__label-arrow\">KNeighborsClassifier</label><div class=\"sk-toggleable__content\"><pre>KNeighborsClassifier()</pre></div></div></div></div></div>"
            ]
          },
          "metadata": {},
          "execution_count": 70
        }
      ],
      "source": [
        "from sklearn.neighbors import KNeighborsClassifier\n",
        "classifier = KNeighborsClassifier()\n",
        "classifier.fit(X_train, y_train)"
      ]
    },
    {
      "cell_type": "code",
      "execution_count": 71,
      "metadata": {
        "colab": {
          "base_uri": "https://localhost:8080/"
        },
        "id": "tZgaMZdxME8G",
        "outputId": "de70a1f7-337e-4558-fb8f-2f170e12256e"
      },
      "outputs": [
        {
          "output_type": "stream",
          "name": "stdout",
          "text": [
            "[[85 12]\n",
            " [61 42]]\n"
          ]
        },
        {
          "output_type": "execute_result",
          "data": {
            "text/plain": [
              "0.635"
            ]
          },
          "metadata": {},
          "execution_count": 71
        }
      ],
      "source": [
        "from sklearn.metrics import confusion_matrix, accuracy_score\n",
        "y_pred = classifier.predict(X_test)\n",
        "cm = confusion_matrix(y_test, y_pred)\n",
        "print(cm)\n",
        "accuracy_score(y_test, y_pred)"
      ]
    },
    {
      "cell_type": "markdown",
      "source": [
        "###testing for overfiting"
      ],
      "metadata": {
        "id": "Odyx1K3gSOf-"
      }
    },
    {
      "cell_type": "code",
      "source": [
        "y_train_pred = classifier.predict(X_train)\n",
        "cm = confusion_matrix(y_train, y_train_pred)\n",
        "print(cm)\n",
        "accuracy_score(y_train, y_train_pred)\n"
      ],
      "metadata": {
        "colab": {
          "base_uri": "https://localhost:8080/"
        },
        "id": "RgSBLTJASICu",
        "outputId": "42b76b76-7a68-41a3-dd69-bff51db76e23"
      },
      "execution_count": 72,
      "outputs": [
        {
          "output_type": "stream",
          "name": "stdout",
          "text": [
            "[[366  37]\n",
            " [138 259]]\n"
          ]
        },
        {
          "output_type": "execute_result",
          "data": {
            "text/plain": [
              "0.78125"
            ]
          },
          "metadata": {},
          "execution_count": 72
        }
      ]
    },
    {
      "cell_type": "markdown",
      "metadata": {
        "id": "VftDKXziY467"
      },
      "source": [
        "###Grid search"
      ]
    },
    {
      "cell_type": "code",
      "execution_count": 73,
      "metadata": {
        "colab": {
          "base_uri": "https://localhost:8080/"
        },
        "id": "gVZXAqyhY9Ti",
        "outputId": "9f9e0137-c62f-450e-9fc2-42f997a42e57"
      },
      "outputs": [
        {
          "output_type": "stream",
          "name": "stdout",
          "text": [
            "Fitting 5 folds for each of 186 candidates, totalling 930 fits\n",
            "Best Accuracy: 69.50 %\n",
            "Best Parameters: {'metric': 'manhattan', 'n_neighbors': 3, 'weights': 'distance'}\n"
          ]
        }
      ],
      "source": [
        "from sklearn.model_selection import GridSearchCV\n",
        "parameters = {\n",
        "    'n_neighbors': list(range(1, 32)),\n",
        "    'metric': ['euclidean', 'manhattan', 'minkowski'],\n",
        "    'weights': ['uniform', 'distance']\n",
        "}\n",
        "grid_search = GridSearchCV(estimator = classifier,\n",
        "                           param_grid = parameters,\n",
        "                           scoring = 'accuracy',\n",
        "                           cv = 5,\n",
        "                           n_jobs = -1,\n",
        "                           verbose = 2)\n",
        "grid_search.fit(X_train, y_train)\n",
        "best_accuracy = grid_search.best_score_\n",
        "best_parameters = grid_search.best_params_\n",
        "best_base_classifier = grid_search.best_estimator_\n",
        "\n",
        "print(\"Best Accuracy: {:.2f} %\".format(best_accuracy*100))\n",
        "print(\"Best Parameters:\", best_parameters)"
      ]
    },
    {
      "cell_type": "markdown",
      "source": [
        "###building model with best parameters"
      ],
      "metadata": {
        "id": "-JSavuaWhzaC"
      }
    },
    {
      "cell_type": "code",
      "source": [
        "best_base_classifier.fit(X_train, y_train)\n",
        "\n",
        "from sklearn.metrics import confusion_matrix, accuracy_score\n",
        "y_pred = best_base_classifier.predict(X_test)\n",
        "cm = confusion_matrix(y_test, y_pred)\n",
        "print(cm)\n",
        "accuracy_score(y_test, y_pred)"
      ],
      "metadata": {
        "colab": {
          "base_uri": "https://localhost:8080/"
        },
        "outputId": "1a5f6671-0288-476d-d657-b66f1d37d3a1",
        "id": "VojHqyUHhzaC"
      },
      "execution_count": 74,
      "outputs": [
        {
          "output_type": "stream",
          "name": "stdout",
          "text": [
            "[[80 17]\n",
            " [52 51]]\n"
          ]
        },
        {
          "output_type": "execute_result",
          "data": {
            "text/plain": [
              "0.655"
            ]
          },
          "metadata": {},
          "execution_count": 74
        }
      ]
    },
    {
      "cell_type": "markdown",
      "metadata": {
        "id": "dsjPHGFFMRWb"
      },
      "source": [
        "#Training a Descision Tree model"
      ]
    },
    {
      "cell_type": "code",
      "execution_count": 75,
      "metadata": {
        "colab": {
          "base_uri": "https://localhost:8080/",
          "height": 74
        },
        "id": "K7cQa3guMcqS",
        "outputId": "6bfe75da-4ad8-4936-caa9-a544bac6cd40"
      },
      "outputs": [
        {
          "output_type": "execute_result",
          "data": {
            "text/plain": [
              "DecisionTreeClassifier(criterion='entropy', random_state=42)"
            ],
            "text/html": [
              "<style>#sk-container-id-4 {color: black;}#sk-container-id-4 pre{padding: 0;}#sk-container-id-4 div.sk-toggleable {background-color: white;}#sk-container-id-4 label.sk-toggleable__label {cursor: pointer;display: block;width: 100%;margin-bottom: 0;padding: 0.3em;box-sizing: border-box;text-align: center;}#sk-container-id-4 label.sk-toggleable__label-arrow:before {content: \"▸\";float: left;margin-right: 0.25em;color: #696969;}#sk-container-id-4 label.sk-toggleable__label-arrow:hover:before {color: black;}#sk-container-id-4 div.sk-estimator:hover label.sk-toggleable__label-arrow:before {color: black;}#sk-container-id-4 div.sk-toggleable__content {max-height: 0;max-width: 0;overflow: hidden;text-align: left;background-color: #f0f8ff;}#sk-container-id-4 div.sk-toggleable__content pre {margin: 0.2em;color: black;border-radius: 0.25em;background-color: #f0f8ff;}#sk-container-id-4 input.sk-toggleable__control:checked~div.sk-toggleable__content {max-height: 200px;max-width: 100%;overflow: auto;}#sk-container-id-4 input.sk-toggleable__control:checked~label.sk-toggleable__label-arrow:before {content: \"▾\";}#sk-container-id-4 div.sk-estimator input.sk-toggleable__control:checked~label.sk-toggleable__label {background-color: #d4ebff;}#sk-container-id-4 div.sk-label input.sk-toggleable__control:checked~label.sk-toggleable__label {background-color: #d4ebff;}#sk-container-id-4 input.sk-hidden--visually {border: 0;clip: rect(1px 1px 1px 1px);clip: rect(1px, 1px, 1px, 1px);height: 1px;margin: -1px;overflow: hidden;padding: 0;position: absolute;width: 1px;}#sk-container-id-4 div.sk-estimator {font-family: monospace;background-color: #f0f8ff;border: 1px dotted black;border-radius: 0.25em;box-sizing: border-box;margin-bottom: 0.5em;}#sk-container-id-4 div.sk-estimator:hover {background-color: #d4ebff;}#sk-container-id-4 div.sk-parallel-item::after {content: \"\";width: 100%;border-bottom: 1px solid gray;flex-grow: 1;}#sk-container-id-4 div.sk-label:hover label.sk-toggleable__label {background-color: #d4ebff;}#sk-container-id-4 div.sk-serial::before {content: \"\";position: absolute;border-left: 1px solid gray;box-sizing: border-box;top: 0;bottom: 0;left: 50%;z-index: 0;}#sk-container-id-4 div.sk-serial {display: flex;flex-direction: column;align-items: center;background-color: white;padding-right: 0.2em;padding-left: 0.2em;position: relative;}#sk-container-id-4 div.sk-item {position: relative;z-index: 1;}#sk-container-id-4 div.sk-parallel {display: flex;align-items: stretch;justify-content: center;background-color: white;position: relative;}#sk-container-id-4 div.sk-item::before, #sk-container-id-4 div.sk-parallel-item::before {content: \"\";position: absolute;border-left: 1px solid gray;box-sizing: border-box;top: 0;bottom: 0;left: 50%;z-index: -1;}#sk-container-id-4 div.sk-parallel-item {display: flex;flex-direction: column;z-index: 1;position: relative;background-color: white;}#sk-container-id-4 div.sk-parallel-item:first-child::after {align-self: flex-end;width: 50%;}#sk-container-id-4 div.sk-parallel-item:last-child::after {align-self: flex-start;width: 50%;}#sk-container-id-4 div.sk-parallel-item:only-child::after {width: 0;}#sk-container-id-4 div.sk-dashed-wrapped {border: 1px dashed gray;margin: 0 0.4em 0.5em 0.4em;box-sizing: border-box;padding-bottom: 0.4em;background-color: white;}#sk-container-id-4 div.sk-label label {font-family: monospace;font-weight: bold;display: inline-block;line-height: 1.2em;}#sk-container-id-4 div.sk-label-container {text-align: center;}#sk-container-id-4 div.sk-container {/* jupyter's `normalize.less` sets `[hidden] { display: none; }` but bootstrap.min.css set `[hidden] { display: none !important; }` so we also need the `!important` here to be able to override the default hidden behavior on the sphinx rendered scikit-learn.org. See: https://github.com/scikit-learn/scikit-learn/issues/21755 */display: inline-block !important;position: relative;}#sk-container-id-4 div.sk-text-repr-fallback {display: none;}</style><div id=\"sk-container-id-4\" class=\"sk-top-container\"><div class=\"sk-text-repr-fallback\"><pre>DecisionTreeClassifier(criterion=&#x27;entropy&#x27;, random_state=42)</pre><b>In a Jupyter environment, please rerun this cell to show the HTML representation or trust the notebook. <br />On GitHub, the HTML representation is unable to render, please try loading this page with nbviewer.org.</b></div><div class=\"sk-container\" hidden><div class=\"sk-item\"><div class=\"sk-estimator sk-toggleable\"><input class=\"sk-toggleable__control sk-hidden--visually\" id=\"sk-estimator-id-4\" type=\"checkbox\" checked><label for=\"sk-estimator-id-4\" class=\"sk-toggleable__label sk-toggleable__label-arrow\">DecisionTreeClassifier</label><div class=\"sk-toggleable__content\"><pre>DecisionTreeClassifier(criterion=&#x27;entropy&#x27;, random_state=42)</pre></div></div></div></div></div>"
            ]
          },
          "metadata": {},
          "execution_count": 75
        }
      ],
      "source": [
        "from sklearn.tree import DecisionTreeClassifier\n",
        "classifier = DecisionTreeClassifier(criterion = 'entropy', random_state = 42)\n",
        "classifier.fit(X_train, y_train)"
      ]
    },
    {
      "cell_type": "code",
      "execution_count": 76,
      "metadata": {
        "colab": {
          "base_uri": "https://localhost:8080/"
        },
        "id": "nt341MjlMgjL",
        "outputId": "e100ea2c-47d2-4517-a012-f0cb23186e57"
      },
      "outputs": [
        {
          "output_type": "stream",
          "name": "stdout",
          "text": [
            "[[76 21]\n",
            " [46 57]]\n"
          ]
        },
        {
          "output_type": "execute_result",
          "data": {
            "text/plain": [
              "0.665"
            ]
          },
          "metadata": {},
          "execution_count": 76
        }
      ],
      "source": [
        "from sklearn.metrics import confusion_matrix, accuracy_score\n",
        "y_pred = classifier.predict(X_test)\n",
        "cm = confusion_matrix(y_test, y_pred)\n",
        "print(cm)\n",
        "accuracy_score(y_test, y_pred)"
      ]
    },
    {
      "cell_type": "markdown",
      "metadata": {
        "id": "C8jS9wqXZNmR"
      },
      "source": [
        "###Grid search\n"
      ]
    },
    {
      "cell_type": "code",
      "execution_count": 77,
      "metadata": {
        "colab": {
          "base_uri": "https://localhost:8080/"
        },
        "id": "A5XiEtl_ZPnC",
        "outputId": "5ff35ef4-2f9a-4338-b02b-56dac8c51bdc"
      },
      "outputs": [
        {
          "output_type": "stream",
          "name": "stdout",
          "text": [
            "Best Accuracy: 76.63 %\n",
            "Best Parameters: {'criterion': 'entropy', 'max_depth': 20, 'splitter': 'random'}\n"
          ]
        }
      ],
      "source": [
        "from sklearn.model_selection import GridSearchCV\n",
        "parameters = {\n",
        "    'criterion': ['gini', 'entropy'],\n",
        "    'splitter': ['best', 'random'],\n",
        "    'max_depth': [None, 10, 20, 30, 40, 50]\n",
        "}\n",
        "grid_search = GridSearchCV(estimator = classifier,\n",
        "                           param_grid = parameters,\n",
        "                           scoring = 'accuracy',\n",
        "                           cv = 10,\n",
        "                           n_jobs = -1)\n",
        "grid_search.fit(X_train, y_train)\n",
        "best_accuracy = grid_search.best_score_\n",
        "best_parameters = grid_search.best_params_\n",
        "best_base_classifier = grid_search.best_estimator_\n",
        "\n",
        "print(\"Best Accuracy: {:.2f} %\".format(best_accuracy*100))\n",
        "print(\"Best Parameters:\", best_parameters)"
      ]
    },
    {
      "cell_type": "markdown",
      "source": [
        "###building model with best parameters"
      ],
      "metadata": {
        "id": "1lf2-bOih52E"
      }
    },
    {
      "cell_type": "code",
      "source": [
        "best_base_classifier.fit(X_train, y_train)\n",
        "\n",
        "from sklearn.metrics import confusion_matrix, accuracy_score\n",
        "y_pred = best_base_classifier.predict(X_test)\n",
        "cm = confusion_matrix(y_test, y_pred)\n",
        "print(cm)\n",
        "accuracy_score(y_test, y_pred)"
      ],
      "metadata": {
        "colab": {
          "base_uri": "https://localhost:8080/"
        },
        "outputId": "3af15f23-13ff-433e-dbd3-4b94f859ce14",
        "id": "HdKKRM7sh52E"
      },
      "execution_count": 78,
      "outputs": [
        {
          "output_type": "stream",
          "name": "stdout",
          "text": [
            "[[93  4]\n",
            " [53 50]]\n"
          ]
        },
        {
          "output_type": "execute_result",
          "data": {
            "text/plain": [
              "0.715"
            ]
          },
          "metadata": {},
          "execution_count": 78
        }
      ]
    },
    {
      "cell_type": "markdown",
      "source": [
        "#XG boost model"
      ],
      "metadata": {
        "id": "akG051g_-X0u"
      }
    },
    {
      "cell_type": "code",
      "source": [
        "from xgboost import XGBClassifier\n",
        "classifier = XGBClassifier()\n",
        "classifier.fit(X_train, y_train)"
      ],
      "metadata": {
        "colab": {
          "base_uri": "https://localhost:8080/",
          "height": 247
        },
        "id": "yI6doslG-dBv",
        "outputId": "be6d0370-995d-433d-8e7b-a95802896182"
      },
      "execution_count": 79,
      "outputs": [
        {
          "output_type": "execute_result",
          "data": {
            "text/plain": [
              "XGBClassifier(base_score=None, booster=None, callbacks=None,\n",
              "              colsample_bylevel=None, colsample_bynode=None,\n",
              "              colsample_bytree=None, device=None, early_stopping_rounds=None,\n",
              "              enable_categorical=False, eval_metric=None, feature_types=None,\n",
              "              gamma=None, grow_policy=None, importance_type=None,\n",
              "              interaction_constraints=None, learning_rate=None, max_bin=None,\n",
              "              max_cat_threshold=None, max_cat_to_onehot=None,\n",
              "              max_delta_step=None, max_depth=None, max_leaves=None,\n",
              "              min_child_weight=None, missing=nan, monotone_constraints=None,\n",
              "              multi_strategy=None, n_estimators=None, n_jobs=None,\n",
              "              num_parallel_tree=None, random_state=None, ...)"
            ],
            "text/html": [
              "<style>#sk-container-id-5 {color: black;}#sk-container-id-5 pre{padding: 0;}#sk-container-id-5 div.sk-toggleable {background-color: white;}#sk-container-id-5 label.sk-toggleable__label {cursor: pointer;display: block;width: 100%;margin-bottom: 0;padding: 0.3em;box-sizing: border-box;text-align: center;}#sk-container-id-5 label.sk-toggleable__label-arrow:before {content: \"▸\";float: left;margin-right: 0.25em;color: #696969;}#sk-container-id-5 label.sk-toggleable__label-arrow:hover:before {color: black;}#sk-container-id-5 div.sk-estimator:hover label.sk-toggleable__label-arrow:before {color: black;}#sk-container-id-5 div.sk-toggleable__content {max-height: 0;max-width: 0;overflow: hidden;text-align: left;background-color: #f0f8ff;}#sk-container-id-5 div.sk-toggleable__content pre {margin: 0.2em;color: black;border-radius: 0.25em;background-color: #f0f8ff;}#sk-container-id-5 input.sk-toggleable__control:checked~div.sk-toggleable__content {max-height: 200px;max-width: 100%;overflow: auto;}#sk-container-id-5 input.sk-toggleable__control:checked~label.sk-toggleable__label-arrow:before {content: \"▾\";}#sk-container-id-5 div.sk-estimator input.sk-toggleable__control:checked~label.sk-toggleable__label {background-color: #d4ebff;}#sk-container-id-5 div.sk-label input.sk-toggleable__control:checked~label.sk-toggleable__label {background-color: #d4ebff;}#sk-container-id-5 input.sk-hidden--visually {border: 0;clip: rect(1px 1px 1px 1px);clip: rect(1px, 1px, 1px, 1px);height: 1px;margin: -1px;overflow: hidden;padding: 0;position: absolute;width: 1px;}#sk-container-id-5 div.sk-estimator {font-family: monospace;background-color: #f0f8ff;border: 1px dotted black;border-radius: 0.25em;box-sizing: border-box;margin-bottom: 0.5em;}#sk-container-id-5 div.sk-estimator:hover {background-color: #d4ebff;}#sk-container-id-5 div.sk-parallel-item::after {content: \"\";width: 100%;border-bottom: 1px solid gray;flex-grow: 1;}#sk-container-id-5 div.sk-label:hover label.sk-toggleable__label {background-color: #d4ebff;}#sk-container-id-5 div.sk-serial::before {content: \"\";position: absolute;border-left: 1px solid gray;box-sizing: border-box;top: 0;bottom: 0;left: 50%;z-index: 0;}#sk-container-id-5 div.sk-serial {display: flex;flex-direction: column;align-items: center;background-color: white;padding-right: 0.2em;padding-left: 0.2em;position: relative;}#sk-container-id-5 div.sk-item {position: relative;z-index: 1;}#sk-container-id-5 div.sk-parallel {display: flex;align-items: stretch;justify-content: center;background-color: white;position: relative;}#sk-container-id-5 div.sk-item::before, #sk-container-id-5 div.sk-parallel-item::before {content: \"\";position: absolute;border-left: 1px solid gray;box-sizing: border-box;top: 0;bottom: 0;left: 50%;z-index: -1;}#sk-container-id-5 div.sk-parallel-item {display: flex;flex-direction: column;z-index: 1;position: relative;background-color: white;}#sk-container-id-5 div.sk-parallel-item:first-child::after {align-self: flex-end;width: 50%;}#sk-container-id-5 div.sk-parallel-item:last-child::after {align-self: flex-start;width: 50%;}#sk-container-id-5 div.sk-parallel-item:only-child::after {width: 0;}#sk-container-id-5 div.sk-dashed-wrapped {border: 1px dashed gray;margin: 0 0.4em 0.5em 0.4em;box-sizing: border-box;padding-bottom: 0.4em;background-color: white;}#sk-container-id-5 div.sk-label label {font-family: monospace;font-weight: bold;display: inline-block;line-height: 1.2em;}#sk-container-id-5 div.sk-label-container {text-align: center;}#sk-container-id-5 div.sk-container {/* jupyter's `normalize.less` sets `[hidden] { display: none; }` but bootstrap.min.css set `[hidden] { display: none !important; }` so we also need the `!important` here to be able to override the default hidden behavior on the sphinx rendered scikit-learn.org. See: https://github.com/scikit-learn/scikit-learn/issues/21755 */display: inline-block !important;position: relative;}#sk-container-id-5 div.sk-text-repr-fallback {display: none;}</style><div id=\"sk-container-id-5\" class=\"sk-top-container\"><div class=\"sk-text-repr-fallback\"><pre>XGBClassifier(base_score=None, booster=None, callbacks=None,\n",
              "              colsample_bylevel=None, colsample_bynode=None,\n",
              "              colsample_bytree=None, device=None, early_stopping_rounds=None,\n",
              "              enable_categorical=False, eval_metric=None, feature_types=None,\n",
              "              gamma=None, grow_policy=None, importance_type=None,\n",
              "              interaction_constraints=None, learning_rate=None, max_bin=None,\n",
              "              max_cat_threshold=None, max_cat_to_onehot=None,\n",
              "              max_delta_step=None, max_depth=None, max_leaves=None,\n",
              "              min_child_weight=None, missing=nan, monotone_constraints=None,\n",
              "              multi_strategy=None, n_estimators=None, n_jobs=None,\n",
              "              num_parallel_tree=None, random_state=None, ...)</pre><b>In a Jupyter environment, please rerun this cell to show the HTML representation or trust the notebook. <br />On GitHub, the HTML representation is unable to render, please try loading this page with nbviewer.org.</b></div><div class=\"sk-container\" hidden><div class=\"sk-item\"><div class=\"sk-estimator sk-toggleable\"><input class=\"sk-toggleable__control sk-hidden--visually\" id=\"sk-estimator-id-5\" type=\"checkbox\" checked><label for=\"sk-estimator-id-5\" class=\"sk-toggleable__label sk-toggleable__label-arrow\">XGBClassifier</label><div class=\"sk-toggleable__content\"><pre>XGBClassifier(base_score=None, booster=None, callbacks=None,\n",
              "              colsample_bylevel=None, colsample_bynode=None,\n",
              "              colsample_bytree=None, device=None, early_stopping_rounds=None,\n",
              "              enable_categorical=False, eval_metric=None, feature_types=None,\n",
              "              gamma=None, grow_policy=None, importance_type=None,\n",
              "              interaction_constraints=None, learning_rate=None, max_bin=None,\n",
              "              max_cat_threshold=None, max_cat_to_onehot=None,\n",
              "              max_delta_step=None, max_depth=None, max_leaves=None,\n",
              "              min_child_weight=None, missing=nan, monotone_constraints=None,\n",
              "              multi_strategy=None, n_estimators=None, n_jobs=None,\n",
              "              num_parallel_tree=None, random_state=None, ...)</pre></div></div></div></div></div>"
            ]
          },
          "metadata": {},
          "execution_count": 79
        }
      ]
    },
    {
      "cell_type": "code",
      "source": [
        "from sklearn.metrics import confusion_matrix, accuracy_score\n",
        "y_pred = classifier.predict(X_test)\n",
        "cm = confusion_matrix(y_test, y_pred)\n",
        "print(cm)\n",
        "accuracy_score(y_test, y_pred)"
      ],
      "metadata": {
        "colab": {
          "base_uri": "https://localhost:8080/"
        },
        "id": "eyHHvjKd-ghI",
        "outputId": "a8950849-ff37-4bc1-bde9-934cf510de21"
      },
      "execution_count": 80,
      "outputs": [
        {
          "output_type": "stream",
          "name": "stdout",
          "text": [
            "[[86 11]\n",
            " [45 58]]\n"
          ]
        },
        {
          "output_type": "execute_result",
          "data": {
            "text/plain": [
              "0.72"
            ]
          },
          "metadata": {},
          "execution_count": 80
        }
      ]
    },
    {
      "cell_type": "markdown",
      "source": [
        "###Hyperparam tuning with optuna"
      ],
      "metadata": {
        "id": "qvkitWbGYOqd"
      }
    },
    {
      "cell_type": "code",
      "source": [
        "!pip install optuna\n"
      ],
      "metadata": {
        "colab": {
          "base_uri": "https://localhost:8080/"
        },
        "id": "PE_GbBK2UCm0",
        "outputId": "4cf87839-b61e-4920-83d4-899d00d4fbc3"
      },
      "execution_count": 81,
      "outputs": [
        {
          "output_type": "stream",
          "name": "stdout",
          "text": [
            "Requirement already satisfied: optuna in /usr/local/lib/python3.10/dist-packages (3.6.1)\n",
            "Requirement already satisfied: alembic>=1.5.0 in /usr/local/lib/python3.10/dist-packages (from optuna) (1.13.2)\n",
            "Requirement already satisfied: colorlog in /usr/local/lib/python3.10/dist-packages (from optuna) (6.8.2)\n",
            "Requirement already satisfied: numpy in /usr/local/lib/python3.10/dist-packages (from optuna) (1.26.4)\n",
            "Requirement already satisfied: packaging>=20.0 in /usr/local/lib/python3.10/dist-packages (from optuna) (24.1)\n",
            "Requirement already satisfied: sqlalchemy>=1.3.0 in /usr/local/lib/python3.10/dist-packages (from optuna) (2.0.31)\n",
            "Requirement already satisfied: tqdm in /usr/local/lib/python3.10/dist-packages (from optuna) (4.66.4)\n",
            "Requirement already satisfied: PyYAML in /usr/local/lib/python3.10/dist-packages (from optuna) (6.0.1)\n",
            "Requirement already satisfied: Mako in /usr/local/lib/python3.10/dist-packages (from alembic>=1.5.0->optuna) (1.3.5)\n",
            "Requirement already satisfied: typing-extensions>=4 in /usr/local/lib/python3.10/dist-packages (from alembic>=1.5.0->optuna) (4.12.2)\n",
            "Requirement already satisfied: greenlet!=0.4.17 in /usr/local/lib/python3.10/dist-packages (from sqlalchemy>=1.3.0->optuna) (3.0.3)\n",
            "Requirement already satisfied: MarkupSafe>=0.9.2 in /usr/local/lib/python3.10/dist-packages (from Mako->alembic>=1.5.0->optuna) (2.1.5)\n"
          ]
        }
      ]
    },
    {
      "cell_type": "code",
      "source": [
        "import optuna\n",
        "import xgboost as xgb\n",
        "from sklearn.metrics import accuracy_score\n",
        "\n",
        "\n",
        "def objective(trial):\n",
        "    params = {\n",
        "        'objective': 'binary:logistic',\n",
        "        'learning_rate': trial.suggest_float('learning_rate', 0.01, 0.2),\n",
        "        'max_depth': trial.suggest_int('max_depth', 3, 10),\n",
        "        'n_estimators': trial.suggest_int('n_estimators', 50, 200),\n",
        "        'colsample_bytree': trial.suggest_float('colsample_bytree', 0.5, 1.0),\n",
        "        'subsample': trial.suggest_float('subsample', 0.5, 1.0)\n",
        "    }\n",
        "\n",
        "    xgb_model = xgb.XGBClassifier(**params)\n",
        "    xgb_model.fit(\n",
        "        X_train, y_train,\n",
        "        eval_set=[(X_test, y_test)],\n",
        "        verbose=False\n",
        "    )\n",
        "    y_pred = xgb_model.predict(X_test)\n",
        "    return 1 - accuracy_score(y_test, y_pred)\n",
        "\n",
        "study = optuna.create_study(direction='minimize')\n",
        "study.optimize(objective, n_trials=50)\n",
        "print(\"Best hyperparameters: \", study.best_params)\n"
      ],
      "metadata": {
        "colab": {
          "base_uri": "https://localhost:8080/"
        },
        "id": "hl8VMZEnUDhb",
        "outputId": "4082d7a4-148d-4288-b311-21ee5d715b51"
      },
      "execution_count": 82,
      "outputs": [
        {
          "output_type": "stream",
          "name": "stderr",
          "text": [
            "[I 2024-08-03 07:48:51,890] A new study created in memory with name: no-name-c7aa6629-ed22-44f8-960f-f455285bedd6\n",
            "[I 2024-08-03 07:48:53,033] Trial 0 finished with value: 0.29000000000000004 and parameters: {'learning_rate': 0.14549849062682663, 'max_depth': 3, 'n_estimators': 183, 'colsample_bytree': 0.747476306310505, 'subsample': 0.9220421844414486}. Best is trial 0 with value: 0.29000000000000004.\n",
            "[I 2024-08-03 07:48:53,875] Trial 1 finished with value: 0.28 and parameters: {'learning_rate': 0.10618004609085897, 'max_depth': 4, 'n_estimators': 100, 'colsample_bytree': 0.8591425632292939, 'subsample': 0.7861041419306607}. Best is trial 1 with value: 0.28.\n",
            "[I 2024-08-03 07:48:54,973] Trial 2 finished with value: 0.30500000000000005 and parameters: {'learning_rate': 0.03509911463204879, 'max_depth': 8, 'n_estimators': 107, 'colsample_bytree': 0.7507904599105157, 'subsample': 0.5014997474210974}. Best is trial 1 with value: 0.28.\n",
            "[I 2024-08-03 07:48:55,830] Trial 3 finished with value: 0.29000000000000004 and parameters: {'learning_rate': 0.1121037837479329, 'max_depth': 8, 'n_estimators': 58, 'colsample_bytree': 0.840103843171341, 'subsample': 0.9955198682322235}. Best is trial 1 with value: 0.28.\n",
            "[I 2024-08-03 07:48:57,696] Trial 4 finished with value: 0.31000000000000005 and parameters: {'learning_rate': 0.01845452482032025, 'max_depth': 8, 'n_estimators': 124, 'colsample_bytree': 0.8612303649229291, 'subsample': 0.7432388241270658}. Best is trial 1 with value: 0.28.\n",
            "[I 2024-08-03 07:49:01,115] Trial 5 finished with value: 0.28500000000000003 and parameters: {'learning_rate': 0.055253252725937604, 'max_depth': 9, 'n_estimators': 124, 'colsample_bytree': 0.5459665445140445, 'subsample': 0.7843678319719773}. Best is trial 1 with value: 0.28.\n",
            "[I 2024-08-03 07:49:06,436] Trial 6 finished with value: 0.30000000000000004 and parameters: {'learning_rate': 0.010623949595770732, 'max_depth': 10, 'n_estimators': 192, 'colsample_bytree': 0.6300226033429195, 'subsample': 0.7311253627479894}. Best is trial 1 with value: 0.28.\n",
            "[I 2024-08-03 07:49:07,789] Trial 7 finished with value: 0.28500000000000003 and parameters: {'learning_rate': 0.05786567172537162, 'max_depth': 5, 'n_estimators': 107, 'colsample_bytree': 0.6544586817618133, 'subsample': 0.767776604537435}. Best is trial 1 with value: 0.28.\n",
            "[I 2024-08-03 07:49:10,693] Trial 8 finished with value: 0.30000000000000004 and parameters: {'learning_rate': 0.14447300099245766, 'max_depth': 6, 'n_estimators': 198, 'colsample_bytree': 0.6091835448162892, 'subsample': 0.9452350049581493}. Best is trial 1 with value: 0.28.\n",
            "[I 2024-08-03 07:49:12,808] Trial 9 finished with value: 0.29000000000000004 and parameters: {'learning_rate': 0.09399073748180499, 'max_depth': 6, 'n_estimators': 127, 'colsample_bytree': 0.9990077586572323, 'subsample': 0.9561794110536996}. Best is trial 1 with value: 0.28.\n",
            "[I 2024-08-03 07:49:14,149] Trial 10 finished with value: 0.29000000000000004 and parameters: {'learning_rate': 0.19015754640219107, 'max_depth': 3, 'n_estimators': 56, 'colsample_bytree': 0.987297334295048, 'subsample': 0.6141900049615303}. Best is trial 1 with value: 0.28.\n",
            "[I 2024-08-03 07:49:18,036] Trial 11 finished with value: 0.275 and parameters: {'learning_rate': 0.07368739132243211, 'max_depth': 10, 'n_estimators': 150, 'colsample_bytree': 0.5091321567315648, 'subsample': 0.8253893752554721}. Best is trial 11 with value: 0.275.\n",
            "[I 2024-08-03 07:49:22,913] Trial 12 finished with value: 0.28500000000000003 and parameters: {'learning_rate': 0.0830198501356809, 'max_depth': 4, 'n_estimators': 157, 'colsample_bytree': 0.8870808611834656, 'subsample': 0.8573773368868357}. Best is trial 11 with value: 0.275.\n",
            "[I 2024-08-03 07:49:24,386] Trial 13 finished with value: 0.28500000000000003 and parameters: {'learning_rate': 0.12119605215545656, 'max_depth': 10, 'n_estimators': 82, 'colsample_bytree': 0.5094218029740818, 'subsample': 0.8462081273915798}. Best is trial 11 with value: 0.275.\n",
            "[I 2024-08-03 07:49:26,841] Trial 14 finished with value: 0.28 and parameters: {'learning_rate': 0.0739458665360381, 'max_depth': 5, 'n_estimators': 153, 'colsample_bytree': 0.7371470994744213, 'subsample': 0.6799614672894259}. Best is trial 11 with value: 0.275.\n",
            "[I 2024-08-03 07:49:29,041] Trial 15 finished with value: 0.29500000000000004 and parameters: {'learning_rate': 0.13572848753392494, 'max_depth': 7, 'n_estimators': 158, 'colsample_bytree': 0.8084489385153415, 'subsample': 0.8519660027315041}. Best is trial 11 with value: 0.275.\n",
            "[I 2024-08-03 07:49:29,916] Trial 16 finished with value: 0.28500000000000003 and parameters: {'learning_rate': 0.18327405738870234, 'max_depth': 4, 'n_estimators': 89, 'colsample_bytree': 0.9240194311822811, 'subsample': 0.6453745870297491}. Best is trial 11 with value: 0.275.\n",
            "[I 2024-08-03 07:49:30,919] Trial 17 finished with value: 0.29500000000000004 and parameters: {'learning_rate': 0.1655924492050359, 'max_depth': 7, 'n_estimators': 139, 'colsample_bytree': 0.6967718762936663, 'subsample': 0.8073473644271075}. Best is trial 11 with value: 0.275.\n",
            "[I 2024-08-03 07:49:32,224] Trial 18 finished with value: 0.28 and parameters: {'learning_rate': 0.10254504820903118, 'max_depth': 9, 'n_estimators': 174, 'colsample_bytree': 0.8067823317683424, 'subsample': 0.6919479538584817}. Best is trial 11 with value: 0.275.\n",
            "[I 2024-08-03 07:49:33,104] Trial 19 finished with value: 0.29000000000000004 and parameters: {'learning_rate': 0.06581698339325233, 'max_depth': 5, 'n_estimators': 93, 'colsample_bytree': 0.5702051936275544, 'subsample': 0.5354056666458608}. Best is trial 11 with value: 0.275.\n",
            "[I 2024-08-03 07:49:33,993] Trial 20 finished with value: 0.31000000000000005 and parameters: {'learning_rate': 0.040768878239766645, 'max_depth': 4, 'n_estimators': 73, 'colsample_bytree': 0.5009941002883447, 'subsample': 0.8816113212338788}. Best is trial 11 with value: 0.275.\n",
            "[I 2024-08-03 07:49:35,701] Trial 21 finished with value: 0.28500000000000003 and parameters: {'learning_rate': 0.07664221189484063, 'max_depth': 5, 'n_estimators': 150, 'colsample_bytree': 0.9294508762447715, 'subsample': 0.6798843250884992}. Best is trial 11 with value: 0.275.\n",
            "[I 2024-08-03 07:49:37,526] Trial 22 finished with value: 0.28500000000000003 and parameters: {'learning_rate': 0.08621387657617874, 'max_depth': 5, 'n_estimators': 171, 'colsample_bytree': 0.7478643531689468, 'subsample': 0.8082812509348104}. Best is trial 11 with value: 0.275.\n",
            "[I 2024-08-03 07:49:38,925] Trial 23 finished with value: 0.275 and parameters: {'learning_rate': 0.1226357787155289, 'max_depth': 6, 'n_estimators': 141, 'colsample_bytree': 0.6910103608648529, 'subsample': 0.6074796136528601}. Best is trial 11 with value: 0.275.\n",
            "[I 2024-08-03 07:49:39,723] Trial 24 finished with value: 0.275 and parameters: {'learning_rate': 0.12019844545489246, 'max_depth': 6, 'n_estimators': 110, 'colsample_bytree': 0.6928559402839143, 'subsample': 0.5815419040890388}. Best is trial 11 with value: 0.275.\n",
            "[I 2024-08-03 07:49:40,649] Trial 25 finished with value: 0.275 and parameters: {'learning_rate': 0.1215889378162236, 'max_depth': 6, 'n_estimators': 132, 'colsample_bytree': 0.6810772482982703, 'subsample': 0.5759142883028885}. Best is trial 11 with value: 0.275.\n",
            "[I 2024-08-03 07:49:41,962] Trial 26 finished with value: 0.275 and parameters: {'learning_rate': 0.17004159031642427, 'max_depth': 7, 'n_estimators': 114, 'colsample_bytree': 0.5834725423342605, 'subsample': 0.5792349968838266}. Best is trial 11 with value: 0.275.\n",
            "[I 2024-08-03 07:49:43,604] Trial 27 finished with value: 0.275 and parameters: {'learning_rate': 0.1317282794100005, 'max_depth': 6, 'n_estimators': 142, 'colsample_bytree': 0.7043531648149743, 'subsample': 0.6216527806660833}. Best is trial 11 with value: 0.275.\n",
            "[I 2024-08-03 07:49:45,584] Trial 28 finished with value: 0.31000000000000005 and parameters: {'learning_rate': 0.1536559075357243, 'max_depth': 9, 'n_estimators': 167, 'colsample_bytree': 0.6601426718259631, 'subsample': 0.5662987105330289}. Best is trial 11 with value: 0.275.\n",
            "[I 2024-08-03 07:49:46,965] Trial 29 finished with value: 0.27 and parameters: {'learning_rate': 0.0963611423567356, 'max_depth': 7, 'n_estimators': 116, 'colsample_bytree': 0.5454066273529317, 'subsample': 0.7125914239976121}. Best is trial 29 with value: 0.27.\n",
            "[I 2024-08-03 07:49:48,044] Trial 30 finished with value: 0.28 and parameters: {'learning_rate': 0.09527775897667864, 'max_depth': 10, 'n_estimators': 143, 'colsample_bytree': 0.5379012869994912, 'subsample': 0.7070538046577254}. Best is trial 29 with value: 0.27.\n",
            "[I 2024-08-03 07:49:49,024] Trial 31 finished with value: 0.28 and parameters: {'learning_rate': 0.11881793131157067, 'max_depth': 7, 'n_estimators': 118, 'colsample_bytree': 0.5589454562933638, 'subsample': 0.6175926697167022}. Best is trial 29 with value: 0.27.\n",
            "[I 2024-08-03 07:49:50,568] Trial 32 finished with value: 0.28500000000000003 and parameters: {'learning_rate': 0.10530189635506883, 'max_depth': 8, 'n_estimators': 132, 'colsample_bytree': 0.6107757534330004, 'subsample': 0.6468909952811908}. Best is trial 29 with value: 0.27.\n",
            "[I 2024-08-03 07:49:51,787] Trial 33 finished with value: 0.29000000000000004 and parameters: {'learning_rate': 0.13051875742562855, 'max_depth': 6, 'n_estimators': 102, 'colsample_bytree': 0.524584103593502, 'subsample': 0.5058935105602149}. Best is trial 29 with value: 0.27.\n",
            "[I 2024-08-03 07:49:53,191] Trial 34 finished with value: 0.29000000000000004 and parameters: {'learning_rate': 0.09392842190898833, 'max_depth': 8, 'n_estimators': 118, 'colsample_bytree': 0.7186112637189788, 'subsample': 0.898337988313798}. Best is trial 29 with value: 0.27.\n",
            "[I 2024-08-03 07:49:54,729] Trial 35 finished with value: 0.29000000000000004 and parameters: {'learning_rate': 0.11138957541042144, 'max_depth': 7, 'n_estimators': 137, 'colsample_bytree': 0.5881557235953034, 'subsample': 0.5422718822689768}. Best is trial 29 with value: 0.27.\n",
            "[I 2024-08-03 07:49:55,603] Trial 36 finished with value: 0.28 and parameters: {'learning_rate': 0.037952617591017396, 'max_depth': 9, 'n_estimators': 111, 'colsample_bytree': 0.7844538424995819, 'subsample': 0.6549497289669384}. Best is trial 29 with value: 0.27.\n",
            "[I 2024-08-03 07:49:56,886] Trial 37 finished with value: 0.30500000000000005 and parameters: {'learning_rate': 0.14375858521731535, 'max_depth': 8, 'n_estimators': 184, 'colsample_bytree': 0.6440355335728383, 'subsample': 0.7159278655272032}. Best is trial 29 with value: 0.27.\n",
            "[I 2024-08-03 07:49:57,576] Trial 38 finished with value: 0.31000000000000005 and parameters: {'learning_rate': 0.051896584874369496, 'max_depth': 3, 'n_estimators': 97, 'colsample_bytree': 0.7806081432178847, 'subsample': 0.7701702438128906}. Best is trial 29 with value: 0.27.\n",
            "[I 2024-08-03 07:49:58,116] Trial 39 finished with value: 0.28500000000000003 and parameters: {'learning_rate': 0.06686524350038275, 'max_depth': 6, 'n_estimators': 69, 'colsample_bytree': 0.6179570090786307, 'subsample': 0.7418207602556726}. Best is trial 29 with value: 0.27.\n",
            "[I 2024-08-03 07:49:59,255] Trial 40 finished with value: 0.28500000000000003 and parameters: {'learning_rate': 0.1546332020278487, 'max_depth': 7, 'n_estimators': 164, 'colsample_bytree': 0.6720078420077371, 'subsample': 0.6012090044989535}. Best is trial 29 with value: 0.27.\n",
            "[I 2024-08-03 07:50:00,212] Trial 41 finished with value: 0.275 and parameters: {'learning_rate': 0.12345433726924189, 'max_depth': 6, 'n_estimators': 130, 'colsample_bytree': 0.6939043284020052, 'subsample': 0.5800991982196811}. Best is trial 29 with value: 0.27.\n",
            "[I 2024-08-03 07:50:01,309] Trial 42 finished with value: 0.28 and parameters: {'learning_rate': 0.11174654227963073, 'max_depth': 6, 'n_estimators': 147, 'colsample_bytree': 0.6786103366501325, 'subsample': 0.5402714400869559}. Best is trial 29 with value: 0.27.\n",
            "[I 2024-08-03 07:50:02,212] Trial 43 finished with value: 0.27 and parameters: {'learning_rate': 0.10149910990144596, 'max_depth': 5, 'n_estimators': 122, 'colsample_bytree': 0.7225239918227476, 'subsample': 0.5609665404616049}. Best is trial 29 with value: 0.27.\n",
            "[I 2024-08-03 07:50:03,023] Trial 44 finished with value: 0.28500000000000003 and parameters: {'learning_rate': 0.09818139750629543, 'max_depth': 5, 'n_estimators': 122, 'colsample_bytree': 0.7264861869571514, 'subsample': 0.8146018617544154}. Best is trial 29 with value: 0.27.\n",
            "[I 2024-08-03 07:50:03,749] Trial 45 finished with value: 0.265 and parameters: {'learning_rate': 0.08214963272965811, 'max_depth': 5, 'n_estimators': 105, 'colsample_bytree': 0.7775495080554905, 'subsample': 0.5047710448129028}. Best is trial 45 with value: 0.265.\n",
            "[I 2024-08-03 07:50:04,478] Trial 46 finished with value: 0.275 and parameters: {'learning_rate': 0.08665010893622613, 'max_depth': 4, 'n_estimators': 105, 'colsample_bytree': 0.7740225644171779, 'subsample': 0.5043393220770265}. Best is trial 45 with value: 0.265.\n",
            "[I 2024-08-03 07:50:05,828] Trial 47 finished with value: 0.26 and parameters: {'learning_rate': 0.075293913075744, 'max_depth': 5, 'n_estimators': 123, 'colsample_bytree': 0.8464265966947099, 'subsample': 0.527246698777878}. Best is trial 47 with value: 0.26.\n",
            "[I 2024-08-03 07:50:06,864] Trial 48 finished with value: 0.31000000000000005 and parameters: {'learning_rate': 0.049924016283349915, 'max_depth': 3, 'n_estimators': 86, 'colsample_bytree': 0.8600003847937671, 'subsample': 0.5185504034710094}. Best is trial 47 with value: 0.26.\n",
            "[I 2024-08-03 07:50:08,295] Trial 49 finished with value: 0.28 and parameters: {'learning_rate': 0.06412085421261543, 'max_depth': 4, 'n_estimators': 127, 'colsample_bytree': 0.830105766699183, 'subsample': 0.5468564151775962}. Best is trial 47 with value: 0.26.\n"
          ]
        },
        {
          "output_type": "stream",
          "name": "stdout",
          "text": [
            "Best hyperparameters:  {'learning_rate': 0.075293913075744, 'max_depth': 5, 'n_estimators': 123, 'colsample_bytree': 0.8464265966947099, 'subsample': 0.527246698777878}\n"
          ]
        }
      ]
    },
    {
      "cell_type": "markdown",
      "source": [
        "###building model with best parameters"
      ],
      "metadata": {
        "id": "D6ViawTxhjHN"
      }
    },
    {
      "cell_type": "code",
      "source": [
        "model = xgb.XGBClassifier(**study.best_params)\n",
        "\n",
        "model.fit(X_train, y_train)\n",
        "\n",
        "from sklearn.metrics import confusion_matrix, accuracy_score\n",
        "y_pred = model.predict(X_test)\n",
        "cm = confusion_matrix(y_test, y_pred)\n",
        "print(cm)\n",
        "accuracy_score(y_test, y_pred)"
      ],
      "metadata": {
        "colab": {
          "base_uri": "https://localhost:8080/"
        },
        "id": "ntDwhvpeVTCd",
        "outputId": "9b1ebe8a-f4a8-442b-da5b-602c99cf44b7"
      },
      "execution_count": 83,
      "outputs": [
        {
          "output_type": "stream",
          "name": "stdout",
          "text": [
            "[[93  4]\n",
            " [48 55]]\n"
          ]
        },
        {
          "output_type": "execute_result",
          "data": {
            "text/plain": [
              "0.74"
            ]
          },
          "metadata": {},
          "execution_count": 83
        }
      ]
    },
    {
      "cell_type": "markdown",
      "source": [
        "###test for overfitting"
      ],
      "metadata": {
        "id": "DRdewablCgTk"
      }
    },
    {
      "cell_type": "code",
      "source": [
        "y_train_pred = model.predict(X_train)\n",
        "cm = confusion_matrix(y_train, y_train_pred)\n",
        "print(cm)\n",
        "accuracy_score(y_train, y_train_pred)"
      ],
      "metadata": {
        "colab": {
          "base_uri": "https://localhost:8080/"
        },
        "id": "tYpbY7Zf-jjA",
        "outputId": "d9ec0690-3f50-4f0e-dd4f-fffcee1c493b"
      },
      "execution_count": 84,
      "outputs": [
        {
          "output_type": "stream",
          "name": "stdout",
          "text": [
            "[[372  31]\n",
            " [137 260]]\n"
          ]
        },
        {
          "output_type": "execute_result",
          "data": {
            "text/plain": [
              "0.79"
            ]
          },
          "metadata": {},
          "execution_count": 84
        }
      ]
    },
    {
      "cell_type": "markdown",
      "metadata": {
        "id": "0swRpGrWMzeS"
      },
      "source": [
        "#Training a random forest model"
      ]
    },
    {
      "cell_type": "code",
      "execution_count": 85,
      "metadata": {
        "colab": {
          "base_uri": "https://localhost:8080/",
          "height": 74
        },
        "id": "LH2n9oFOM2pS",
        "outputId": "e126bf4b-d91f-4a58-8726-cd2487d3edf6"
      },
      "outputs": [
        {
          "output_type": "execute_result",
          "data": {
            "text/plain": [
              "RandomForestClassifier()"
            ],
            "text/html": [
              "<style>#sk-container-id-6 {color: black;}#sk-container-id-6 pre{padding: 0;}#sk-container-id-6 div.sk-toggleable {background-color: white;}#sk-container-id-6 label.sk-toggleable__label {cursor: pointer;display: block;width: 100%;margin-bottom: 0;padding: 0.3em;box-sizing: border-box;text-align: center;}#sk-container-id-6 label.sk-toggleable__label-arrow:before {content: \"▸\";float: left;margin-right: 0.25em;color: #696969;}#sk-container-id-6 label.sk-toggleable__label-arrow:hover:before {color: black;}#sk-container-id-6 div.sk-estimator:hover label.sk-toggleable__label-arrow:before {color: black;}#sk-container-id-6 div.sk-toggleable__content {max-height: 0;max-width: 0;overflow: hidden;text-align: left;background-color: #f0f8ff;}#sk-container-id-6 div.sk-toggleable__content pre {margin: 0.2em;color: black;border-radius: 0.25em;background-color: #f0f8ff;}#sk-container-id-6 input.sk-toggleable__control:checked~div.sk-toggleable__content {max-height: 200px;max-width: 100%;overflow: auto;}#sk-container-id-6 input.sk-toggleable__control:checked~label.sk-toggleable__label-arrow:before {content: \"▾\";}#sk-container-id-6 div.sk-estimator input.sk-toggleable__control:checked~label.sk-toggleable__label {background-color: #d4ebff;}#sk-container-id-6 div.sk-label input.sk-toggleable__control:checked~label.sk-toggleable__label {background-color: #d4ebff;}#sk-container-id-6 input.sk-hidden--visually {border: 0;clip: rect(1px 1px 1px 1px);clip: rect(1px, 1px, 1px, 1px);height: 1px;margin: -1px;overflow: hidden;padding: 0;position: absolute;width: 1px;}#sk-container-id-6 div.sk-estimator {font-family: monospace;background-color: #f0f8ff;border: 1px dotted black;border-radius: 0.25em;box-sizing: border-box;margin-bottom: 0.5em;}#sk-container-id-6 div.sk-estimator:hover {background-color: #d4ebff;}#sk-container-id-6 div.sk-parallel-item::after {content: \"\";width: 100%;border-bottom: 1px solid gray;flex-grow: 1;}#sk-container-id-6 div.sk-label:hover label.sk-toggleable__label {background-color: #d4ebff;}#sk-container-id-6 div.sk-serial::before {content: \"\";position: absolute;border-left: 1px solid gray;box-sizing: border-box;top: 0;bottom: 0;left: 50%;z-index: 0;}#sk-container-id-6 div.sk-serial {display: flex;flex-direction: column;align-items: center;background-color: white;padding-right: 0.2em;padding-left: 0.2em;position: relative;}#sk-container-id-6 div.sk-item {position: relative;z-index: 1;}#sk-container-id-6 div.sk-parallel {display: flex;align-items: stretch;justify-content: center;background-color: white;position: relative;}#sk-container-id-6 div.sk-item::before, #sk-container-id-6 div.sk-parallel-item::before {content: \"\";position: absolute;border-left: 1px solid gray;box-sizing: border-box;top: 0;bottom: 0;left: 50%;z-index: -1;}#sk-container-id-6 div.sk-parallel-item {display: flex;flex-direction: column;z-index: 1;position: relative;background-color: white;}#sk-container-id-6 div.sk-parallel-item:first-child::after {align-self: flex-end;width: 50%;}#sk-container-id-6 div.sk-parallel-item:last-child::after {align-self: flex-start;width: 50%;}#sk-container-id-6 div.sk-parallel-item:only-child::after {width: 0;}#sk-container-id-6 div.sk-dashed-wrapped {border: 1px dashed gray;margin: 0 0.4em 0.5em 0.4em;box-sizing: border-box;padding-bottom: 0.4em;background-color: white;}#sk-container-id-6 div.sk-label label {font-family: monospace;font-weight: bold;display: inline-block;line-height: 1.2em;}#sk-container-id-6 div.sk-label-container {text-align: center;}#sk-container-id-6 div.sk-container {/* jupyter's `normalize.less` sets `[hidden] { display: none; }` but bootstrap.min.css set `[hidden] { display: none !important; }` so we also need the `!important` here to be able to override the default hidden behavior on the sphinx rendered scikit-learn.org. See: https://github.com/scikit-learn/scikit-learn/issues/21755 */display: inline-block !important;position: relative;}#sk-container-id-6 div.sk-text-repr-fallback {display: none;}</style><div id=\"sk-container-id-6\" class=\"sk-top-container\"><div class=\"sk-text-repr-fallback\"><pre>RandomForestClassifier()</pre><b>In a Jupyter environment, please rerun this cell to show the HTML representation or trust the notebook. <br />On GitHub, the HTML representation is unable to render, please try loading this page with nbviewer.org.</b></div><div class=\"sk-container\" hidden><div class=\"sk-item\"><div class=\"sk-estimator sk-toggleable\"><input class=\"sk-toggleable__control sk-hidden--visually\" id=\"sk-estimator-id-6\" type=\"checkbox\" checked><label for=\"sk-estimator-id-6\" class=\"sk-toggleable__label sk-toggleable__label-arrow\">RandomForestClassifier</label><div class=\"sk-toggleable__content\"><pre>RandomForestClassifier()</pre></div></div></div></div></div>"
            ]
          },
          "metadata": {},
          "execution_count": 85
        }
      ],
      "source": [
        "from sklearn.ensemble import RandomForestClassifier\n",
        "classifier = RandomForestClassifier()\n",
        "classifier.fit(X_train, y_train)"
      ]
    },
    {
      "cell_type": "code",
      "execution_count": 86,
      "metadata": {
        "colab": {
          "base_uri": "https://localhost:8080/"
        },
        "id": "DCjia_2GM_pp",
        "outputId": "001da48a-83a4-4f70-fc2c-1599b3e35d12"
      },
      "outputs": [
        {
          "output_type": "stream",
          "name": "stdout",
          "text": [
            "[[79 18]\n",
            " [47 56]]\n"
          ]
        },
        {
          "output_type": "execute_result",
          "data": {
            "text/plain": [
              "0.675"
            ]
          },
          "metadata": {},
          "execution_count": 86
        }
      ],
      "source": [
        "from sklearn.metrics import confusion_matrix, accuracy_score\n",
        "y_pred = classifier.predict(X_test)\n",
        "cm = confusion_matrix(y_test, y_pred)\n",
        "print(cm)\n",
        "accuracy_score(y_test, y_pred)"
      ]
    },
    {
      "cell_type": "markdown",
      "metadata": {
        "id": "eECwPU-0ZRx-"
      },
      "source": [
        "###Grid search"
      ]
    },
    {
      "cell_type": "code",
      "execution_count": 87,
      "metadata": {
        "colab": {
          "base_uri": "https://localhost:8080/"
        },
        "id": "YyykS25kZTQR",
        "outputId": "8f31d6b8-e7ac-417e-c749-4e9877c48558"
      },
      "outputs": [
        {
          "output_type": "stream",
          "name": "stdout",
          "text": [
            "Best Accuracy: 78.88 %\n",
            "Best Parameters: {'criterion': 'entropy', 'max_depth': 20, 'max_features': 'log2', 'n_estimators': 100}\n"
          ]
        }
      ],
      "source": [
        "from sklearn.model_selection import GridSearchCV\n",
        "parameters = {\n",
        "    'n_estimators': [10, 50, 100, 200],\n",
        "    'criterion': ['gini', 'entropy', 'log_loss'],\n",
        "    'max_depth': [None, 10, 20, 30, 40, 50],\n",
        "    'max_features':['sqrt', 'log2', None]\n",
        "}\n",
        "grid_search = GridSearchCV(estimator = classifier,\n",
        "                           param_grid = parameters,\n",
        "                           scoring = 'accuracy',\n",
        "                           cv = 3,\n",
        "                           n_jobs = -1)\n",
        "grid_search.fit(X_train, y_train)\n",
        "best_accuracy = grid_search.best_score_\n",
        "best_parameters = grid_search.best_params_\n",
        "best_base_classifier = grid_search.best_estimator_\n",
        "\n",
        "print(\"Best Accuracy: {:.2f} %\".format(best_accuracy*100))\n",
        "print(\"Best Parameters:\", best_parameters)"
      ]
    },
    {
      "cell_type": "markdown",
      "source": [
        "###building model with best parameters"
      ],
      "metadata": {
        "id": "WV1nH3Pqmgx5"
      }
    },
    {
      "cell_type": "code",
      "source": [
        "best_base_classifier.fit(X_train, y_train)\n",
        "\n",
        "from sklearn.metrics import confusion_matrix, accuracy_score\n",
        "y_pred = best_base_classifier.predict(X_test)\n",
        "cm = confusion_matrix(y_test, y_pred)\n",
        "print(cm)\n",
        "accuracy_score(y_test, y_pred)"
      ],
      "metadata": {
        "colab": {
          "base_uri": "https://localhost:8080/"
        },
        "outputId": "c5ec23cb-2cf9-4fe6-a332-89c7e2f6514c",
        "id": "jt0RdWdVmgyA"
      },
      "execution_count": 88,
      "outputs": [
        {
          "output_type": "stream",
          "name": "stdout",
          "text": [
            "[[88  9]\n",
            " [36 67]]\n"
          ]
        },
        {
          "output_type": "execute_result",
          "data": {
            "text/plain": [
              "0.775"
            ]
          },
          "metadata": {},
          "execution_count": 88
        }
      ]
    },
    {
      "cell_type": "markdown",
      "metadata": {
        "id": "SKlRtowgNh1m"
      },
      "source": [
        "#Training a svm model"
      ]
    },
    {
      "cell_type": "code",
      "execution_count": 89,
      "metadata": {
        "colab": {
          "base_uri": "https://localhost:8080/",
          "height": 74
        },
        "id": "tJiCezsmNkf8",
        "outputId": "206753d5-0b1f-487e-fa13-ebb01b53a69b"
      },
      "outputs": [
        {
          "output_type": "execute_result",
          "data": {
            "text/plain": [
              "SVC(kernel='linear', random_state=110)"
            ],
            "text/html": [
              "<style>#sk-container-id-7 {color: black;}#sk-container-id-7 pre{padding: 0;}#sk-container-id-7 div.sk-toggleable {background-color: white;}#sk-container-id-7 label.sk-toggleable__label {cursor: pointer;display: block;width: 100%;margin-bottom: 0;padding: 0.3em;box-sizing: border-box;text-align: center;}#sk-container-id-7 label.sk-toggleable__label-arrow:before {content: \"▸\";float: left;margin-right: 0.25em;color: #696969;}#sk-container-id-7 label.sk-toggleable__label-arrow:hover:before {color: black;}#sk-container-id-7 div.sk-estimator:hover label.sk-toggleable__label-arrow:before {color: black;}#sk-container-id-7 div.sk-toggleable__content {max-height: 0;max-width: 0;overflow: hidden;text-align: left;background-color: #f0f8ff;}#sk-container-id-7 div.sk-toggleable__content pre {margin: 0.2em;color: black;border-radius: 0.25em;background-color: #f0f8ff;}#sk-container-id-7 input.sk-toggleable__control:checked~div.sk-toggleable__content {max-height: 200px;max-width: 100%;overflow: auto;}#sk-container-id-7 input.sk-toggleable__control:checked~label.sk-toggleable__label-arrow:before {content: \"▾\";}#sk-container-id-7 div.sk-estimator input.sk-toggleable__control:checked~label.sk-toggleable__label {background-color: #d4ebff;}#sk-container-id-7 div.sk-label input.sk-toggleable__control:checked~label.sk-toggleable__label {background-color: #d4ebff;}#sk-container-id-7 input.sk-hidden--visually {border: 0;clip: rect(1px 1px 1px 1px);clip: rect(1px, 1px, 1px, 1px);height: 1px;margin: -1px;overflow: hidden;padding: 0;position: absolute;width: 1px;}#sk-container-id-7 div.sk-estimator {font-family: monospace;background-color: #f0f8ff;border: 1px dotted black;border-radius: 0.25em;box-sizing: border-box;margin-bottom: 0.5em;}#sk-container-id-7 div.sk-estimator:hover {background-color: #d4ebff;}#sk-container-id-7 div.sk-parallel-item::after {content: \"\";width: 100%;border-bottom: 1px solid gray;flex-grow: 1;}#sk-container-id-7 div.sk-label:hover label.sk-toggleable__label {background-color: #d4ebff;}#sk-container-id-7 div.sk-serial::before {content: \"\";position: absolute;border-left: 1px solid gray;box-sizing: border-box;top: 0;bottom: 0;left: 50%;z-index: 0;}#sk-container-id-7 div.sk-serial {display: flex;flex-direction: column;align-items: center;background-color: white;padding-right: 0.2em;padding-left: 0.2em;position: relative;}#sk-container-id-7 div.sk-item {position: relative;z-index: 1;}#sk-container-id-7 div.sk-parallel {display: flex;align-items: stretch;justify-content: center;background-color: white;position: relative;}#sk-container-id-7 div.sk-item::before, #sk-container-id-7 div.sk-parallel-item::before {content: \"\";position: absolute;border-left: 1px solid gray;box-sizing: border-box;top: 0;bottom: 0;left: 50%;z-index: -1;}#sk-container-id-7 div.sk-parallel-item {display: flex;flex-direction: column;z-index: 1;position: relative;background-color: white;}#sk-container-id-7 div.sk-parallel-item:first-child::after {align-self: flex-end;width: 50%;}#sk-container-id-7 div.sk-parallel-item:last-child::after {align-self: flex-start;width: 50%;}#sk-container-id-7 div.sk-parallel-item:only-child::after {width: 0;}#sk-container-id-7 div.sk-dashed-wrapped {border: 1px dashed gray;margin: 0 0.4em 0.5em 0.4em;box-sizing: border-box;padding-bottom: 0.4em;background-color: white;}#sk-container-id-7 div.sk-label label {font-family: monospace;font-weight: bold;display: inline-block;line-height: 1.2em;}#sk-container-id-7 div.sk-label-container {text-align: center;}#sk-container-id-7 div.sk-container {/* jupyter's `normalize.less` sets `[hidden] { display: none; }` but bootstrap.min.css set `[hidden] { display: none !important; }` so we also need the `!important` here to be able to override the default hidden behavior on the sphinx rendered scikit-learn.org. See: https://github.com/scikit-learn/scikit-learn/issues/21755 */display: inline-block !important;position: relative;}#sk-container-id-7 div.sk-text-repr-fallback {display: none;}</style><div id=\"sk-container-id-7\" class=\"sk-top-container\"><div class=\"sk-text-repr-fallback\"><pre>SVC(kernel=&#x27;linear&#x27;, random_state=110)</pre><b>In a Jupyter environment, please rerun this cell to show the HTML representation or trust the notebook. <br />On GitHub, the HTML representation is unable to render, please try loading this page with nbviewer.org.</b></div><div class=\"sk-container\" hidden><div class=\"sk-item\"><div class=\"sk-estimator sk-toggleable\"><input class=\"sk-toggleable__control sk-hidden--visually\" id=\"sk-estimator-id-7\" type=\"checkbox\" checked><label for=\"sk-estimator-id-7\" class=\"sk-toggleable__label sk-toggleable__label-arrow\">SVC</label><div class=\"sk-toggleable__content\"><pre>SVC(kernel=&#x27;linear&#x27;, random_state=110)</pre></div></div></div></div></div>"
            ]
          },
          "metadata": {},
          "execution_count": 89
        }
      ],
      "source": [
        "from sklearn.svm import SVC\n",
        "classifier = SVC(kernel = 'linear', random_state = 110)\n",
        "classifier.fit(X_train, y_train)"
      ]
    },
    {
      "cell_type": "code",
      "source": [
        "y_pred = classifier.predict(X_test)\n",
        "\n",
        "cm = confusion_matrix(y_test, y_pred)\n",
        "print(\"Confusion Matrix:\")\n",
        "print(cm)\n",
        "print(\"Accuracy Score:\")\n",
        "print(accuracy_score(y_test, y_pred))"
      ],
      "metadata": {
        "colab": {
          "base_uri": "https://localhost:8080/"
        },
        "id": "r31jj3IHWi-c",
        "outputId": "3a9ec2bc-4b18-4a1d-a5a7-49966bdc952c"
      },
      "execution_count": 90,
      "outputs": [
        {
          "output_type": "stream",
          "name": "stdout",
          "text": [
            "Confusion Matrix:\n",
            "[[82 15]\n",
            " [31 72]]\n",
            "Accuracy Score:\n",
            "0.77\n"
          ]
        }
      ]
    },
    {
      "cell_type": "markdown",
      "source": [
        "###test for overfitting"
      ],
      "metadata": {
        "id": "KbJ_s6ezTF8E"
      }
    },
    {
      "cell_type": "code",
      "source": [
        "y_train_pred = classifier.predict(X_train)\n",
        "cm = confusion_matrix(y_train, y_train_pred)\n",
        "print(cm)\n",
        "accuracy_score(y_train, y_train_pred)\n"
      ],
      "metadata": {
        "colab": {
          "base_uri": "https://localhost:8080/"
        },
        "id": "7dMiqfmqSuit",
        "outputId": "c8a221d2-d96d-4760-dbd6-77f0f90cc9f0"
      },
      "execution_count": 91,
      "outputs": [
        {
          "output_type": "stream",
          "name": "stdout",
          "text": [
            "[[398   5]\n",
            " [ 12 385]]\n"
          ]
        },
        {
          "output_type": "execute_result",
          "data": {
            "text/plain": [
              "0.97875"
            ]
          },
          "metadata": {},
          "execution_count": 91
        }
      ]
    },
    {
      "cell_type": "markdown",
      "source": [
        "###Grid search"
      ],
      "metadata": {
        "id": "7HdiNcxICoFk"
      }
    },
    {
      "cell_type": "code",
      "execution_count": 92,
      "metadata": {
        "colab": {
          "base_uri": "https://localhost:8080/"
        },
        "id": "Im4vrLo1Uxh9",
        "outputId": "f45d8250-d9cb-4bba-9f2a-76f2c25e25b1"
      },
      "outputs": [
        {
          "output_type": "stream",
          "name": "stdout",
          "text": [
            "Fitting 3 folds for each of 24 candidates, totalling 72 fits\n",
            "Best Accuracy: 78.13 %\n",
            "Best Parameters: {'C': 1, 'gamma': 0, 'kernel': 'linear'}\n"
          ]
        }
      ],
      "source": [
        "from sklearn.model_selection import GridSearchCV\n",
        "parameters = {\n",
        "    'C': [0.25, 0.5, 0.75, 1],\n",
        "    'kernel': ['linear'],\n",
        "    'gamma': [0,0.1, 0.5, 1, 2, 5]\n",
        "}\n",
        "\n",
        "grid_search = GridSearchCV(estimator = classifier,param_grid = parameters,scoring = 'accuracy',cv = 3,n_jobs = -1,verbose = 2)\n",
        "grid_search.fit(X_train, y_train)\n",
        "best_accuracy = grid_search.best_score_\n",
        "best_parameters = grid_search.best_params_\n",
        "best_base_classifier = grid_search.best_estimator_\n",
        "\n",
        "print(\"Best Accuracy: {:.2f} %\".format(best_accuracy*100))\n",
        "print(\"Best Parameters:\", best_parameters)\n"
      ]
    },
    {
      "cell_type": "code",
      "source": [
        "y_pred = best_base_classifier.predict(X_test)\n",
        "\n",
        "cm = confusion_matrix(y_test, y_pred)\n",
        "print(\"Confusion Matrix:\")\n",
        "print(cm)\n",
        "print(\"Accuracy Score:\")\n",
        "print(accuracy_score(y_test, y_pred))"
      ],
      "metadata": {
        "colab": {
          "base_uri": "https://localhost:8080/"
        },
        "id": "qoTVjSUgPcGI",
        "outputId": "53f12f9b-29ed-4ca1-8cb0-49735f1471d8"
      },
      "execution_count": 93,
      "outputs": [
        {
          "output_type": "stream",
          "name": "stdout",
          "text": [
            "Confusion Matrix:\n",
            "[[82 15]\n",
            " [31 72]]\n",
            "Accuracy Score:\n",
            "0.77\n"
          ]
        }
      ]
    },
    {
      "cell_type": "markdown",
      "metadata": {
        "id": "YL1g49RdUttP"
      },
      "source": [
        "###model bagging\n"
      ]
    },
    {
      "cell_type": "code",
      "execution_count": 94,
      "metadata": {
        "id": "4h_U3ofl893V",
        "colab": {
          "base_uri": "https://localhost:8080/"
        },
        "outputId": "b085b093-72d1-4774-e291-d48c5af14b43"
      },
      "outputs": [
        {
          "output_type": "stream",
          "name": "stdout",
          "text": [
            "Fitting 5 folds for each of 12 candidates, totalling 60 fits\n",
            "Confusion Matrix:\n",
            "[[73 24]\n",
            " [31 72]]\n",
            "Accuracy Score:\n",
            "0.725\n"
          ]
        }
      ],
      "source": [
        "from sklearn.ensemble import BaggingClassifier\n",
        "from sklearn.model_selection import GridSearchCV\n",
        "from sklearn.metrics import confusion_matrix, accuracy_score\n",
        "\n",
        "param_grid = {\n",
        "    'n_estimators': [50, 100, 150],\n",
        "    'max_samples': [0.5, 1.0],\n",
        "    'max_features': [0.5, 1.0]\n",
        "}\n",
        "\n",
        "clf = BaggingClassifier(random_state=0)\n",
        "\n",
        "grid_search = GridSearchCV(estimator=clf, param_grid=param_grid, cv=5, n_jobs=-1, scoring='accuracy',verbose =2)\n",
        "grid_search.fit(X_train, y_train)\n",
        "\n",
        "best_clf = grid_search.best_estimator_\n",
        "\n",
        "y_pred = best_clf.predict(X_test)\n",
        "\n",
        "cm = confusion_matrix(y_test, y_pred)\n",
        "print(\"Confusion Matrix:\")\n",
        "print(cm)\n",
        "print(\"Accuracy Score:\")\n",
        "print(accuracy_score(y_test, y_pred))\n"
      ]
    },
    {
      "cell_type": "markdown",
      "metadata": {
        "id": "Y6FemTHtelLO"
      },
      "source": [
        "# Training naive bayes model"
      ]
    },
    {
      "cell_type": "code",
      "execution_count": 95,
      "metadata": {
        "id": "f3vE_0eFeoUh",
        "colab": {
          "base_uri": "https://localhost:8080/",
          "height": 74
        },
        "outputId": "13861d17-0683-4efd-ce4e-29ad33835862"
      },
      "outputs": [
        {
          "output_type": "execute_result",
          "data": {
            "text/plain": [
              "GaussianNB()"
            ],
            "text/html": [
              "<style>#sk-container-id-8 {color: black;}#sk-container-id-8 pre{padding: 0;}#sk-container-id-8 div.sk-toggleable {background-color: white;}#sk-container-id-8 label.sk-toggleable__label {cursor: pointer;display: block;width: 100%;margin-bottom: 0;padding: 0.3em;box-sizing: border-box;text-align: center;}#sk-container-id-8 label.sk-toggleable__label-arrow:before {content: \"▸\";float: left;margin-right: 0.25em;color: #696969;}#sk-container-id-8 label.sk-toggleable__label-arrow:hover:before {color: black;}#sk-container-id-8 div.sk-estimator:hover label.sk-toggleable__label-arrow:before {color: black;}#sk-container-id-8 div.sk-toggleable__content {max-height: 0;max-width: 0;overflow: hidden;text-align: left;background-color: #f0f8ff;}#sk-container-id-8 div.sk-toggleable__content pre {margin: 0.2em;color: black;border-radius: 0.25em;background-color: #f0f8ff;}#sk-container-id-8 input.sk-toggleable__control:checked~div.sk-toggleable__content {max-height: 200px;max-width: 100%;overflow: auto;}#sk-container-id-8 input.sk-toggleable__control:checked~label.sk-toggleable__label-arrow:before {content: \"▾\";}#sk-container-id-8 div.sk-estimator input.sk-toggleable__control:checked~label.sk-toggleable__label {background-color: #d4ebff;}#sk-container-id-8 div.sk-label input.sk-toggleable__control:checked~label.sk-toggleable__label {background-color: #d4ebff;}#sk-container-id-8 input.sk-hidden--visually {border: 0;clip: rect(1px 1px 1px 1px);clip: rect(1px, 1px, 1px, 1px);height: 1px;margin: -1px;overflow: hidden;padding: 0;position: absolute;width: 1px;}#sk-container-id-8 div.sk-estimator {font-family: monospace;background-color: #f0f8ff;border: 1px dotted black;border-radius: 0.25em;box-sizing: border-box;margin-bottom: 0.5em;}#sk-container-id-8 div.sk-estimator:hover {background-color: #d4ebff;}#sk-container-id-8 div.sk-parallel-item::after {content: \"\";width: 100%;border-bottom: 1px solid gray;flex-grow: 1;}#sk-container-id-8 div.sk-label:hover label.sk-toggleable__label {background-color: #d4ebff;}#sk-container-id-8 div.sk-serial::before {content: \"\";position: absolute;border-left: 1px solid gray;box-sizing: border-box;top: 0;bottom: 0;left: 50%;z-index: 0;}#sk-container-id-8 div.sk-serial {display: flex;flex-direction: column;align-items: center;background-color: white;padding-right: 0.2em;padding-left: 0.2em;position: relative;}#sk-container-id-8 div.sk-item {position: relative;z-index: 1;}#sk-container-id-8 div.sk-parallel {display: flex;align-items: stretch;justify-content: center;background-color: white;position: relative;}#sk-container-id-8 div.sk-item::before, #sk-container-id-8 div.sk-parallel-item::before {content: \"\";position: absolute;border-left: 1px solid gray;box-sizing: border-box;top: 0;bottom: 0;left: 50%;z-index: -1;}#sk-container-id-8 div.sk-parallel-item {display: flex;flex-direction: column;z-index: 1;position: relative;background-color: white;}#sk-container-id-8 div.sk-parallel-item:first-child::after {align-self: flex-end;width: 50%;}#sk-container-id-8 div.sk-parallel-item:last-child::after {align-self: flex-start;width: 50%;}#sk-container-id-8 div.sk-parallel-item:only-child::after {width: 0;}#sk-container-id-8 div.sk-dashed-wrapped {border: 1px dashed gray;margin: 0 0.4em 0.5em 0.4em;box-sizing: border-box;padding-bottom: 0.4em;background-color: white;}#sk-container-id-8 div.sk-label label {font-family: monospace;font-weight: bold;display: inline-block;line-height: 1.2em;}#sk-container-id-8 div.sk-label-container {text-align: center;}#sk-container-id-8 div.sk-container {/* jupyter's `normalize.less` sets `[hidden] { display: none; }` but bootstrap.min.css set `[hidden] { display: none !important; }` so we also need the `!important` here to be able to override the default hidden behavior on the sphinx rendered scikit-learn.org. See: https://github.com/scikit-learn/scikit-learn/issues/21755 */display: inline-block !important;position: relative;}#sk-container-id-8 div.sk-text-repr-fallback {display: none;}</style><div id=\"sk-container-id-8\" class=\"sk-top-container\"><div class=\"sk-text-repr-fallback\"><pre>GaussianNB()</pre><b>In a Jupyter environment, please rerun this cell to show the HTML representation or trust the notebook. <br />On GitHub, the HTML representation is unable to render, please try loading this page with nbviewer.org.</b></div><div class=\"sk-container\" hidden><div class=\"sk-item\"><div class=\"sk-estimator sk-toggleable\"><input class=\"sk-toggleable__control sk-hidden--visually\" id=\"sk-estimator-id-8\" type=\"checkbox\" checked><label for=\"sk-estimator-id-8\" class=\"sk-toggleable__label sk-toggleable__label-arrow\">GaussianNB</label><div class=\"sk-toggleable__content\"><pre>GaussianNB()</pre></div></div></div></div></div>"
            ]
          },
          "metadata": {},
          "execution_count": 95
        }
      ],
      "source": [
        "from sklearn.naive_bayes import GaussianNB\n",
        "classifier = GaussianNB()\n",
        "classifier.fit(X_train, y_train)"
      ]
    },
    {
      "cell_type": "code",
      "execution_count": 96,
      "metadata": {
        "id": "DIMZs72tewsT",
        "colab": {
          "base_uri": "https://localhost:8080/"
        },
        "outputId": "a7624892-403a-425b-fa7a-fc4ffb87a1e9"
      },
      "outputs": [
        {
          "output_type": "stream",
          "name": "stdout",
          "text": [
            "[[47 50]\n",
            " [11 92]]\n"
          ]
        },
        {
          "output_type": "execute_result",
          "data": {
            "text/plain": [
              "0.695"
            ]
          },
          "metadata": {},
          "execution_count": 96
        }
      ],
      "source": [
        "from sklearn.metrics import confusion_matrix, accuracy_score\n",
        "y_pred = classifier.predict(X_test)\n",
        "cm = confusion_matrix(y_test, y_pred)\n",
        "print(cm)\n",
        "accuracy_score(y_test, y_pred)"
      ]
    },
    {
      "cell_type": "markdown",
      "source": [
        "###test for overfitting"
      ],
      "metadata": {
        "id": "qWbFs5zVS-pa"
      }
    },
    {
      "cell_type": "code",
      "source": [
        "y_train_pred = classifier.predict(X_train)\n",
        "cm = confusion_matrix(y_train, y_train_pred)\n",
        "print(cm)\n",
        "accuracy_score(y_train, y_train_pred)\n"
      ],
      "metadata": {
        "id": "wNYVbG8US3KI",
        "colab": {
          "base_uri": "https://localhost:8080/"
        },
        "outputId": "1e046377-dc9a-4904-c700-f4bf2b12b090"
      },
      "execution_count": 97,
      "outputs": [
        {
          "output_type": "stream",
          "name": "stdout",
          "text": [
            "[[332  71]\n",
            " [  0 397]]\n"
          ]
        },
        {
          "output_type": "execute_result",
          "data": {
            "text/plain": [
              "0.91125"
            ]
          },
          "metadata": {},
          "execution_count": 97
        }
      ]
    },
    {
      "cell_type": "markdown",
      "source": [
        "#building an ANN"
      ],
      "metadata": {
        "id": "gYAaYccdvh1L"
      }
    },
    {
      "cell_type": "code",
      "source": [
        "import numpy as np\n",
        "import tensorflow as tf\n",
        "import keras\n",
        "from keras.models import Sequential\n",
        "from keras.layers import Dense\n",
        "from keras.optimizers import Adam\n",
        "\n",
        "size_input_layer = X_train.shape[1]\n",
        "size_hidden_layer = (2*size_input_layer // 3) + 2\n",
        "\n",
        "model = Sequential([\n",
        "    Dense(units=size_hidden_layer, input_shape=(size_input_layer,), activation='relu'),\n",
        "\n",
        "    Dense(units=1, activation='sigmoid')\n",
        "])\n",
        "\n",
        "model.compile(\n",
        "    optimizer=Adam(learning_rate=0.001),\n",
        "    loss='binary_crossentropy',\n",
        "    metrics=['accuracy']\n",
        ")\n"
      ],
      "metadata": {
        "id": "phgVx4ytvmMj",
        "colab": {
          "base_uri": "https://localhost:8080/"
        },
        "outputId": "9fd222b4-9af9-43e2-e92f-c8af0d9579bd"
      },
      "execution_count": 98,
      "outputs": [
        {
          "output_type": "stream",
          "name": "stderr",
          "text": [
            "/usr/local/lib/python3.10/dist-packages/keras/src/layers/core/dense.py:87: UserWarning: Do not pass an `input_shape`/`input_dim` argument to a layer. When using Sequential models, prefer using an `Input(shape)` object as the first layer in the model instead.\n",
            "  super().__init__(activity_regularizer=activity_regularizer, **kwargs)\n"
          ]
        }
      ]
    },
    {
      "cell_type": "code",
      "source": [
        "model.fit(\n",
        "    x=X_train,\n",
        "    y=y_train,\n",
        "    batch_size=3,\n",
        "    epochs=100,\n",
        "    validation_split = 0.1,\n",
        "    shuffle=True,\n",
        "    verbose=2\n",
        ")"
      ],
      "metadata": {
        "colab": {
          "base_uri": "https://localhost:8080/"
        },
        "collapsed": true,
        "id": "gKB-wa4Ox14e",
        "outputId": "571e6301-4851-40bd-f730-97a81b9f9c2b"
      },
      "execution_count": 99,
      "outputs": [
        {
          "output_type": "stream",
          "name": "stdout",
          "text": [
            "Epoch 1/100\n",
            "240/240 - 5s - 21ms/step - accuracy: 0.7139 - loss: 0.5874 - val_accuracy: 0.8500 - val_loss: 0.4034\n",
            "Epoch 2/100\n",
            "240/240 - 3s - 15ms/step - accuracy: 0.9153 - loss: 0.2348 - val_accuracy: 0.8625 - val_loss: 0.3904\n",
            "Epoch 3/100\n",
            "240/240 - 7s - 28ms/step - accuracy: 0.9694 - loss: 0.0944 - val_accuracy: 0.8375 - val_loss: 0.4084\n",
            "Epoch 4/100\n",
            "240/240 - 5s - 22ms/step - accuracy: 0.9819 - loss: 0.0561 - val_accuracy: 0.8250 - val_loss: 0.4099\n",
            "Epoch 5/100\n",
            "240/240 - 5s - 20ms/step - accuracy: 0.9792 - loss: 0.0457 - val_accuracy: 0.8500 - val_loss: 0.4766\n",
            "Epoch 6/100\n",
            "240/240 - 5s - 22ms/step - accuracy: 0.9847 - loss: 0.0323 - val_accuracy: 0.8250 - val_loss: 0.4802\n",
            "Epoch 7/100\n",
            "240/240 - 4s - 16ms/step - accuracy: 0.9903 - loss: 0.0313 - val_accuracy: 0.8375 - val_loss: 0.5097\n",
            "Epoch 8/100\n",
            "240/240 - 4s - 16ms/step - accuracy: 0.9889 - loss: 0.0270 - val_accuracy: 0.8500 - val_loss: 0.5376\n",
            "Epoch 9/100\n",
            "240/240 - 5s - 23ms/step - accuracy: 0.9903 - loss: 0.0256 - val_accuracy: 0.8125 - val_loss: 0.5417\n",
            "Epoch 10/100\n",
            "240/240 - 5s - 20ms/step - accuracy: 0.9903 - loss: 0.0234 - val_accuracy: 0.8250 - val_loss: 0.5615\n",
            "Epoch 11/100\n",
            "240/240 - 4s - 18ms/step - accuracy: 0.9889 - loss: 0.0236 - val_accuracy: 0.8000 - val_loss: 0.6949\n",
            "Epoch 12/100\n",
            "240/240 - 3s - 15ms/step - accuracy: 0.9861 - loss: 0.0250 - val_accuracy: 0.8250 - val_loss: 0.6697\n",
            "Epoch 13/100\n",
            "240/240 - 4s - 17ms/step - accuracy: 0.9889 - loss: 0.0233 - val_accuracy: 0.8250 - val_loss: 0.6141\n",
            "Epoch 14/100\n",
            "240/240 - 5s - 22ms/step - accuracy: 0.9875 - loss: 0.0229 - val_accuracy: 0.8375 - val_loss: 0.6116\n",
            "Epoch 15/100\n",
            "240/240 - 3s - 14ms/step - accuracy: 0.9861 - loss: 0.0228 - val_accuracy: 0.8250 - val_loss: 0.6506\n",
            "Epoch 16/100\n",
            "240/240 - 6s - 24ms/step - accuracy: 0.9903 - loss: 0.0197 - val_accuracy: 0.8375 - val_loss: 0.6596\n",
            "Epoch 17/100\n",
            "240/240 - 6s - 26ms/step - accuracy: 0.9889 - loss: 0.0226 - val_accuracy: 0.8250 - val_loss: 0.6790\n",
            "Epoch 18/100\n",
            "240/240 - 4s - 15ms/step - accuracy: 0.9903 - loss: 0.0217 - val_accuracy: 0.8250 - val_loss: 0.7176\n",
            "Epoch 19/100\n",
            "240/240 - 6s - 26ms/step - accuracy: 0.9875 - loss: 0.0211 - val_accuracy: 0.8250 - val_loss: 0.6873\n",
            "Epoch 20/100\n",
            "240/240 - 7s - 30ms/step - accuracy: 0.9889 - loss: 0.0200 - val_accuracy: 0.8250 - val_loss: 0.6768\n",
            "Epoch 21/100\n",
            "240/240 - 7s - 29ms/step - accuracy: 0.9889 - loss: 0.0197 - val_accuracy: 0.8125 - val_loss: 0.7007\n",
            "Epoch 22/100\n",
            "240/240 - 6s - 23ms/step - accuracy: 0.9917 - loss: 0.0170 - val_accuracy: 0.8250 - val_loss: 0.6232\n",
            "Epoch 23/100\n",
            "240/240 - 5s - 23ms/step - accuracy: 0.9917 - loss: 0.0170 - val_accuracy: 0.7875 - val_loss: 0.8093\n",
            "Epoch 24/100\n",
            "240/240 - 4s - 17ms/step - accuracy: 0.9903 - loss: 0.0202 - val_accuracy: 0.8375 - val_loss: 0.6832\n",
            "Epoch 25/100\n",
            "240/240 - 6s - 24ms/step - accuracy: 0.9903 - loss: 0.0184 - val_accuracy: 0.8375 - val_loss: 0.6988\n",
            "Epoch 26/100\n",
            "240/240 - 5s - 22ms/step - accuracy: 0.9903 - loss: 0.0177 - val_accuracy: 0.8375 - val_loss: 0.6882\n",
            "Epoch 27/100\n",
            "240/240 - 4s - 15ms/step - accuracy: 0.9889 - loss: 0.0187 - val_accuracy: 0.8000 - val_loss: 0.8213\n",
            "Epoch 28/100\n",
            "240/240 - 6s - 23ms/step - accuracy: 0.9903 - loss: 0.0186 - val_accuracy: 0.8375 - val_loss: 0.7357\n",
            "Epoch 29/100\n",
            "240/240 - 6s - 26ms/step - accuracy: 0.9861 - loss: 0.0187 - val_accuracy: 0.8375 - val_loss: 0.7393\n",
            "Epoch 30/100\n",
            "240/240 - 9s - 37ms/step - accuracy: 0.9903 - loss: 0.0179 - val_accuracy: 0.8375 - val_loss: 0.7425\n",
            "Epoch 31/100\n",
            "240/240 - 7s - 27ms/step - accuracy: 0.9889 - loss: 0.0166 - val_accuracy: 0.8375 - val_loss: 0.7357\n",
            "Epoch 32/100\n",
            "240/240 - 8s - 35ms/step - accuracy: 0.9889 - loss: 0.0166 - val_accuracy: 0.8375 - val_loss: 0.7842\n",
            "Epoch 33/100\n",
            "240/240 - 4s - 16ms/step - accuracy: 0.9903 - loss: 0.0185 - val_accuracy: 0.8375 - val_loss: 0.7897\n",
            "Epoch 34/100\n",
            "240/240 - 6s - 23ms/step - accuracy: 0.9889 - loss: 0.0164 - val_accuracy: 0.8250 - val_loss: 0.7539\n",
            "Epoch 35/100\n",
            "240/240 - 5s - 21ms/step - accuracy: 0.9889 - loss: 0.0163 - val_accuracy: 0.8250 - val_loss: 0.7901\n",
            "Epoch 36/100\n",
            "240/240 - 5s - 19ms/step - accuracy: 0.9889 - loss: 0.0170 - val_accuracy: 0.8250 - val_loss: 0.7692\n",
            "Epoch 37/100\n",
            "240/240 - 5s - 21ms/step - accuracy: 0.9889 - loss: 0.0159 - val_accuracy: 0.8375 - val_loss: 0.7728\n",
            "Epoch 38/100\n",
            "240/240 - 4s - 15ms/step - accuracy: 0.9903 - loss: 0.0165 - val_accuracy: 0.8125 - val_loss: 0.8790\n",
            "Epoch 39/100\n",
            "240/240 - 4s - 15ms/step - accuracy: 0.9903 - loss: 0.0170 - val_accuracy: 0.8250 - val_loss: 0.8229\n",
            "Epoch 40/100\n",
            "240/240 - 6s - 25ms/step - accuracy: 0.9889 - loss: 0.0161 - val_accuracy: 0.8250 - val_loss: 0.8222\n",
            "Epoch 41/100\n",
            "240/240 - 5s - 21ms/step - accuracy: 0.9903 - loss: 0.0157 - val_accuracy: 0.8250 - val_loss: 0.8490\n",
            "Epoch 42/100\n",
            "240/240 - 4s - 16ms/step - accuracy: 0.9889 - loss: 0.0146 - val_accuracy: 0.8125 - val_loss: 0.9016\n",
            "Epoch 43/100\n",
            "240/240 - 5s - 20ms/step - accuracy: 0.9903 - loss: 0.0157 - val_accuracy: 0.8250 - val_loss: 0.8722\n",
            "Epoch 44/100\n",
            "240/240 - 6s - 23ms/step - accuracy: 0.9903 - loss: 0.0151 - val_accuracy: 0.8250 - val_loss: 0.8561\n",
            "Epoch 45/100\n",
            "240/240 - 4s - 15ms/step - accuracy: 0.9875 - loss: 0.0156 - val_accuracy: 0.8250 - val_loss: 0.8863\n",
            "Epoch 46/100\n",
            "240/240 - 4s - 16ms/step - accuracy: 0.9917 - loss: 0.0150 - val_accuracy: 0.8250 - val_loss: 0.8788\n",
            "Epoch 47/100\n",
            "240/240 - 6s - 25ms/step - accuracy: 0.9917 - loss: 0.0147 - val_accuracy: 0.8250 - val_loss: 0.9063\n",
            "Epoch 48/100\n",
            "240/240 - 5s - 19ms/step - accuracy: 0.9903 - loss: 0.0147 - val_accuracy: 0.8250 - val_loss: 0.9195\n",
            "Epoch 49/100\n",
            "240/240 - 4s - 17ms/step - accuracy: 0.9903 - loss: 0.0148 - val_accuracy: 0.8250 - val_loss: 0.8889\n",
            "Epoch 50/100\n",
            "240/240 - 5s - 23ms/step - accuracy: 0.9889 - loss: 0.0147 - val_accuracy: 0.8375 - val_loss: 0.8902\n",
            "Epoch 51/100\n",
            "240/240 - 5s - 21ms/step - accuracy: 0.9903 - loss: 0.0146 - val_accuracy: 0.8250 - val_loss: 0.9406\n",
            "Epoch 52/100\n",
            "240/240 - 4s - 17ms/step - accuracy: 0.9875 - loss: 0.0150 - val_accuracy: 0.8125 - val_loss: 0.9167\n",
            "Epoch 53/100\n",
            "240/240 - 4s - 17ms/step - accuracy: 0.9903 - loss: 0.0142 - val_accuracy: 0.8250 - val_loss: 0.9550\n",
            "Epoch 54/100\n",
            "240/240 - 4s - 18ms/step - accuracy: 0.9903 - loss: 0.0145 - val_accuracy: 0.8250 - val_loss: 0.9759\n",
            "Epoch 55/100\n",
            "240/240 - 5s - 23ms/step - accuracy: 0.9889 - loss: 0.0143 - val_accuracy: 0.8125 - val_loss: 0.9576\n",
            "Epoch 56/100\n",
            "240/240 - 5s - 21ms/step - accuracy: 0.9903 - loss: 0.0133 - val_accuracy: 0.8250 - val_loss: 1.0384\n",
            "Epoch 57/100\n",
            "240/240 - 6s - 24ms/step - accuracy: 0.9931 - loss: 0.0145 - val_accuracy: 0.8125 - val_loss: 0.9797\n",
            "Epoch 58/100\n",
            "240/240 - 4s - 18ms/step - accuracy: 0.9917 - loss: 0.0134 - val_accuracy: 0.8250 - val_loss: 1.0432\n",
            "Epoch 59/100\n",
            "240/240 - 5s - 20ms/step - accuracy: 0.9903 - loss: 0.0145 - val_accuracy: 0.8125 - val_loss: 1.0324\n",
            "Epoch 60/100\n",
            "240/240 - 5s - 19ms/step - accuracy: 0.9917 - loss: 0.0139 - val_accuracy: 0.8125 - val_loss: 1.0316\n",
            "Epoch 61/100\n",
            "240/240 - 7s - 27ms/step - accuracy: 0.9917 - loss: 0.0134 - val_accuracy: 0.8250 - val_loss: 1.0870\n",
            "Epoch 62/100\n",
            "240/240 - 7s - 31ms/step - accuracy: 0.9917 - loss: 0.0138 - val_accuracy: 0.8125 - val_loss: 1.0479\n",
            "Epoch 63/100\n",
            "240/240 - 6s - 25ms/step - accuracy: 0.9889 - loss: 0.0137 - val_accuracy: 0.8250 - val_loss: 1.0306\n",
            "Epoch 64/100\n",
            "240/240 - 4s - 16ms/step - accuracy: 0.9917 - loss: 0.0135 - val_accuracy: 0.8250 - val_loss: 1.0590\n",
            "Epoch 65/100\n",
            "240/240 - 5s - 22ms/step - accuracy: 0.9903 - loss: 0.0133 - val_accuracy: 0.8125 - val_loss: 1.0868\n",
            "Epoch 66/100\n",
            "240/240 - 6s - 23ms/step - accuracy: 0.9903 - loss: 0.0136 - val_accuracy: 0.8125 - val_loss: 1.1035\n",
            "Epoch 67/100\n",
            "240/240 - 9s - 36ms/step - accuracy: 0.9903 - loss: 0.0128 - val_accuracy: 0.8250 - val_loss: 1.0995\n",
            "Epoch 68/100\n",
            "240/240 - 5s - 22ms/step - accuracy: 0.9889 - loss: 0.0136 - val_accuracy: 0.8250 - val_loss: 1.0981\n",
            "Epoch 69/100\n",
            "240/240 - 8s - 35ms/step - accuracy: 0.9931 - loss: 0.0133 - val_accuracy: 0.8125 - val_loss: 1.1371\n",
            "Epoch 70/100\n",
            "240/240 - 7s - 29ms/step - accuracy: 0.9931 - loss: 0.0134 - val_accuracy: 0.8250 - val_loss: 1.1229\n",
            "Epoch 71/100\n",
            "240/240 - 4s - 15ms/step - accuracy: 0.9889 - loss: 0.0128 - val_accuracy: 0.8250 - val_loss: 1.1276\n",
            "Epoch 72/100\n",
            "240/240 - 5s - 22ms/step - accuracy: 0.9903 - loss: 0.0129 - val_accuracy: 0.8125 - val_loss: 1.1692\n",
            "Epoch 73/100\n",
            "240/240 - 7s - 28ms/step - accuracy: 0.9889 - loss: 0.0130 - val_accuracy: 0.8125 - val_loss: 1.1903\n",
            "Epoch 74/100\n",
            "240/240 - 5s - 19ms/step - accuracy: 0.9917 - loss: 0.0131 - val_accuracy: 0.8250 - val_loss: 1.1721\n",
            "Epoch 75/100\n",
            "240/240 - 4s - 15ms/step - accuracy: 0.9917 - loss: 0.0128 - val_accuracy: 0.8250 - val_loss: 1.1610\n",
            "Epoch 76/100\n",
            "240/240 - 6s - 26ms/step - accuracy: 0.9903 - loss: 0.0129 - val_accuracy: 0.8250 - val_loss: 1.1829\n",
            "Epoch 77/100\n",
            "240/240 - 4s - 17ms/step - accuracy: 0.9903 - loss: 0.0128 - val_accuracy: 0.8250 - val_loss: 1.2068\n",
            "Epoch 78/100\n",
            "240/240 - 5s - 22ms/step - accuracy: 0.9889 - loss: 0.0127 - val_accuracy: 0.8250 - val_loss: 1.2025\n",
            "Epoch 79/100\n",
            "240/240 - 6s - 25ms/step - accuracy: 0.9903 - loss: 0.0130 - val_accuracy: 0.8250 - val_loss: 1.2062\n",
            "Epoch 80/100\n",
            "240/240 - 4s - 17ms/step - accuracy: 0.9889 - loss: 0.0128 - val_accuracy: 0.8250 - val_loss: 1.2207\n",
            "Epoch 81/100\n",
            "240/240 - 4s - 18ms/step - accuracy: 0.9917 - loss: 0.0126 - val_accuracy: 0.8250 - val_loss: 1.2277\n",
            "Epoch 82/100\n",
            "240/240 - 6s - 23ms/step - accuracy: 0.9917 - loss: 0.0126 - val_accuracy: 0.8250 - val_loss: 1.2796\n",
            "Epoch 83/100\n",
            "240/240 - 5s - 20ms/step - accuracy: 0.9917 - loss: 0.0126 - val_accuracy: 0.8250 - val_loss: 1.2498\n",
            "Epoch 84/100\n",
            "240/240 - 4s - 16ms/step - accuracy: 0.9889 - loss: 0.0129 - val_accuracy: 0.8250 - val_loss: 1.2909\n",
            "Epoch 85/100\n",
            "240/240 - 5s - 20ms/step - accuracy: 0.9903 - loss: 0.0128 - val_accuracy: 0.8250 - val_loss: 1.2661\n",
            "Epoch 86/100\n",
            "240/240 - 6s - 25ms/step - accuracy: 0.9931 - loss: 0.0127 - val_accuracy: 0.8250 - val_loss: 1.2826\n",
            "Epoch 87/100\n",
            "240/240 - 5s - 22ms/step - accuracy: 0.9889 - loss: 0.0127 - val_accuracy: 0.8250 - val_loss: 1.2744\n",
            "Epoch 88/100\n",
            "240/240 - 6s - 25ms/step - accuracy: 0.9917 - loss: 0.0125 - val_accuracy: 0.8250 - val_loss: 1.2842\n",
            "Epoch 89/100\n",
            "240/240 - 8s - 35ms/step - accuracy: 0.9903 - loss: 0.0126 - val_accuracy: 0.8250 - val_loss: 1.3053\n",
            "Epoch 90/100\n",
            "240/240 - 4s - 16ms/step - accuracy: 0.9917 - loss: 0.0123 - val_accuracy: 0.8250 - val_loss: 1.3051\n",
            "Epoch 91/100\n",
            "240/240 - 6s - 23ms/step - accuracy: 0.9889 - loss: 0.0124 - val_accuracy: 0.8250 - val_loss: 1.3061\n",
            "Epoch 92/100\n",
            "240/240 - 4s - 16ms/step - accuracy: 0.9889 - loss: 0.0124 - val_accuracy: 0.8250 - val_loss: 1.3266\n",
            "Epoch 93/100\n",
            "240/240 - 5s - 22ms/step - accuracy: 0.9903 - loss: 0.0123 - val_accuracy: 0.8250 - val_loss: 1.3341\n",
            "Epoch 94/100\n",
            "240/240 - 5s - 22ms/step - accuracy: 0.9889 - loss: 0.0124 - val_accuracy: 0.8250 - val_loss: 1.3508\n",
            "Epoch 95/100\n",
            "240/240 - 4s - 16ms/step - accuracy: 0.9903 - loss: 0.0123 - val_accuracy: 0.8250 - val_loss: 1.3309\n",
            "Epoch 96/100\n",
            "240/240 - 5s - 21ms/step - accuracy: 0.9889 - loss: 0.0123 - val_accuracy: 0.8250 - val_loss: 1.3425\n",
            "Epoch 97/100\n",
            "240/240 - 5s - 20ms/step - accuracy: 0.9917 - loss: 0.0123 - val_accuracy: 0.8250 - val_loss: 1.3631\n",
            "Epoch 98/100\n",
            "240/240 - 4s - 16ms/step - accuracy: 0.9889 - loss: 0.0120 - val_accuracy: 0.8250 - val_loss: 1.3601\n",
            "Epoch 99/100\n",
            "240/240 - 5s - 21ms/step - accuracy: 0.9903 - loss: 0.0121 - val_accuracy: 0.8250 - val_loss: 1.3732\n",
            "Epoch 100/100\n",
            "240/240 - 5s - 21ms/step - accuracy: 0.9875 - loss: 0.0124 - val_accuracy: 0.8250 - val_loss: 1.3941\n"
          ]
        },
        {
          "output_type": "execute_result",
          "data": {
            "text/plain": [
              "<keras.src.callbacks.history.History at 0x7967c1f25cf0>"
            ]
          },
          "metadata": {},
          "execution_count": 99
        }
      ]
    },
    {
      "cell_type": "code",
      "source": [
        "from sklearn.metrics import confusion_matrix, accuracy_score\n",
        "\n",
        "y_pred = model.predict(X_test)\n",
        "y_pred = (y_pred >= 0.5).astype(int)\n",
        "\n",
        "cm = confusion_matrix(y_test, y_pred)\n",
        "print(cm)\n",
        "accuracy_score(y_test, y_pred)"
      ],
      "metadata": {
        "colab": {
          "base_uri": "https://localhost:8080/"
        },
        "id": "OL25EXpm4mxD",
        "outputId": "cea065ae-1287-4de9-daa5-5a56c74d05a0"
      },
      "execution_count": 100,
      "outputs": [
        {
          "output_type": "stream",
          "name": "stdout",
          "text": [
            "\u001b[1m7/7\u001b[0m \u001b[32m━━━━━━━━━━━━━━━━━━━━\u001b[0m\u001b[37m\u001b[0m \u001b[1m0s\u001b[0m 16ms/step\n",
            "[[74 23]\n",
            " [30 73]]\n"
          ]
        },
        {
          "output_type": "execute_result",
          "data": {
            "text/plain": [
              "0.735"
            ]
          },
          "metadata": {},
          "execution_count": 100
        }
      ]
    }
  ]
}